{
 "cells": [
  {
   "cell_type": "markdown",
   "metadata": {},
   "source": [
    "# Data Wrangling project"
   ]
  },
  {
   "cell_type": "markdown",
   "metadata": {},
   "source": [
    "## Assessing"
   ]
  },
  {
   "cell_type": "code",
   "execution_count": 1,
   "metadata": {},
   "outputs": [],
   "source": [
    "import requests \n",
    "import pandas as pd\n",
    "import os\n",
    "import tweepy\n",
    "import json\n",
    "import numpy as np\n",
    "import re\n",
    "import math\n",
    "from pprint import pprint\n",
    "import matplotlib.pyplot as plt\n",
    "import seaborn as sns\n",
    "from scipy import stats\n",
    "import statsmodels.stats.stattools as stats_model\n",
    "from datetime import date\n",
    "import calendar\n",
    "%matplotlib inline "
   ]
  },
  {
   "cell_type": "markdown",
   "metadata": {},
   "source": [
    "### Acquiring image predictions"
   ]
  },
  {
   "cell_type": "code",
   "execution_count": 3,
   "metadata": {},
   "outputs": [],
   "source": [
    "url='https://d17h27t6h515a5.cloudfront.net/topher/2017/August/599fd2ad_image-predictions/image-predictions.tsv'\n",
    "#folder_name='Data-wrangling-project'\n",
    "response=requests.get(url)\n",
    "with open(url.split('/')[-1].strip('/'), mode='wb+') as file:\n",
    "    file.write(response.content)\n"
   ]
  },
  {
   "cell_type": "code",
   "execution_count": 89,
   "metadata": {},
   "outputs": [
    {
     "data": {
      "text/html": [
       "<div>\n",
       "<style scoped>\n",
       "    .dataframe tbody tr th:only-of-type {\n",
       "        vertical-align: middle;\n",
       "    }\n",
       "\n",
       "    .dataframe tbody tr th {\n",
       "        vertical-align: top;\n",
       "    }\n",
       "\n",
       "    .dataframe thead th {\n",
       "        text-align: right;\n",
       "    }\n",
       "</style>\n",
       "<table border=\"1\" class=\"dataframe\">\n",
       "  <thead>\n",
       "    <tr style=\"text-align: right;\">\n",
       "      <th></th>\n",
       "      <th>tweet_id</th>\n",
       "      <th>jpg_url</th>\n",
       "      <th>img_num</th>\n",
       "      <th>p1</th>\n",
       "      <th>p1_conf</th>\n",
       "      <th>p1_dog</th>\n",
       "      <th>p2</th>\n",
       "      <th>p2_conf</th>\n",
       "      <th>p2_dog</th>\n",
       "      <th>p3</th>\n",
       "      <th>p3_conf</th>\n",
       "      <th>p3_dog</th>\n",
       "    </tr>\n",
       "  </thead>\n",
       "  <tbody>\n",
       "    <tr>\n",
       "      <th>0</th>\n",
       "      <td>666020888022790149</td>\n",
       "      <td>https://pbs.twimg.com/media/CT4udn0WwAA0aMy.jpg</td>\n",
       "      <td>1</td>\n",
       "      <td>Welsh_springer_spaniel</td>\n",
       "      <td>0.465074</td>\n",
       "      <td>True</td>\n",
       "      <td>collie</td>\n",
       "      <td>0.156665</td>\n",
       "      <td>True</td>\n",
       "      <td>Shetland_sheepdog</td>\n",
       "      <td>0.061428</td>\n",
       "      <td>True</td>\n",
       "    </tr>\n",
       "    <tr>\n",
       "      <th>1</th>\n",
       "      <td>666029285002620928</td>\n",
       "      <td>https://pbs.twimg.com/media/CT42GRgUYAA5iDo.jpg</td>\n",
       "      <td>1</td>\n",
       "      <td>redbone</td>\n",
       "      <td>0.506826</td>\n",
       "      <td>True</td>\n",
       "      <td>miniature_pinscher</td>\n",
       "      <td>0.074192</td>\n",
       "      <td>True</td>\n",
       "      <td>Rhodesian_ridgeback</td>\n",
       "      <td>0.072010</td>\n",
       "      <td>True</td>\n",
       "    </tr>\n",
       "    <tr>\n",
       "      <th>2</th>\n",
       "      <td>666033412701032449</td>\n",
       "      <td>https://pbs.twimg.com/media/CT4521TWwAEvMyu.jpg</td>\n",
       "      <td>1</td>\n",
       "      <td>German_shepherd</td>\n",
       "      <td>0.596461</td>\n",
       "      <td>True</td>\n",
       "      <td>malinois</td>\n",
       "      <td>0.138584</td>\n",
       "      <td>True</td>\n",
       "      <td>bloodhound</td>\n",
       "      <td>0.116197</td>\n",
       "      <td>True</td>\n",
       "    </tr>\n",
       "  </tbody>\n",
       "</table>\n",
       "</div>"
      ],
      "text/plain": [
       "             tweet_id                                          jpg_url  \\\n",
       "0  666020888022790149  https://pbs.twimg.com/media/CT4udn0WwAA0aMy.jpg   \n",
       "1  666029285002620928  https://pbs.twimg.com/media/CT42GRgUYAA5iDo.jpg   \n",
       "2  666033412701032449  https://pbs.twimg.com/media/CT4521TWwAEvMyu.jpg   \n",
       "\n",
       "   img_num                      p1   p1_conf  p1_dog                  p2  \\\n",
       "0  1        Welsh_springer_spaniel  0.465074  True    collie               \n",
       "1  1        redbone                 0.506826  True    miniature_pinscher   \n",
       "2  1        German_shepherd         0.596461  True    malinois             \n",
       "\n",
       "    p2_conf  p2_dog                   p3   p3_conf  p3_dog  \n",
       "0  0.156665  True    Shetland_sheepdog    0.061428  True    \n",
       "1  0.074192  True    Rhodesian_ridgeback  0.072010  True    \n",
       "2  0.138584  True    bloodhound           0.116197  True    "
      ]
     },
     "execution_count": 89,
     "metadata": {},
     "output_type": "execute_result"
    }
   ],
   "source": [
    "predictions_uncleaned=pd.read_csv('image-predictions.tsv',sep='\\t')\n",
    "predictions_uncleaned.head(3)"
   ]
  },
  {
   "cell_type": "markdown",
   "metadata": {},
   "source": [
    "### Acquiring  tweets from weratedogs account"
   ]
  },
  {
   "cell_type": "code",
   "execution_count": 103,
   "metadata": {},
   "outputs": [
    {
     "name": "stdout",
     "output_type": "stream",
     "text": [
      "(2356, 17)\n"
     ]
    },
    {
     "data": {
      "text/html": [
       "<div>\n",
       "<style scoped>\n",
       "    .dataframe tbody tr th:only-of-type {\n",
       "        vertical-align: middle;\n",
       "    }\n",
       "\n",
       "    .dataframe tbody tr th {\n",
       "        vertical-align: top;\n",
       "    }\n",
       "\n",
       "    .dataframe thead th {\n",
       "        text-align: right;\n",
       "    }\n",
       "</style>\n",
       "<table border=\"1\" class=\"dataframe\">\n",
       "  <thead>\n",
       "    <tr style=\"text-align: right;\">\n",
       "      <th></th>\n",
       "      <th>tweet_id</th>\n",
       "      <th>in_reply_to_status_id</th>\n",
       "      <th>in_reply_to_user_id</th>\n",
       "      <th>timestamp</th>\n",
       "      <th>source</th>\n",
       "      <th>text</th>\n",
       "      <th>retweeted_status_id</th>\n",
       "      <th>retweeted_status_user_id</th>\n",
       "      <th>retweeted_status_timestamp</th>\n",
       "      <th>expanded_urls</th>\n",
       "      <th>rating_numerator</th>\n",
       "      <th>rating_denominator</th>\n",
       "      <th>name</th>\n",
       "      <th>doggo</th>\n",
       "      <th>floofer</th>\n",
       "      <th>pupper</th>\n",
       "      <th>puppo</th>\n",
       "    </tr>\n",
       "  </thead>\n",
       "  <tbody>\n",
       "    <tr>\n",
       "      <th>0</th>\n",
       "      <td>892420643555336193</td>\n",
       "      <td>NaN</td>\n",
       "      <td>NaN</td>\n",
       "      <td>2017-08-01 16:23:56 +0000</td>\n",
       "      <td>&lt;a href=\"http://twitter.com/download/iphone\" rel=\"nofollow\"&gt;Twitter for iPhone&lt;/a&gt;</td>\n",
       "      <td>This is Phineas. He's a mystical boy. Only ever appears in the hole of a donut. 13/10 https://t.co/MgUWQ76dJU</td>\n",
       "      <td>NaN</td>\n",
       "      <td>NaN</td>\n",
       "      <td>NaN</td>\n",
       "      <td>https://twitter.com/dog_rates/status/892420643555336193/photo/1</td>\n",
       "      <td>13</td>\n",
       "      <td>10</td>\n",
       "      <td>Phineas</td>\n",
       "      <td>None</td>\n",
       "      <td>None</td>\n",
       "      <td>None</td>\n",
       "      <td>None</td>\n",
       "    </tr>\n",
       "    <tr>\n",
       "      <th>1</th>\n",
       "      <td>892177421306343426</td>\n",
       "      <td>NaN</td>\n",
       "      <td>NaN</td>\n",
       "      <td>2017-08-01 00:17:27 +0000</td>\n",
       "      <td>&lt;a href=\"http://twitter.com/download/iphone\" rel=\"nofollow\"&gt;Twitter for iPhone&lt;/a&gt;</td>\n",
       "      <td>This is Tilly. She's just checking pup on you. Hopes you're doing ok. If not, she's available for pats, snugs, boops, the whole bit. 13/10 https://t.co/0Xxu71qeIV</td>\n",
       "      <td>NaN</td>\n",
       "      <td>NaN</td>\n",
       "      <td>NaN</td>\n",
       "      <td>https://twitter.com/dog_rates/status/892177421306343426/photo/1</td>\n",
       "      <td>13</td>\n",
       "      <td>10</td>\n",
       "      <td>Tilly</td>\n",
       "      <td>None</td>\n",
       "      <td>None</td>\n",
       "      <td>None</td>\n",
       "      <td>None</td>\n",
       "    </tr>\n",
       "    <tr>\n",
       "      <th>2</th>\n",
       "      <td>891815181378084864</td>\n",
       "      <td>NaN</td>\n",
       "      <td>NaN</td>\n",
       "      <td>2017-07-31 00:18:03 +0000</td>\n",
       "      <td>&lt;a href=\"http://twitter.com/download/iphone\" rel=\"nofollow\"&gt;Twitter for iPhone&lt;/a&gt;</td>\n",
       "      <td>This is Archie. He is a rare Norwegian Pouncing Corgo. Lives in the tall grass. You never know when one may strike. 12/10 https://t.co/wUnZnhtVJB</td>\n",
       "      <td>NaN</td>\n",
       "      <td>NaN</td>\n",
       "      <td>NaN</td>\n",
       "      <td>https://twitter.com/dog_rates/status/891815181378084864/photo/1</td>\n",
       "      <td>12</td>\n",
       "      <td>10</td>\n",
       "      <td>Archie</td>\n",
       "      <td>None</td>\n",
       "      <td>None</td>\n",
       "      <td>None</td>\n",
       "      <td>None</td>\n",
       "    </tr>\n",
       "  </tbody>\n",
       "</table>\n",
       "</div>"
      ],
      "text/plain": [
       "             tweet_id  in_reply_to_status_id  in_reply_to_user_id  \\\n",
       "0  892420643555336193 NaN                    NaN                    \n",
       "1  892177421306343426 NaN                    NaN                    \n",
       "2  891815181378084864 NaN                    NaN                    \n",
       "\n",
       "                   timestamp  \\\n",
       "0  2017-08-01 16:23:56 +0000   \n",
       "1  2017-08-01 00:17:27 +0000   \n",
       "2  2017-07-31 00:18:03 +0000   \n",
       "\n",
       "                                                                               source  \\\n",
       "0  <a href=\"http://twitter.com/download/iphone\" rel=\"nofollow\">Twitter for iPhone</a>   \n",
       "1  <a href=\"http://twitter.com/download/iphone\" rel=\"nofollow\">Twitter for iPhone</a>   \n",
       "2  <a href=\"http://twitter.com/download/iphone\" rel=\"nofollow\">Twitter for iPhone</a>   \n",
       "\n",
       "                                                                                                                                                                 text  \\\n",
       "0  This is Phineas. He's a mystical boy. Only ever appears in the hole of a donut. 13/10 https://t.co/MgUWQ76dJU                                                        \n",
       "1  This is Tilly. She's just checking pup on you. Hopes you're doing ok. If not, she's available for pats, snugs, boops, the whole bit. 13/10 https://t.co/0Xxu71qeIV   \n",
       "2  This is Archie. He is a rare Norwegian Pouncing Corgo. Lives in the tall grass. You never know when one may strike. 12/10 https://t.co/wUnZnhtVJB                    \n",
       "\n",
       "   retweeted_status_id  retweeted_status_user_id retweeted_status_timestamp  \\\n",
       "0 NaN                  NaN                        NaN                         \n",
       "1 NaN                  NaN                        NaN                         \n",
       "2 NaN                  NaN                        NaN                         \n",
       "\n",
       "                                                     expanded_urls  \\\n",
       "0  https://twitter.com/dog_rates/status/892420643555336193/photo/1   \n",
       "1  https://twitter.com/dog_rates/status/892177421306343426/photo/1   \n",
       "2  https://twitter.com/dog_rates/status/891815181378084864/photo/1   \n",
       "\n",
       "   rating_numerator  rating_denominator     name doggo floofer pupper puppo  \n",
       "0  13                10                  Phineas  None  None    None   None  \n",
       "1  13                10                  Tilly    None  None    None   None  \n",
       "2  12                10                  Archie   None  None    None   None  "
      ]
     },
     "execution_count": 103,
     "metadata": {},
     "output_type": "execute_result"
    }
   ],
   "source": [
    "arch_tweets_uncleaned=pd.read_csv('twitter-archive-enhanced.csv')\n",
    "print(arch_tweets_uncleaned.shape)\n",
    "arch_tweets_uncleaned.head(3)"
   ]
  },
  {
   "cell_type": "markdown",
   "metadata": {},
   "source": [
    "### Acquiring  tweets from weratedogs account from twitter \n",
    "\n",
    "#### below is the code i used to get tweet_json dataframe removing the tokens and access keys"
   ]
  },
  {
   "cell_type": "markdown",
   "metadata": {},
   "source": [
    "auth = tweepy.OAuthHandler(consumer_key, consumer_secret)\n",
    "auth.set_access_token(access_token, access_secret)\n",
    "\n",
    "api = tweepy.API(auth)\n",
    "\n",
    "tweets=[]                  \n",
    "\n",
    "for id in arch_tweets.tweet_id :\n",
    "                try:\n",
    "                    tweet = api.get_status(id,tweet_mode='extended',wait_on_rate_limit=True,wait_on_rate_limit_notify=True)\n",
    "                    tweets.append(tweet._json)\n",
    "                except Exception as e:\n",
    "                    print('error in '+ str(id))\n",
    "                    template = \"An exception of type {0} occurred. Arguments:\\n{1!r}\"\n",
    "                    message = template.format(type(e).__name__, e.args)\n",
    "                    print(message)\n",
    "                    \n",
    "with open('tweet_json.txt', 'w') as outfile:                            \n",
    "            outfile.write(json.dumps(tweets, indent=4))\n",
    "\n",
    "pre_df=[]\n",
    "with open('tweet_json.txt') as json_file:\n",
    "            data=json.load(json_file)\n",
    "            for each_dict in data :\n",
    "                tweet_id = each_dict['id']\n",
    "                text = each_dict['full_text']\n",
    "                favorite_count = each_dict['favorite_count']\n",
    "                retweet_count = each_dict['retweet_count']\n",
    "                created_at = each_dict['created_at']\n",
    "                in_reply_to_user_id_str=each_dict['in_reply_to_user_id_str']\n",
    "           \n",
    "                if each_dict['place']:\n",
    "                    country=each_dict['place']['country']\n",
    "                    place_type=each_dict['place']['place_type']\n",
    "                    name_city_country=each_dict['place']['full_name']\n",
    "                else :\n",
    "                    country = 'NaN'\n",
    "                    place_type= 'NaN'\n",
    "                    name_city_country= 'NaN'\n",
    "                pre_df.append({'tweet_id': str(tweet_id),\n",
    "                             'text': str(text),\n",
    "                             'favorite_count': int(favorite_count),\n",
    "                             'retweet_count': int(retweet_count),\n",
    "                             'created_at': created_at,\n",
    "                             'in_reply_to_user_id_str': str(in_reply_to_user_id_str),\n",
    "                              'country': str(country),\n",
    "                               'place_type' :str(place_type),\n",
    "                               'name_city_country':str(name_city_country)\n",
    "                            })\n",
    "                \n",
    "                tweet_json=pd.DataFrame(pre_df,columns=['tweet_id','text','favorite_count','retweet_count','created_at',\n",
    "                                                        'in_reply_to_user_id_str','country','place_type','name_city_country'])      \n",
    "        \n",
    "        \n",
    "        \n",
    "        \n",
    "        \n",
    "        \n"
   ]
  },
  {
   "cell_type": "markdown",
   "metadata": {},
   "source": [
    "### Assessing the twitter archive table"
   ]
  },
  {
   "cell_type": "code",
   "execution_count": 228,
   "metadata": {},
   "outputs": [
    {
     "data": {
      "text/html": [
       "<div>\n",
       "<style scoped>\n",
       "    .dataframe tbody tr th:only-of-type {\n",
       "        vertical-align: middle;\n",
       "    }\n",
       "\n",
       "    .dataframe tbody tr th {\n",
       "        vertical-align: top;\n",
       "    }\n",
       "\n",
       "    .dataframe thead th {\n",
       "        text-align: right;\n",
       "    }\n",
       "</style>\n",
       "<table border=\"1\" class=\"dataframe\">\n",
       "  <thead>\n",
       "    <tr style=\"text-align: right;\">\n",
       "      <th></th>\n",
       "      <th>tweet_id</th>\n",
       "      <th>in_reply_to_status_id</th>\n",
       "      <th>in_reply_to_user_id</th>\n",
       "      <th>timestamp</th>\n",
       "      <th>source</th>\n",
       "      <th>text</th>\n",
       "      <th>retweeted_status_id</th>\n",
       "      <th>retweeted_status_user_id</th>\n",
       "      <th>retweeted_status_timestamp</th>\n",
       "      <th>expanded_urls</th>\n",
       "      <th>rating_numerator</th>\n",
       "      <th>rating_denominator</th>\n",
       "      <th>name</th>\n",
       "      <th>doggo</th>\n",
       "      <th>floofer</th>\n",
       "      <th>pupper</th>\n",
       "      <th>puppo</th>\n",
       "    </tr>\n",
       "  </thead>\n",
       "  <tbody>\n",
       "    <tr>\n",
       "      <th>0</th>\n",
       "      <td>892420643555336193</td>\n",
       "      <td>NaN</td>\n",
       "      <td>NaN</td>\n",
       "      <td>2017-08-01 16:23:56 +0000</td>\n",
       "      <td>&lt;a href=\"http://twitter.com/download/iphone\" rel=\"nofollow\"&gt;Twitter for iPhone&lt;/a&gt;</td>\n",
       "      <td>This is Phineas. He's a mystical boy. Only ever appears in the hole of a donut. 13/10 https://t.co/MgUWQ76dJU</td>\n",
       "      <td>NaN</td>\n",
       "      <td>NaN</td>\n",
       "      <td>NaN</td>\n",
       "      <td>https://twitter.com/dog_rates/status/892420643555336193/photo/1</td>\n",
       "      <td>13</td>\n",
       "      <td>10</td>\n",
       "      <td>Phineas</td>\n",
       "      <td>None</td>\n",
       "      <td>None</td>\n",
       "      <td>None</td>\n",
       "      <td>None</td>\n",
       "    </tr>\n",
       "    <tr>\n",
       "      <th>1</th>\n",
       "      <td>892177421306343426</td>\n",
       "      <td>NaN</td>\n",
       "      <td>NaN</td>\n",
       "      <td>2017-08-01 00:17:27 +0000</td>\n",
       "      <td>&lt;a href=\"http://twitter.com/download/iphone\" rel=\"nofollow\"&gt;Twitter for iPhone&lt;/a&gt;</td>\n",
       "      <td>This is Tilly. She's just checking pup on you. Hopes you're doing ok. If not, she's available for pats, snugs, boops, the whole bit. 13/10 https://t.co/0Xxu71qeIV</td>\n",
       "      <td>NaN</td>\n",
       "      <td>NaN</td>\n",
       "      <td>NaN</td>\n",
       "      <td>https://twitter.com/dog_rates/status/892177421306343426/photo/1</td>\n",
       "      <td>13</td>\n",
       "      <td>10</td>\n",
       "      <td>Tilly</td>\n",
       "      <td>None</td>\n",
       "      <td>None</td>\n",
       "      <td>None</td>\n",
       "      <td>None</td>\n",
       "    </tr>\n",
       "  </tbody>\n",
       "</table>\n",
       "</div>"
      ],
      "text/plain": [
       "             tweet_id  in_reply_to_status_id  in_reply_to_user_id  \\\n",
       "0  892420643555336193 NaN                    NaN                    \n",
       "1  892177421306343426 NaN                    NaN                    \n",
       "\n",
       "                   timestamp  \\\n",
       "0  2017-08-01 16:23:56 +0000   \n",
       "1  2017-08-01 00:17:27 +0000   \n",
       "\n",
       "                                                                               source  \\\n",
       "0  <a href=\"http://twitter.com/download/iphone\" rel=\"nofollow\">Twitter for iPhone</a>   \n",
       "1  <a href=\"http://twitter.com/download/iphone\" rel=\"nofollow\">Twitter for iPhone</a>   \n",
       "\n",
       "                                                                                                                                                                 text  \\\n",
       "0  This is Phineas. He's a mystical boy. Only ever appears in the hole of a donut. 13/10 https://t.co/MgUWQ76dJU                                                        \n",
       "1  This is Tilly. She's just checking pup on you. Hopes you're doing ok. If not, she's available for pats, snugs, boops, the whole bit. 13/10 https://t.co/0Xxu71qeIV   \n",
       "\n",
       "   retweeted_status_id  retweeted_status_user_id retweeted_status_timestamp  \\\n",
       "0 NaN                  NaN                        NaN                         \n",
       "1 NaN                  NaN                        NaN                         \n",
       "\n",
       "                                                     expanded_urls  \\\n",
       "0  https://twitter.com/dog_rates/status/892420643555336193/photo/1   \n",
       "1  https://twitter.com/dog_rates/status/892177421306343426/photo/1   \n",
       "\n",
       "   rating_numerator  rating_denominator     name doggo floofer pupper puppo  \n",
       "0  13                10                  Phineas  None  None    None   None  \n",
       "1  13                10                  Tilly    None  None    None   None  "
      ]
     },
     "execution_count": 228,
     "metadata": {},
     "output_type": "execute_result"
    }
   ],
   "source": [
    "\n",
    "twitter_archive_uncleaned.head(2)"
   ]
  },
  {
   "cell_type": "code",
   "execution_count": 105,
   "metadata": {},
   "outputs": [
    {
     "data": {
      "text/plain": [
       "675     This is Rizzy. She smiles a lot. 12/10 contagious af https://t.co/TU4sZogVIq                                                                     \n",
       "1614    Say hello to Petrick. He's an Altostratus Floofer. Just had a run in with a trash bag. Groovy checkered floor. 11/10 https://t.co/rwW7z1JAOF     \n",
       "35      I have a new hero and his name is Howard. 14/10 https://t.co/gzLHboL7Sk                                                                          \n",
       "1254    Here's a brigade of puppers. All look very prepared for whatever happens next. 80/80 https://t.co/0eb7R1Om12                                     \n",
       "305     This is Lucy. She spent all morning overseeing the shoveling of the driveway. H*ckin hard work. 13/10 very good girl Lucy https://t.co/gA2GECjiQD\n",
       "388     This is Pawnd... James Pawnd. He's suave af. 13/10 would trust with my life https://t.co/YprN62Z74I                                              \n",
       "2019    This is just impressive I have nothing else to say. 11/10 https://t.co/LquQZiZjJP                                                                \n",
       "1870    holy shit 12/10 https://t.co/p6O8X93bTQ                                                                                                          \n",
       "1861    Rare shielded battle dog here. Very happy about abundance of lettuce. Painfully slow fetcher. Still petable. 5/10 https://t.co/C3tlKVq7eO        \n",
       "1196    This is Flávio (pronounced Baxter). He's a Benesnoop Cumberdog. Super rare. Symmetrical. 12/10 would pet so well https://t.co/fGgleFiBPq         \n",
       "Name: text, dtype: object"
      ]
     },
     "execution_count": 105,
     "metadata": {},
     "output_type": "execute_result"
    }
   ],
   "source": [
    "twitter_archive_uncleaned.text.sample(10)"
   ]
  },
  {
   "cell_type": "code",
   "execution_count": 106,
   "metadata": {},
   "outputs": [
    {
     "data": {
      "text/plain": [
       "2175"
      ]
     },
     "execution_count": 106,
     "metadata": {},
     "output_type": "execute_result"
    }
   ],
   "source": [
    "twitter_archive_uncleaned[twitter_archive_uncleaned['retweeted_status_user_id'].isnull() ].tweet_id.shape[0]"
   ]
  },
  {
   "cell_type": "code",
   "execution_count": 107,
   "metadata": {},
   "outputs": [
    {
     "name": "stdout",
     "output_type": "stream",
     "text": [
      "<class 'pandas.core.frame.DataFrame'>\n",
      "RangeIndex: 2356 entries, 0 to 2355\n",
      "Data columns (total 17 columns):\n",
      "tweet_id                      2356 non-null int64\n",
      "in_reply_to_status_id         78 non-null float64\n",
      "in_reply_to_user_id           78 non-null float64\n",
      "timestamp                     2356 non-null object\n",
      "source                        2356 non-null object\n",
      "text                          2356 non-null object\n",
      "retweeted_status_id           181 non-null float64\n",
      "retweeted_status_user_id      181 non-null float64\n",
      "retweeted_status_timestamp    181 non-null object\n",
      "expanded_urls                 2297 non-null object\n",
      "rating_numerator              2356 non-null int64\n",
      "rating_denominator            2356 non-null int64\n",
      "name                          2356 non-null object\n",
      "doggo                         2356 non-null object\n",
      "floofer                       2356 non-null object\n",
      "pupper                        2356 non-null object\n",
      "puppo                         2356 non-null object\n",
      "dtypes: float64(4), int64(3), object(10)\n",
      "memory usage: 313.0+ KB\n"
     ]
    }
   ],
   "source": [
    "twitter_archive_uncleaned.info()"
   ]
  },
  {
   "cell_type": "markdown",
   "metadata": {},
   "source": [
    "Quality: issues with content :\n",
    "`twitter-archive-enhanced table` \n",
    "* remove the re-tweeted tweets also remove unused columns that refer to the re-tweets ( in_reply_to_status_id ,retweeted_status_id,retweeted_status_user_id,retweeted_status_timestamp )\n",
    "\n",
    "* change the None values in (doggo,floofer,pupper,puppo) columns into NaNs *\n",
    "\n",
    "* column names can be more expressive (source) also values within sorce column can be expressed in single string not url  *\n",
    "* for the timestamp it should be expressed in datetime format \n",
    "* examining scores that are higher than 14 , detect whether they correspond to the denominator or they are not actually scores \n",
    "\n",
    "Tidiness :\n",
    "* each column should contribute to a single observation , that is not the case in the last 4 columns \n"
   ]
  },
  {
   "cell_type": "markdown",
   "metadata": {},
   "source": [
    "### Assessing the retrieved tweets table"
   ]
  },
  {
   "cell_type": "code",
   "execution_count": 108,
   "metadata": {},
   "outputs": [
    {
     "data": {
      "text/html": [
       "<div>\n",
       "<style scoped>\n",
       "    .dataframe tbody tr th:only-of-type {\n",
       "        vertical-align: middle;\n",
       "    }\n",
       "\n",
       "    .dataframe tbody tr th {\n",
       "        vertical-align: top;\n",
       "    }\n",
       "\n",
       "    .dataframe thead th {\n",
       "        text-align: right;\n",
       "    }\n",
       "</style>\n",
       "<table border=\"1\" class=\"dataframe\">\n",
       "  <thead>\n",
       "    <tr style=\"text-align: right;\">\n",
       "      <th></th>\n",
       "      <th>tweet_id</th>\n",
       "      <th>text</th>\n",
       "      <th>favorite_count</th>\n",
       "      <th>retweet_count</th>\n",
       "      <th>created_at</th>\n",
       "      <th>in_reply_to_user_id_str</th>\n",
       "      <th>country</th>\n",
       "      <th>place_type</th>\n",
       "      <th>name_city_country</th>\n",
       "    </tr>\n",
       "  </thead>\n",
       "  <tbody>\n",
       "    <tr>\n",
       "      <th>0</th>\n",
       "      <td>892420643555336193</td>\n",
       "      <td>This is Phineas. He's a mystical boy. Only ever appears in the hole of a donut. 13/10 https://t.co/MgUWQ76dJU</td>\n",
       "      <td>38221</td>\n",
       "      <td>8374</td>\n",
       "      <td>Tue Aug 01 16:23:56 +0000 2017</td>\n",
       "      <td>None</td>\n",
       "      <td>NaN</td>\n",
       "      <td>NaN</td>\n",
       "      <td>NaN</td>\n",
       "    </tr>\n",
       "  </tbody>\n",
       "</table>\n",
       "</div>"
      ],
      "text/plain": [
       "             tweet_id  \\\n",
       "0  892420643555336193   \n",
       "\n",
       "                                                                                                            text  \\\n",
       "0  This is Phineas. He's a mystical boy. Only ever appears in the hole of a donut. 13/10 https://t.co/MgUWQ76dJU   \n",
       "\n",
       "   favorite_count  retweet_count                      created_at  \\\n",
       "0  38221           8374           Tue Aug 01 16:23:56 +0000 2017   \n",
       "\n",
       "  in_reply_to_user_id_str country place_type name_city_country  \n",
       "0  None                    NaN     NaN        NaN               "
      ]
     },
     "execution_count": 108,
     "metadata": {},
     "output_type": "execute_result"
    }
   ],
   "source": [
    "tweet_info_uncleaned=pd.read_csv('tweet_json.csv')\n",
    "tweet_info_uncleaned.head(1)"
   ]
  },
  {
   "cell_type": "code",
   "execution_count": 109,
   "metadata": {},
   "outputs": [
    {
     "data": {
      "text/html": [
       "<div>\n",
       "<style scoped>\n",
       "    .dataframe tbody tr th:only-of-type {\n",
       "        vertical-align: middle;\n",
       "    }\n",
       "\n",
       "    .dataframe tbody tr th {\n",
       "        vertical-align: top;\n",
       "    }\n",
       "\n",
       "    .dataframe thead th {\n",
       "        text-align: right;\n",
       "    }\n",
       "</style>\n",
       "<table border=\"1\" class=\"dataframe\">\n",
       "  <thead>\n",
       "    <tr style=\"text-align: right;\">\n",
       "      <th></th>\n",
       "      <th>tweet_id</th>\n",
       "      <th>text</th>\n",
       "      <th>favorite_count</th>\n",
       "      <th>retweet_count</th>\n",
       "      <th>created_at</th>\n",
       "      <th>in_reply_to_user_id_str</th>\n",
       "      <th>country</th>\n",
       "      <th>place_type</th>\n",
       "      <th>name_city_country</th>\n",
       "    </tr>\n",
       "  </thead>\n",
       "  <tbody>\n",
       "    <tr>\n",
       "      <th>555</th>\n",
       "      <td>787397959788929025</td>\n",
       "      <td>This is Moose. He's rather h*ckin dangerous (you can tell by the collar). 11/10 would still attempt to snug https://t.co/lHVHGdDzb3</td>\n",
       "      <td>11665</td>\n",
       "      <td>3128</td>\n",
       "      <td>Sat Oct 15 21:01:17 +0000 2016</td>\n",
       "      <td>None</td>\n",
       "      <td>NaN</td>\n",
       "      <td>NaN</td>\n",
       "      <td>NaN</td>\n",
       "    </tr>\n",
       "    <tr>\n",
       "      <th>1967</th>\n",
       "      <td>669753178989142016</td>\n",
       "      <td>Meet Chester. He just ate a lot and now he can't move. 10/10 that's going to be me in about 17 hours https://t.co/63jh1tYZa5</td>\n",
       "      <td>831</td>\n",
       "      <td>416</td>\n",
       "      <td>Thu Nov 26 05:42:55 +0000 2015</td>\n",
       "      <td>None</td>\n",
       "      <td>NaN</td>\n",
       "      <td>NaN</td>\n",
       "      <td>NaN</td>\n",
       "    </tr>\n",
       "    <tr>\n",
       "      <th>874</th>\n",
       "      <td>742465774154047488</td>\n",
       "      <td>Was just informed about this hero pupper and others like her. Another 14/10, would be an absolute honor to pet https://t.co/hBTzPmj36Z</td>\n",
       "      <td>7665</td>\n",
       "      <td>4176</td>\n",
       "      <td>Mon Jun 13 21:16:49 +0000 2016</td>\n",
       "      <td>None</td>\n",
       "      <td>NaN</td>\n",
       "      <td>NaN</td>\n",
       "      <td>NaN</td>\n",
       "    </tr>\n",
       "    <tr>\n",
       "      <th>271</th>\n",
       "      <td>834167344700198914</td>\n",
       "      <td>This is Sunshine. She doesn't believe in personal space. Eyes pretty far apart for a dog. Has horns (whoa). 11/10 would pet with wonder https://t.co/o3bhLguymB</td>\n",
       "      <td>16641</td>\n",
       "      <td>3932</td>\n",
       "      <td>Tue Feb 21 22:26:07 +0000 2017</td>\n",
       "      <td>None</td>\n",
       "      <td>NaN</td>\n",
       "      <td>NaN</td>\n",
       "      <td>NaN</td>\n",
       "    </tr>\n",
       "    <tr>\n",
       "      <th>1062</th>\n",
       "      <td>712065007010385924</td>\n",
       "      <td>This is Chester. He's clearly in charge of the other dogs. Weird ass paws. Not fit for fetch. 6/10 would still pet https://t.co/o2GvskrhHt</td>\n",
       "      <td>2378</td>\n",
       "      <td>667</td>\n",
       "      <td>Mon Mar 21 23:55:01 +0000 2016</td>\n",
       "      <td>None</td>\n",
       "      <td>NaN</td>\n",
       "      <td>NaN</td>\n",
       "      <td>NaN</td>\n",
       "    </tr>\n",
       "  </tbody>\n",
       "</table>\n",
       "</div>"
      ],
      "text/plain": [
       "                tweet_id  \\\n",
       "555   787397959788929025   \n",
       "1967  669753178989142016   \n",
       "874   742465774154047488   \n",
       "271   834167344700198914   \n",
       "1062  712065007010385924   \n",
       "\n",
       "                                                                                                                                                                 text  \\\n",
       "555   This is Moose. He's rather h*ckin dangerous (you can tell by the collar). 11/10 would still attempt to snug https://t.co/lHVHGdDzb3                               \n",
       "1967  Meet Chester. He just ate a lot and now he can't move. 10/10 that's going to be me in about 17 hours https://t.co/63jh1tYZa5                                      \n",
       "874   Was just informed about this hero pupper and others like her. Another 14/10, would be an absolute honor to pet https://t.co/hBTzPmj36Z                            \n",
       "271   This is Sunshine. She doesn't believe in personal space. Eyes pretty far apart for a dog. Has horns (whoa). 11/10 would pet with wonder https://t.co/o3bhLguymB   \n",
       "1062  This is Chester. He's clearly in charge of the other dogs. Weird ass paws. Not fit for fetch. 6/10 would still pet https://t.co/o2GvskrhHt                        \n",
       "\n",
       "      favorite_count  retweet_count                      created_at  \\\n",
       "555   11665           3128           Sat Oct 15 21:01:17 +0000 2016   \n",
       "1967  831             416            Thu Nov 26 05:42:55 +0000 2015   \n",
       "874   7665            4176           Mon Jun 13 21:16:49 +0000 2016   \n",
       "271   16641           3932           Tue Feb 21 22:26:07 +0000 2017   \n",
       "1062  2378            667            Mon Mar 21 23:55:01 +0000 2016   \n",
       "\n",
       "     in_reply_to_user_id_str country place_type name_city_country  \n",
       "555   None                    NaN     NaN        NaN               \n",
       "1967  None                    NaN     NaN        NaN               \n",
       "874   None                    NaN     NaN        NaN               \n",
       "271   None                    NaN     NaN        NaN               \n",
       "1062  None                    NaN     NaN        NaN               "
      ]
     },
     "execution_count": 109,
     "metadata": {},
     "output_type": "execute_result"
    }
   ],
   "source": [
    "tweet_info_uncleaned.sample(5)"
   ]
  },
  {
   "cell_type": "code",
   "execution_count": 110,
   "metadata": {},
   "outputs": [
    {
     "data": {
      "text/plain": [
       "tweet_id                   682788441537560576                                                                                                            \n",
       "text                       Happy New Year from your fav holiday squad! 🎉 12/10 for all\\r\\n\\r\\nHere's to a pupper-filled year 🍻🐶🐶🐶 https://t.co/ZSdEj59FGf\n",
       "favorite_count             2611                                                                                                                          \n",
       "retweet_count              1201                                                                                                                          \n",
       "created_at                 Fri Jan 01 05:00:24 +0000 2016                                                                                                \n",
       "in_reply_to_user_id_str    None                                                                                                                          \n",
       "country                    NaN                                                                                                                           \n",
       "place_type                 NaN                                                                                                                           \n",
       "name_city_country          NaN                                                                                                                           \n",
       "Name: 1484, dtype: object"
      ]
     },
     "execution_count": 110,
     "metadata": {},
     "output_type": "execute_result"
    }
   ],
   "source": [
    "tweet_info_uncleaned.loc[1484,]"
   ]
  },
  {
   "cell_type": "code",
   "execution_count": 111,
   "metadata": {},
   "outputs": [
    {
     "data": {
      "text/html": [
       "<div>\n",
       "<style scoped>\n",
       "    .dataframe tbody tr th:only-of-type {\n",
       "        vertical-align: middle;\n",
       "    }\n",
       "\n",
       "    .dataframe tbody tr th {\n",
       "        vertical-align: top;\n",
       "    }\n",
       "\n",
       "    .dataframe thead th {\n",
       "        text-align: right;\n",
       "    }\n",
       "</style>\n",
       "<table border=\"1\" class=\"dataframe\">\n",
       "  <thead>\n",
       "    <tr style=\"text-align: right;\">\n",
       "      <th></th>\n",
       "      <th>tweet_id</th>\n",
       "      <th>text</th>\n",
       "      <th>favorite_count</th>\n",
       "      <th>retweet_count</th>\n",
       "      <th>created_at</th>\n",
       "      <th>in_reply_to_user_id_str</th>\n",
       "      <th>country</th>\n",
       "      <th>place_type</th>\n",
       "      <th>name_city_country</th>\n",
       "    </tr>\n",
       "  </thead>\n",
       "  <tbody>\n",
       "    <tr>\n",
       "      <th>696</th>\n",
       "      <td>763183847194451968</td>\n",
       "      <td>This is Clark. He collects teddy bears. It's absolutely h*ckin horrifying. 8/10 please stop this Clark https://t.co/EDMcwt86fU</td>\n",
       "      <td>5756</td>\n",
       "      <td>1605</td>\n",
       "      <td>Wed Aug 10 01:23:03 +0000 2016</td>\n",
       "      <td>None</td>\n",
       "      <td>United States</td>\n",
       "      <td>city</td>\n",
       "      <td>Clifton, NJ</td>\n",
       "    </tr>\n",
       "  </tbody>\n",
       "</table>\n",
       "</div>"
      ],
      "text/plain": [
       "               tweet_id  \\\n",
       "696  763183847194451968   \n",
       "\n",
       "                                                                                                                               text  \\\n",
       "696  This is Clark. He collects teddy bears. It's absolutely h*ckin horrifying. 8/10 please stop this Clark https://t.co/EDMcwt86fU   \n",
       "\n",
       "     favorite_count  retweet_count                      created_at  \\\n",
       "696  5756            1605           Wed Aug 10 01:23:03 +0000 2016   \n",
       "\n",
       "    in_reply_to_user_id_str        country place_type name_city_country  \n",
       "696  None                    United States  city       Clifton, NJ       "
      ]
     },
     "execution_count": 111,
     "metadata": {},
     "output_type": "execute_result"
    }
   ],
   "source": [
    "tweet_info_uncleaned[~(tweet_info_uncleaned['country'].isnull())]"
   ]
  },
  {
   "cell_type": "code",
   "execution_count": 112,
   "metadata": {},
   "outputs": [
    {
     "name": "stdout",
     "output_type": "stream",
     "text": [
      "<class 'pandas.core.frame.DataFrame'>\n",
      "RangeIndex: 2174 entries, 0 to 2173\n",
      "Data columns (total 9 columns):\n",
      "tweet_id                   2174 non-null int64\n",
      "text                       2174 non-null object\n",
      "favorite_count             2174 non-null int64\n",
      "retweet_count              2174 non-null int64\n",
      "created_at                 2174 non-null object\n",
      "in_reply_to_user_id_str    2174 non-null object\n",
      "country                    1 non-null object\n",
      "place_type                 1 non-null object\n",
      "name_city_country          1 non-null object\n",
      "dtypes: int64(3), object(6)\n",
      "memory usage: 152.9+ KB\n"
     ]
    }
   ],
   "source": [
    "tweet_info_uncleaned.info()"
   ]
  },
  {
   "cell_type": "code",
   "execution_count": 113,
   "metadata": {},
   "outputs": [
    {
     "data": {
      "text/plain": [
       "77"
      ]
     },
     "execution_count": 113,
     "metadata": {},
     "output_type": "execute_result"
    }
   ],
   "source": [
    "tweet_info_uncleaned[~(tweet_info_uncleaned['in_reply_to_user_id_str']=='None')].tweet_id.count()"
   ]
  },
  {
   "cell_type": "markdown",
   "metadata": {},
   "source": [
    "Quality : `tweet_info` table :\n",
    "\n",
    "* usages country,place_type,name_city_country is not efficient as there is too much missing data in the columns\n",
    "* remove re-tweeted tweets (total of 77 tweets) \n",
    "* as we will merge the tweet_info table with archived tweets on only columns(tweet_id,favorite_county,retweet_count) there is no need for furthur adjusment\n",
    "\n",
    "tidiness : `tweet_info` table :\n",
    "\n",
    "* merge df -->(archieved tweets table) and the table acquired from twitter (tweet_info) ,columns(favorite_county,retweet_count)of tweet_info to df table *\n"
   ]
  },
  {
   "cell_type": "markdown",
   "metadata": {},
   "source": [
    "### Assessing the predictions table"
   ]
  },
  {
   "cell_type": "code",
   "execution_count": 90,
   "metadata": {},
   "outputs": [
    {
     "data": {
      "text/html": [
       "<div>\n",
       "<style scoped>\n",
       "    .dataframe tbody tr th:only-of-type {\n",
       "        vertical-align: middle;\n",
       "    }\n",
       "\n",
       "    .dataframe tbody tr th {\n",
       "        vertical-align: top;\n",
       "    }\n",
       "\n",
       "    .dataframe thead th {\n",
       "        text-align: right;\n",
       "    }\n",
       "</style>\n",
       "<table border=\"1\" class=\"dataframe\">\n",
       "  <thead>\n",
       "    <tr style=\"text-align: right;\">\n",
       "      <th></th>\n",
       "      <th>tweet_id</th>\n",
       "      <th>jpg_url</th>\n",
       "      <th>img_num</th>\n",
       "      <th>p1</th>\n",
       "      <th>p1_conf</th>\n",
       "      <th>p1_dog</th>\n",
       "      <th>p2</th>\n",
       "      <th>p2_conf</th>\n",
       "      <th>p2_dog</th>\n",
       "      <th>p3</th>\n",
       "      <th>p3_conf</th>\n",
       "      <th>p3_dog</th>\n",
       "    </tr>\n",
       "  </thead>\n",
       "  <tbody>\n",
       "    <tr>\n",
       "      <th>0</th>\n",
       "      <td>666020888022790149</td>\n",
       "      <td>https://pbs.twimg.com/media/CT4udn0WwAA0aMy.jpg</td>\n",
       "      <td>1</td>\n",
       "      <td>Welsh_springer_spaniel</td>\n",
       "      <td>0.465074</td>\n",
       "      <td>True</td>\n",
       "      <td>collie</td>\n",
       "      <td>0.156665</td>\n",
       "      <td>True</td>\n",
       "      <td>Shetland_sheepdog</td>\n",
       "      <td>0.061428</td>\n",
       "      <td>True</td>\n",
       "    </tr>\n",
       "    <tr>\n",
       "      <th>1</th>\n",
       "      <td>666029285002620928</td>\n",
       "      <td>https://pbs.twimg.com/media/CT42GRgUYAA5iDo.jpg</td>\n",
       "      <td>1</td>\n",
       "      <td>redbone</td>\n",
       "      <td>0.506826</td>\n",
       "      <td>True</td>\n",
       "      <td>miniature_pinscher</td>\n",
       "      <td>0.074192</td>\n",
       "      <td>True</td>\n",
       "      <td>Rhodesian_ridgeback</td>\n",
       "      <td>0.072010</td>\n",
       "      <td>True</td>\n",
       "    </tr>\n",
       "    <tr>\n",
       "      <th>2</th>\n",
       "      <td>666033412701032449</td>\n",
       "      <td>https://pbs.twimg.com/media/CT4521TWwAEvMyu.jpg</td>\n",
       "      <td>1</td>\n",
       "      <td>German_shepherd</td>\n",
       "      <td>0.596461</td>\n",
       "      <td>True</td>\n",
       "      <td>malinois</td>\n",
       "      <td>0.138584</td>\n",
       "      <td>True</td>\n",
       "      <td>bloodhound</td>\n",
       "      <td>0.116197</td>\n",
       "      <td>True</td>\n",
       "    </tr>\n",
       "  </tbody>\n",
       "</table>\n",
       "</div>"
      ],
      "text/plain": [
       "             tweet_id                                          jpg_url  \\\n",
       "0  666020888022790149  https://pbs.twimg.com/media/CT4udn0WwAA0aMy.jpg   \n",
       "1  666029285002620928  https://pbs.twimg.com/media/CT42GRgUYAA5iDo.jpg   \n",
       "2  666033412701032449  https://pbs.twimg.com/media/CT4521TWwAEvMyu.jpg   \n",
       "\n",
       "   img_num                      p1   p1_conf  p1_dog                  p2  \\\n",
       "0  1        Welsh_springer_spaniel  0.465074  True    collie               \n",
       "1  1        redbone                 0.506826  True    miniature_pinscher   \n",
       "2  1        German_shepherd         0.596461  True    malinois             \n",
       "\n",
       "    p2_conf  p2_dog                   p3   p3_conf  p3_dog  \n",
       "0  0.156665  True    Shetland_sheepdog    0.061428  True    \n",
       "1  0.074192  True    Rhodesian_ridgeback  0.072010  True    \n",
       "2  0.138584  True    bloodhound           0.116197  True    "
      ]
     },
     "execution_count": 90,
     "metadata": {},
     "output_type": "execute_result"
    }
   ],
   "source": [
    "\n",
    "predictions_uncleaned.head(3)"
   ]
  },
  {
   "cell_type": "markdown",
   "metadata": {},
   "source": [
    "* tweet_id is the last part of the tweet URL after \"status/\" → https://twitter.com/dog_rates/status/889531135344209921\n",
    "* p1 is the algorithm's #1 prediction for the image in the tweet → golden retriever\n",
    "* p1_conf is how confident the algorithm is in its #1 prediction → 95%\n",
    "* p1_dog is whether or not the #1 prediction is a breed of dog → TRUE\n",
    "* p2 is the algorithm's second most likely prediction → Labrador retriever\n",
    "* p2_conf is how confident the algorithm is in its #2 prediction → 1%\n",
    "* p2_dog is whether or not the #2 prediction is a breed of dog → TRUE etc."
   ]
  },
  {
   "cell_type": "code",
   "execution_count": 91,
   "metadata": {},
   "outputs": [
    {
     "data": {
      "text/html": [
       "<div>\n",
       "<style scoped>\n",
       "    .dataframe tbody tr th:only-of-type {\n",
       "        vertical-align: middle;\n",
       "    }\n",
       "\n",
       "    .dataframe tbody tr th {\n",
       "        vertical-align: top;\n",
       "    }\n",
       "\n",
       "    .dataframe thead th {\n",
       "        text-align: right;\n",
       "    }\n",
       "</style>\n",
       "<table border=\"1\" class=\"dataframe\">\n",
       "  <thead>\n",
       "    <tr style=\"text-align: right;\">\n",
       "      <th></th>\n",
       "      <th>tweet_id</th>\n",
       "      <th>jpg_url</th>\n",
       "      <th>img_num</th>\n",
       "      <th>p1</th>\n",
       "      <th>p1_conf</th>\n",
       "      <th>p1_dog</th>\n",
       "      <th>p2</th>\n",
       "      <th>p2_conf</th>\n",
       "      <th>p2_dog</th>\n",
       "      <th>p3</th>\n",
       "      <th>p3_conf</th>\n",
       "      <th>p3_dog</th>\n",
       "    </tr>\n",
       "  </thead>\n",
       "  <tbody>\n",
       "    <tr>\n",
       "      <th>1271</th>\n",
       "      <td>749996283729883136</td>\n",
       "      <td>https://pbs.twimg.com/media/CmfoyrrW8AA8v7w.jpg</td>\n",
       "      <td>1</td>\n",
       "      <td>Old_English_sheepdog</td>\n",
       "      <td>0.515319</td>\n",
       "      <td>True</td>\n",
       "      <td>West_Highland_white_terrier</td>\n",
       "      <td>0.151040</td>\n",
       "      <td>True</td>\n",
       "      <td>soft-coated_wheaten_terrier</td>\n",
       "      <td>0.056420</td>\n",
       "      <td>True</td>\n",
       "    </tr>\n",
       "    <tr>\n",
       "      <th>1111</th>\n",
       "      <td>724046343203856385</td>\n",
       "      <td>https://pbs.twimg.com/media/CgxUTS_XEAAC0pv.jpg</td>\n",
       "      <td>1</td>\n",
       "      <td>boxer</td>\n",
       "      <td>0.826272</td>\n",
       "      <td>True</td>\n",
       "      <td>bull_mastiff</td>\n",
       "      <td>0.158595</td>\n",
       "      <td>True</td>\n",
       "      <td>Great_Dane</td>\n",
       "      <td>0.011859</td>\n",
       "      <td>True</td>\n",
       "    </tr>\n",
       "    <tr>\n",
       "      <th>1043</th>\n",
       "      <td>712668654853337088</td>\n",
       "      <td>https://pbs.twimg.com/media/CePoVTyWsAQEz1g.jpg</td>\n",
       "      <td>1</td>\n",
       "      <td>Labrador_retriever</td>\n",
       "      <td>0.829058</td>\n",
       "      <td>True</td>\n",
       "      <td>golden_retriever</td>\n",
       "      <td>0.038664</td>\n",
       "      <td>True</td>\n",
       "      <td>Chihuahua</td>\n",
       "      <td>0.026221</td>\n",
       "      <td>True</td>\n",
       "    </tr>\n",
       "    <tr>\n",
       "      <th>39</th>\n",
       "      <td>666649482315059201</td>\n",
       "      <td>https://pbs.twimg.com/media/CUBqKnLWwAA5OQB.jpg</td>\n",
       "      <td>1</td>\n",
       "      <td>Border_collie</td>\n",
       "      <td>0.447803</td>\n",
       "      <td>True</td>\n",
       "      <td>English_springer</td>\n",
       "      <td>0.170497</td>\n",
       "      <td>True</td>\n",
       "      <td>collie</td>\n",
       "      <td>0.139206</td>\n",
       "      <td>True</td>\n",
       "    </tr>\n",
       "    <tr>\n",
       "      <th>257</th>\n",
       "      <td>670778058496974848</td>\n",
       "      <td>https://pbs.twimg.com/media/CU8VFhuVAAAQW8B.jpg</td>\n",
       "      <td>1</td>\n",
       "      <td>pug</td>\n",
       "      <td>0.776612</td>\n",
       "      <td>True</td>\n",
       "      <td>Brabancon_griffon</td>\n",
       "      <td>0.112032</td>\n",
       "      <td>True</td>\n",
       "      <td>boxer</td>\n",
       "      <td>0.039051</td>\n",
       "      <td>True</td>\n",
       "    </tr>\n",
       "  </tbody>\n",
       "</table>\n",
       "</div>"
      ],
      "text/plain": [
       "                tweet_id                                          jpg_url  \\\n",
       "1271  749996283729883136  https://pbs.twimg.com/media/CmfoyrrW8AA8v7w.jpg   \n",
       "1111  724046343203856385  https://pbs.twimg.com/media/CgxUTS_XEAAC0pv.jpg   \n",
       "1043  712668654853337088  https://pbs.twimg.com/media/CePoVTyWsAQEz1g.jpg   \n",
       "39    666649482315059201  https://pbs.twimg.com/media/CUBqKnLWwAA5OQB.jpg   \n",
       "257   670778058496974848  https://pbs.twimg.com/media/CU8VFhuVAAAQW8B.jpg   \n",
       "\n",
       "      img_num                    p1   p1_conf  p1_dog  \\\n",
       "1271  1        Old_English_sheepdog  0.515319  True     \n",
       "1111  1        boxer                 0.826272  True     \n",
       "1043  1        Labrador_retriever    0.829058  True     \n",
       "39    1        Border_collie         0.447803  True     \n",
       "257   1        pug                   0.776612  True     \n",
       "\n",
       "                               p2   p2_conf  p2_dog  \\\n",
       "1271  West_Highland_white_terrier  0.151040  True     \n",
       "1111  bull_mastiff                 0.158595  True     \n",
       "1043  golden_retriever             0.038664  True     \n",
       "39    English_springer             0.170497  True     \n",
       "257   Brabancon_griffon            0.112032  True     \n",
       "\n",
       "                               p3   p3_conf  p3_dog  \n",
       "1271  soft-coated_wheaten_terrier  0.056420  True    \n",
       "1111  Great_Dane                   0.011859  True    \n",
       "1043  Chihuahua                    0.026221  True    \n",
       "39    collie                       0.139206  True    \n",
       "257   boxer                        0.039051  True    "
      ]
     },
     "execution_count": 91,
     "metadata": {},
     "output_type": "execute_result"
    }
   ],
   "source": [
    "predictions_uncleaned.sample(5)"
   ]
  },
  {
   "cell_type": "code",
   "execution_count": 92,
   "metadata": {},
   "outputs": [
    {
     "data": {
      "text/plain": [
       "1    1780\n",
       "2    198 \n",
       "3    66  \n",
       "4    31  \n",
       "Name: img_num, dtype: int64"
      ]
     },
     "execution_count": 92,
     "metadata": {},
     "output_type": "execute_result"
    }
   ],
   "source": [
    "predictions_uncleaned.img_num.value_counts()"
   ]
  },
  {
   "cell_type": "code",
   "execution_count": 93,
   "metadata": {},
   "outputs": [
    {
     "data": {
      "text/plain": [
       "golden_retriever               150\n",
       "Labrador_retriever             100\n",
       "Pembroke                       89 \n",
       "Chihuahua                      83 \n",
       "pug                            57 \n",
       "chow                           44 \n",
       "Samoyed                        43 \n",
       "toy_poodle                     39 \n",
       "Pomeranian                     38 \n",
       "malamute                       30 \n",
       "cocker_spaniel                 30 \n",
       "French_bulldog                 26 \n",
       "Chesapeake_Bay_retriever       23 \n",
       "miniature_pinscher             23 \n",
       "Siberian_husky                 20 \n",
       "Staffordshire_bullterrier      20 \n",
       "German_shepherd                20 \n",
       "Cardigan                       19 \n",
       "Shetland_sheepdog              18 \n",
       "Maltese_dog                    18 \n",
       "beagle                         18 \n",
       "Eskimo_dog                     18 \n",
       "Lakeland_terrier               17 \n",
       "Rottweiler                     17 \n",
       "Shih-Tzu                       17 \n",
       "kuvasz                         16 \n",
       "Italian_greyhound              16 \n",
       "Great_Pyrenees                 14 \n",
       "West_Highland_white_terrier    14 \n",
       "Pekinese                       13 \n",
       "                               .. \n",
       "Rhodesian_ridgeback            4  \n",
       "Gordon_setter                  4  \n",
       "Weimaraner                     4  \n",
       "Tibetan_terrier                4  \n",
       "miniature_schnauzer            4  \n",
       "Ibizan_hound                   3  \n",
       "Leonberg                       3  \n",
       "giant_schnauzer                3  \n",
       "Brabancon_griffon              3  \n",
       "komondor                       3  \n",
       "Welsh_springer_spaniel         3  \n",
       "Greater_Swiss_Mountain_dog     3  \n",
       "cairn                          3  \n",
       "curly-coated_retriever         3  \n",
       "briard                         3  \n",
       "Scottish_deerhound             3  \n",
       "Irish_water_spaniel            3  \n",
       "Sussex_spaniel                 2  \n",
       "Appenzeller                    2  \n",
       "toy_terrier                    2  \n",
       "black-and-tan_coonhound        2  \n",
       "Australian_terrier             2  \n",
       "wire-haired_fox_terrier        2  \n",
       "silky_terrier                  1  \n",
       "clumber                        1  \n",
       "groenendael                    1  \n",
       "Japanese_spaniel               1  \n",
       "standard_schnauzer             1  \n",
       "EntleBucher                    1  \n",
       "Scotch_terrier                 1  \n",
       "Name: p1, Length: 111, dtype: int64"
      ]
     },
     "execution_count": 93,
     "metadata": {},
     "output_type": "execute_result"
    }
   ],
   "source": [
    "predictions_uncleaned[predictions_uncleaned['p1_dog']==True].p1.value_counts()"
   ]
  },
  {
   "cell_type": "code",
   "execution_count": 94,
   "metadata": {},
   "outputs": [
    {
     "data": {
      "text/plain": [
       "Labrador_retriever                104\n",
       "golden_retriever                  92 \n",
       "Cardigan                          73 \n",
       "Chihuahua                         44 \n",
       "Pomeranian                        42 \n",
       "French_bulldog                    41 \n",
       "Chesapeake_Bay_retriever          41 \n",
       "toy_poodle                        37 \n",
       "cocker_spaniel                    34 \n",
       "miniature_poodle                  33 \n",
       "Siberian_husky                    33 \n",
       "beagle                            28 \n",
       "collie                            27 \n",
       "Eskimo_dog                        27 \n",
       "Pembroke                          27 \n",
       "kuvasz                            26 \n",
       "Italian_greyhound                 22 \n",
       "American_Staffordshire_terrier    21 \n",
       "Pekinese                          21 \n",
       "malinois                          20 \n",
       "miniature_pinscher                20 \n",
       "Samoyed                           20 \n",
       "toy_terrier                       20 \n",
       "chow                              20 \n",
       "Norwegian_elkhound                19 \n",
       "Boston_bull                       19 \n",
       "Staffordshire_bullterrier         18 \n",
       "Irish_terrier                     17 \n",
       "pug                               17 \n",
       "kelpie                            16 \n",
       "                                  .. \n",
       "Leonberg                          5  \n",
       "Bedlington_terrier                5  \n",
       "Norwich_terrier                   5  \n",
       "Saluki                            4  \n",
       "Blenheim_spaniel                  4  \n",
       "Mexican_hairless                  4  \n",
       "otterhound                        4  \n",
       "cairn                             4  \n",
       "wire-haired_fox_terrier           4  \n",
       "briard                            4  \n",
       "dalmatian                         4  \n",
       "Dandie_Dinmont                    4  \n",
       "Border_terrier                    4  \n",
       "Weimaraner                        3  \n",
       "miniature_schnauzer               3  \n",
       "Irish_wolfhound                   3  \n",
       "Appenzeller                       3  \n",
       "Sealyham_terrier                  2  \n",
       "Australian_terrier                2  \n",
       "curly-coated_retriever            2  \n",
       "Scotch_terrier                    2  \n",
       "English_foxhound                  2  \n",
       "giant_schnauzer                   2  \n",
       "affenpinscher                     1  \n",
       "Kerry_blue_terrier                1  \n",
       "Japanese_spaniel                  1  \n",
       "Bernese_mountain_dog              1  \n",
       "standard_schnauzer                1  \n",
       "EntleBucher                       1  \n",
       "komondor                          1  \n",
       "Name: p2, Length: 113, dtype: int64"
      ]
     },
     "execution_count": 94,
     "metadata": {},
     "output_type": "execute_result"
    }
   ],
   "source": [
    "predictions_uncleaned[predictions_uncleaned['p2_dog']==True].p2.value_counts()"
   ]
  },
  {
   "cell_type": "code",
   "execution_count": 95,
   "metadata": {},
   "outputs": [
    {
     "data": {
      "text/plain": [
       "324"
      ]
     },
     "execution_count": 95,
     "metadata": {},
     "output_type": "execute_result"
    }
   ],
   "source": [
    "predictions_uncleaned[(predictions_uncleaned['p1_dog']==False) & (predictions_uncleaned['p2_dog']==False) & ((predictions_uncleaned['p3_dog']==False))].tweet_id.count()"
   ]
  },
  {
   "cell_type": "code",
   "execution_count": 96,
   "metadata": {},
   "outputs": [
    {
     "data": {
      "text/html": [
       "<div>\n",
       "<style scoped>\n",
       "    .dataframe tbody tr th:only-of-type {\n",
       "        vertical-align: middle;\n",
       "    }\n",
       "\n",
       "    .dataframe tbody tr th {\n",
       "        vertical-align: top;\n",
       "    }\n",
       "\n",
       "    .dataframe thead th {\n",
       "        text-align: right;\n",
       "    }\n",
       "</style>\n",
       "<table border=\"1\" class=\"dataframe\">\n",
       "  <thead>\n",
       "    <tr style=\"text-align: right;\">\n",
       "      <th></th>\n",
       "      <th>tweet_id</th>\n",
       "      <th>img_num</th>\n",
       "      <th>p1_conf</th>\n",
       "      <th>p2_conf</th>\n",
       "      <th>p3_conf</th>\n",
       "    </tr>\n",
       "  </thead>\n",
       "  <tbody>\n",
       "    <tr>\n",
       "      <th>count</th>\n",
       "      <td>2.075000e+03</td>\n",
       "      <td>2075.000000</td>\n",
       "      <td>2075.000000</td>\n",
       "      <td>2.075000e+03</td>\n",
       "      <td>2.075000e+03</td>\n",
       "    </tr>\n",
       "    <tr>\n",
       "      <th>mean</th>\n",
       "      <td>7.384514e+17</td>\n",
       "      <td>1.203855</td>\n",
       "      <td>0.594548</td>\n",
       "      <td>1.345886e-01</td>\n",
       "      <td>6.032417e-02</td>\n",
       "    </tr>\n",
       "    <tr>\n",
       "      <th>std</th>\n",
       "      <td>6.785203e+16</td>\n",
       "      <td>0.561875</td>\n",
       "      <td>0.271174</td>\n",
       "      <td>1.006657e-01</td>\n",
       "      <td>5.090593e-02</td>\n",
       "    </tr>\n",
       "    <tr>\n",
       "      <th>min</th>\n",
       "      <td>6.660209e+17</td>\n",
       "      <td>1.000000</td>\n",
       "      <td>0.044333</td>\n",
       "      <td>1.011300e-08</td>\n",
       "      <td>1.740170e-10</td>\n",
       "    </tr>\n",
       "    <tr>\n",
       "      <th>25%</th>\n",
       "      <td>6.764835e+17</td>\n",
       "      <td>1.000000</td>\n",
       "      <td>0.364412</td>\n",
       "      <td>5.388625e-02</td>\n",
       "      <td>1.622240e-02</td>\n",
       "    </tr>\n",
       "    <tr>\n",
       "      <th>50%</th>\n",
       "      <td>7.119988e+17</td>\n",
       "      <td>1.000000</td>\n",
       "      <td>0.588230</td>\n",
       "      <td>1.181810e-01</td>\n",
       "      <td>4.944380e-02</td>\n",
       "    </tr>\n",
       "    <tr>\n",
       "      <th>75%</th>\n",
       "      <td>7.932034e+17</td>\n",
       "      <td>1.000000</td>\n",
       "      <td>0.843855</td>\n",
       "      <td>1.955655e-01</td>\n",
       "      <td>9.180755e-02</td>\n",
       "    </tr>\n",
       "    <tr>\n",
       "      <th>max</th>\n",
       "      <td>8.924206e+17</td>\n",
       "      <td>4.000000</td>\n",
       "      <td>1.000000</td>\n",
       "      <td>4.880140e-01</td>\n",
       "      <td>2.734190e-01</td>\n",
       "    </tr>\n",
       "  </tbody>\n",
       "</table>\n",
       "</div>"
      ],
      "text/plain": [
       "           tweet_id      img_num      p1_conf       p2_conf       p3_conf\n",
       "count  2.075000e+03  2075.000000  2075.000000  2.075000e+03  2.075000e+03\n",
       "mean   7.384514e+17  1.203855     0.594548     1.345886e-01  6.032417e-02\n",
       "std    6.785203e+16  0.561875     0.271174     1.006657e-01  5.090593e-02\n",
       "min    6.660209e+17  1.000000     0.044333     1.011300e-08  1.740170e-10\n",
       "25%    6.764835e+17  1.000000     0.364412     5.388625e-02  1.622240e-02\n",
       "50%    7.119988e+17  1.000000     0.588230     1.181810e-01  4.944380e-02\n",
       "75%    7.932034e+17  1.000000     0.843855     1.955655e-01  9.180755e-02\n",
       "max    8.924206e+17  4.000000     1.000000     4.880140e-01  2.734190e-01"
      ]
     },
     "execution_count": 96,
     "metadata": {},
     "output_type": "execute_result"
    }
   ],
   "source": [
    "predictions_uncleaned.describe()"
   ]
  },
  {
   "cell_type": "markdown",
   "metadata": {},
   "source": [
    "Quality : issues with content : `predictions_uncleaned` table :\n",
    "\n",
    "* column names are not clear and don't give an intuition of their content(p1,p1_conf,p1_dog) *\n",
    "* change the p1_conf,p2_conf into percentages *\n",
    "* it is better to change p1,p2,p3 to a category type *"
   ]
  },
  {
   "cell_type": "markdown",
   "metadata": {},
   "source": [
    "### Grouping all assessments by Quality and Tidiness issues :\n",
    "**Quality : issues with content :**\n",
    "\n",
    "`predictions_uncleaned` table :\n",
    "* column names are not clear and don't give an intuition of their content(p1,p1_conf,p1_dog) *\n",
    "* change the p1_conf,p2_conf into percentages *\n",
    "* change p1,p2,p3 to a category type *\n",
    "\n",
    "`twitter-archive-enhanced table` \n",
    "\n",
    "* remove the re-tweeted tweets or tweets that are replies on other tweets , tweets that don't contain images also remove unused columns that refer to the re-tweets ( in_reply_to_status_id ,retweeted_status_id,retweeted_status_user_id,retweeted_status_timestamp )\n",
    "\n",
    "* change the None values in (doggo,floofer,pupper,puppo) columns into NaNs *\n",
    "\n",
    "* column names can be more expressive (source) also values within sorce column can be expressed in single string not url  *\n",
    "* for the timestamp it should be expressed in datetime format \n",
    "* examining scores that are higher than 14 , detect whether they correspond to the denominator or they are not actually scores\n",
    "\n",
    "`tweet_info table` :\n",
    "\n",
    "* usages country,place_type,name_city_country is not efficient as there is too much missing data in the columns\n",
    "* remove re-tweeted tweets (total of 77 tweets) \n",
    "\n",
    "\n",
    "**tidiness :**\n",
    "\n",
    "`tweet_info` table :\n",
    "\n",
    "* merge df -->(archieved tweets table) and the table acquired from twitter (tweet_info) ,columns(favorite_county,retweet_count)of tweet_info to df table *\n",
    "\n",
    "`twitter-archive-enhanced table` \n",
    "\n",
    "* in the last 4 columns , we can have more than one image per tweet so more than one label can be given to a tweet with maximum 2 images in our given dataset, for each tweet 2 columns only can represent dog type one for the first image and the other for the second"
   ]
  },
  {
   "cell_type": "markdown",
   "metadata": {},
   "source": [
    "## Cleaning process :\n",
    "\n",
    "###  Quality issues  :"
   ]
  },
  {
   "cell_type": "markdown",
   "metadata": {},
   "source": [
    "#### `predictions_uncleaned table`"
   ]
  },
  {
   "cell_type": "markdown",
   "metadata": {},
   "source": [
    "Define:\n",
    "* column names are not clear and don't give an intuition of their content(p1,p1_conf,p1_dog)"
   ]
  },
  {
   "cell_type": "markdown",
   "metadata": {},
   "source": [
    "code:"
   ]
  },
  {
   "cell_type": "code",
   "execution_count": 97,
   "metadata": {},
   "outputs": [],
   "source": [
    "predictions=predictions_uncleaned.copy()\n",
    "predictions=predictions.rename(columns={'p1':'First_prediction','p1_conf':'confidence_percent_1','p1_dog':'Is_it_dog_1',\n",
    "                            'p2':'Second_prediction','p2_conf':'confidence_percent_2','p2_dog':'Is_it_dog_2',\n",
    "                            'p3':'Third_prediction','p3_conf':'confidence_percent_3','p3_dog':'Is_it_dog_3'})"
   ]
  },
  {
   "cell_type": "markdown",
   "metadata": {},
   "source": [
    "test:"
   ]
  },
  {
   "cell_type": "code",
   "execution_count": 98,
   "metadata": {},
   "outputs": [
    {
     "data": {
      "text/plain": [
       "Index(['tweet_id', 'jpg_url', 'img_num', 'First_prediction',\n",
       "       'confidence_percent_1', 'Is_it_dog_1', 'Second_prediction',\n",
       "       'confidence_percent_2', 'Is_it_dog_2', 'Third_prediction',\n",
       "       'confidence_percent_3', 'Is_it_dog_3'],\n",
       "      dtype='object')"
      ]
     },
     "execution_count": 98,
     "metadata": {},
     "output_type": "execute_result"
    }
   ],
   "source": [
    "predictions.columns"
   ]
  },
  {
   "cell_type": "markdown",
   "metadata": {},
   "source": [
    "Define: \n",
    "* change the p1_conf,p2_conf,p2_conf into percentage using vectorization"
   ]
  },
  {
   "cell_type": "markdown",
   "metadata": {},
   "source": [
    "code :"
   ]
  },
  {
   "cell_type": "code",
   "execution_count": 99,
   "metadata": {},
   "outputs": [],
   "source": [
    "\n",
    "predictions['confidence_percent_1']=(100. * predictions['confidence_percent_1']).round(1)\n",
    "predictions['confidence_percent_2']=(100. * predictions['confidence_percent_2']).round(1)\n",
    "predictions['confidence_percent_3']=(100. * predictions['confidence_percent_3']).round(1)"
   ]
  },
  {
   "cell_type": "markdown",
   "metadata": {},
   "source": [
    "test:"
   ]
  },
  {
   "cell_type": "code",
   "execution_count": 100,
   "metadata": {},
   "outputs": [
    {
     "data": {
      "text/plain": [
       "0    6.1\n",
       "Name: confidence_percent_3, dtype: float64"
      ]
     },
     "execution_count": 100,
     "metadata": {},
     "output_type": "execute_result"
    }
   ],
   "source": [
    "predictions['confidence_percent_1'].head(1)\n",
    "predictions['confidence_percent_2'].head(1)\n",
    "predictions['confidence_percent_3'].head(1)"
   ]
  },
  {
   "cell_type": "markdown",
   "metadata": {},
   "source": [
    " Define: \n",
    "* change p1,p2,p3 to a category type"
   ]
  },
  {
   "cell_type": "markdown",
   "metadata": {},
   "source": [
    "code:"
   ]
  },
  {
   "cell_type": "code",
   "execution_count": 101,
   "metadata": {},
   "outputs": [],
   "source": [
    "predictions['First_prediction']=predictions['First_prediction'].astype('category')\n",
    "predictions['Second_prediction']=predictions['Second_prediction'].astype('category')\n",
    "predictions['Third_prediction']=predictions['Third_prediction'].astype('category')"
   ]
  },
  {
   "cell_type": "markdown",
   "metadata": {},
   "source": [
    "test:"
   ]
  },
  {
   "cell_type": "code",
   "execution_count": 102,
   "metadata": {},
   "outputs": [
    {
     "name": "stdout",
     "output_type": "stream",
     "text": [
      "<class 'pandas.core.frame.DataFrame'>\n",
      "RangeIndex: 2075 entries, 0 to 2074\n",
      "Data columns (total 12 columns):\n",
      "tweet_id                2075 non-null int64\n",
      "jpg_url                 2075 non-null object\n",
      "img_num                 2075 non-null int64\n",
      "First_prediction        2075 non-null category\n",
      "confidence_percent_1    2075 non-null float64\n",
      "Is_it_dog_1             2075 non-null bool\n",
      "Second_prediction       2075 non-null category\n",
      "confidence_percent_2    2075 non-null float64\n",
      "Is_it_dog_2             2075 non-null bool\n",
      "Third_prediction        2075 non-null category\n",
      "confidence_percent_3    2075 non-null float64\n",
      "Is_it_dog_3             2075 non-null bool\n",
      "dtypes: bool(3), category(3), float64(3), int64(2), object(1)\n",
      "memory usage: 174.9+ KB\n"
     ]
    }
   ],
   "source": [
    "predictions.info()"
   ]
  },
  {
   "cell_type": "markdown",
   "metadata": {},
   "source": [
    "### continue cleaning Quality issues :\n",
    "#### `twitter-archive-enhanced table` "
   ]
  },
  {
   "cell_type": "code",
   "execution_count": 114,
   "metadata": {},
   "outputs": [],
   "source": [
    "twitter_archive=twitter_archive_uncleaned.copy()"
   ]
  },
  {
   "cell_type": "markdown",
   "metadata": {},
   "source": [
    "Define:\n",
    "* remove the re-tweeted tweets or tweets that are replies on other tweets , tweets that don't contain images also remove unused columns that refer to the re-tweets ( in_reply_to_status_id ,retweeted_status_id,retweeted_status_user_id,retweeted_status_timestamp )\n"
   ]
  },
  {
   "cell_type": "markdown",
   "metadata": {},
   "source": [
    "code :"
   ]
  },
  {
   "cell_type": "code",
   "execution_count": 115,
   "metadata": {},
   "outputs": [],
   "source": [
    "twitter_archive=twitter_archive[(twitter_archive['retweeted_status_user_id'].isnull())&(twitter_archive['in_reply_to_status_id'].isnull()) ]"
   ]
  },
  {
   "cell_type": "code",
   "execution_count": 116,
   "metadata": {},
   "outputs": [],
   "source": [
    "twitter_archive=twitter_archive[~(twitter_archive['expanded_urls'].isnull())]"
   ]
  },
  {
   "cell_type": "code",
   "execution_count": 117,
   "metadata": {},
   "outputs": [
    {
     "data": {
      "text/plain": [
       "Index(['tweet_id', 'in_reply_to_status_id', 'in_reply_to_user_id', 'timestamp',\n",
       "       'source', 'text', 'retweeted_status_id', 'retweeted_status_user_id',\n",
       "       'retweeted_status_timestamp', 'expanded_urls', 'rating_numerator',\n",
       "       'rating_denominator', 'name', 'doggo', 'floofer', 'pupper', 'puppo'],\n",
       "      dtype='object')"
      ]
     },
     "execution_count": 117,
     "metadata": {},
     "output_type": "execute_result"
    }
   ],
   "source": [
    "twitter_archive.columns"
   ]
  },
  {
   "cell_type": "code",
   "execution_count": 118,
   "metadata": {},
   "outputs": [],
   "source": [
    "twitter_archive=twitter_archive.drop(['in_reply_to_status_id','in_reply_to_user_id','retweeted_status_id','retweeted_status_user_id','retweeted_status_timestamp'],axis=1)"
   ]
  },
  {
   "cell_type": "markdown",
   "metadata": {},
   "source": [
    "test:"
   ]
  },
  {
   "cell_type": "code",
   "execution_count": 119,
   "metadata": {},
   "outputs": [
    {
     "name": "stdout",
     "output_type": "stream",
     "text": [
      "<class 'pandas.core.frame.DataFrame'>\n",
      "Int64Index: 2094 entries, 0 to 2355\n",
      "Data columns (total 12 columns):\n",
      "tweet_id              2094 non-null int64\n",
      "timestamp             2094 non-null object\n",
      "source                2094 non-null object\n",
      "text                  2094 non-null object\n",
      "expanded_urls         2094 non-null object\n",
      "rating_numerator      2094 non-null int64\n",
      "rating_denominator    2094 non-null int64\n",
      "name                  2094 non-null object\n",
      "doggo                 2094 non-null object\n",
      "floofer               2094 non-null object\n",
      "pupper                2094 non-null object\n",
      "puppo                 2094 non-null object\n",
      "dtypes: int64(3), object(9)\n",
      "memory usage: 212.7+ KB\n"
     ]
    }
   ],
   "source": [
    "twitter_archive.info()"
   ]
  },
  {
   "cell_type": "markdown",
   "metadata": {},
   "source": [
    "Define:\n",
    "* change the 'None' values in (doggo,floofer,pupper,puppo) columns into NaNs "
   ]
  },
  {
   "cell_type": "markdown",
   "metadata": {},
   "source": [
    "code:"
   ]
  },
  {
   "cell_type": "code",
   "execution_count": 120,
   "metadata": {},
   "outputs": [],
   "source": [
    "def change_2_null(x):\n",
    "    if x =='None':\n",
    "        x= np.nan\n",
    "    return x\n",
    "\n",
    "columns=['doggo','floofer','pupper','puppo']\n",
    "for col in columns:\n",
    "    twitter_archive[col]=twitter_archive[col].apply(change_2_null)"
   ]
  },
  {
   "cell_type": "markdown",
   "metadata": {},
   "source": [
    "test:"
   ]
  },
  {
   "cell_type": "code",
   "execution_count": 121,
   "metadata": {},
   "outputs": [
    {
     "data": {
      "text/html": [
       "<div>\n",
       "<style scoped>\n",
       "    .dataframe tbody tr th:only-of-type {\n",
       "        vertical-align: middle;\n",
       "    }\n",
       "\n",
       "    .dataframe tbody tr th {\n",
       "        vertical-align: top;\n",
       "    }\n",
       "\n",
       "    .dataframe thead th {\n",
       "        text-align: right;\n",
       "    }\n",
       "</style>\n",
       "<table border=\"1\" class=\"dataframe\">\n",
       "  <thead>\n",
       "    <tr style=\"text-align: right;\">\n",
       "      <th></th>\n",
       "      <th>tweet_id</th>\n",
       "      <th>timestamp</th>\n",
       "      <th>source</th>\n",
       "      <th>text</th>\n",
       "      <th>expanded_urls</th>\n",
       "      <th>rating_numerator</th>\n",
       "      <th>rating_denominator</th>\n",
       "      <th>name</th>\n",
       "      <th>doggo</th>\n",
       "      <th>floofer</th>\n",
       "      <th>pupper</th>\n",
       "      <th>puppo</th>\n",
       "    </tr>\n",
       "  </thead>\n",
       "  <tbody>\n",
       "    <tr>\n",
       "      <th>0</th>\n",
       "      <td>892420643555336193</td>\n",
       "      <td>2017-08-01 16:23:56 +0000</td>\n",
       "      <td>&lt;a href=\"http://twitter.com/download/iphone\" rel=\"nofollow\"&gt;Twitter for iPhone&lt;/a&gt;</td>\n",
       "      <td>This is Phineas. He's a mystical boy. Only ever appears in the hole of a donut. 13/10 https://t.co/MgUWQ76dJU</td>\n",
       "      <td>https://twitter.com/dog_rates/status/892420643555336193/photo/1</td>\n",
       "      <td>13</td>\n",
       "      <td>10</td>\n",
       "      <td>Phineas</td>\n",
       "      <td>NaN</td>\n",
       "      <td>NaN</td>\n",
       "      <td>NaN</td>\n",
       "      <td>NaN</td>\n",
       "    </tr>\n",
       "  </tbody>\n",
       "</table>\n",
       "</div>"
      ],
      "text/plain": [
       "             tweet_id                  timestamp  \\\n",
       "0  892420643555336193  2017-08-01 16:23:56 +0000   \n",
       "\n",
       "                                                                               source  \\\n",
       "0  <a href=\"http://twitter.com/download/iphone\" rel=\"nofollow\">Twitter for iPhone</a>   \n",
       "\n",
       "                                                                                                            text  \\\n",
       "0  This is Phineas. He's a mystical boy. Only ever appears in the hole of a donut. 13/10 https://t.co/MgUWQ76dJU   \n",
       "\n",
       "                                                     expanded_urls  \\\n",
       "0  https://twitter.com/dog_rates/status/892420643555336193/photo/1   \n",
       "\n",
       "   rating_numerator  rating_denominator     name doggo floofer pupper puppo  \n",
       "0  13                10                  Phineas  NaN   NaN     NaN    NaN   "
      ]
     },
     "execution_count": 121,
     "metadata": {},
     "output_type": "execute_result"
    }
   ],
   "source": [
    "twitter_archive.head(1)"
   ]
  },
  {
   "cell_type": "code",
   "execution_count": 122,
   "metadata": {},
   "outputs": [
    {
     "name": "stdout",
     "output_type": "stream",
     "text": [
      "<class 'pandas.core.frame.DataFrame'>\n",
      "Int64Index: 2094 entries, 0 to 2355\n",
      "Data columns (total 12 columns):\n",
      "tweet_id              2094 non-null int64\n",
      "timestamp             2094 non-null object\n",
      "source                2094 non-null object\n",
      "text                  2094 non-null object\n",
      "expanded_urls         2094 non-null object\n",
      "rating_numerator      2094 non-null int64\n",
      "rating_denominator    2094 non-null int64\n",
      "name                  2094 non-null object\n",
      "doggo                 83 non-null object\n",
      "floofer               10 non-null object\n",
      "pupper                229 non-null object\n",
      "puppo                 24 non-null object\n",
      "dtypes: int64(3), object(9)\n",
      "memory usage: 212.7+ KB\n"
     ]
    }
   ],
   "source": [
    "twitter_archive.info()"
   ]
  },
  {
   "cell_type": "markdown",
   "metadata": {},
   "source": [
    "Define :\n",
    "* column names can be more expressive (source) also values within sorce column can be expressed in single string not url  "
   ]
  },
  {
   "cell_type": "markdown",
   "metadata": {},
   "source": [
    "code :"
   ]
  },
  {
   "cell_type": "code",
   "execution_count": 123,
   "metadata": {},
   "outputs": [
    {
     "data": {
      "text/plain": [
       "<a href=\"http://twitter.com/download/iphone\" rel=\"nofollow\">Twitter for iPhone</a>     1962\n",
       "<a href=\"http://vine.co\" rel=\"nofollow\">Vine - Make a Scene</a>                        91  \n",
       "<a href=\"http://twitter.com\" rel=\"nofollow\">Twitter Web Client</a>                     30  \n",
       "<a href=\"https://about.twitter.com/products/tweetdeck\" rel=\"nofollow\">TweetDeck</a>    11  \n",
       "Name: source, dtype: int64"
      ]
     },
     "execution_count": 123,
     "metadata": {},
     "output_type": "execute_result"
    }
   ],
   "source": [
    "twitter_archive.source.value_counts()"
   ]
  },
  {
   "cell_type": "code",
   "execution_count": 124,
   "metadata": {},
   "outputs": [],
   "source": [
    "twitter_archive.source=twitter_archive.source.apply(lambda x : x.split('>')[1].split('<')[0])"
   ]
  },
  {
   "cell_type": "code",
   "execution_count": 125,
   "metadata": {},
   "outputs": [],
   "source": [
    "twitter_archive=twitter_archive.rename(columns={'source':'source_of_tweet'})"
   ]
  },
  {
   "cell_type": "markdown",
   "metadata": {},
   "source": [
    "test:"
   ]
  },
  {
   "cell_type": "code",
   "execution_count": 126,
   "metadata": {},
   "outputs": [
    {
     "data": {
      "text/plain": [
       "Twitter for iPhone     1962\n",
       "Vine - Make a Scene    91  \n",
       "Twitter Web Client     30  \n",
       "TweetDeck              11  \n",
       "Name: source_of_tweet, dtype: int64"
      ]
     },
     "execution_count": 126,
     "metadata": {},
     "output_type": "execute_result"
    }
   ],
   "source": [
    "twitter_archive.source_of_tweet.value_counts()"
   ]
  },
  {
   "cell_type": "markdown",
   "metadata": {},
   "source": [
    "Define:\n",
    "* for the timestamp it should be expressed in datetime format "
   ]
  },
  {
   "cell_type": "markdown",
   "metadata": {},
   "source": [
    "code:"
   ]
  },
  {
   "cell_type": "code",
   "execution_count": 127,
   "metadata": {},
   "outputs": [],
   "source": [
    "twitter_archive.timestamp=pd.to_datetime(twitter_archive.timestamp)"
   ]
  },
  {
   "cell_type": "markdown",
   "metadata": {},
   "source": [
    "test:"
   ]
  },
  {
   "cell_type": "code",
   "execution_count": 128,
   "metadata": {},
   "outputs": [
    {
     "name": "stdout",
     "output_type": "stream",
     "text": [
      "<class 'pandas.core.frame.DataFrame'>\n",
      "Int64Index: 2094 entries, 0 to 2355\n",
      "Data columns (total 12 columns):\n",
      "tweet_id              2094 non-null int64\n",
      "timestamp             2094 non-null datetime64[ns]\n",
      "source_of_tweet       2094 non-null object\n",
      "text                  2094 non-null object\n",
      "expanded_urls         2094 non-null object\n",
      "rating_numerator      2094 non-null int64\n",
      "rating_denominator    2094 non-null int64\n",
      "name                  2094 non-null object\n",
      "doggo                 83 non-null object\n",
      "floofer               10 non-null object\n",
      "pupper                229 non-null object\n",
      "puppo                 24 non-null object\n",
      "dtypes: datetime64[ns](1), int64(3), object(8)\n",
      "memory usage: 212.7+ KB\n"
     ]
    }
   ],
   "source": [
    "twitter_archive.info()"
   ]
  },
  {
   "cell_type": "markdown",
   "metadata": {},
   "source": [
    "Define :\n",
    "* create new columns referring whether an entry contain emojis and urls in tweet text or not"
   ]
  },
  {
   "cell_type": "markdown",
   "metadata": {},
   "source": [
    "code:"
   ]
  },
  {
   "cell_type": "code",
   "execution_count": 129,
   "metadata": {},
   "outputs": [
    {
     "data": {
      "text/plain": [
       "'Happy Easter from the squad! 🐇🐶 13/10 for all https://t.co/YMx4KWJUAB'"
      ]
     },
     "execution_count": 129,
     "metadata": {},
     "output_type": "execute_result"
    }
   ],
   "source": [
    "twitter_archive.loc[1224 ,].text"
   ]
  },
  {
   "cell_type": "code",
   "execution_count": 130,
   "metadata": {},
   "outputs": [],
   "source": [
    "#sub()-->Find all substrings where the RE matches, and replace them with a different string\n",
    "\n",
    "emoji_pattern = re.compile(\"[\"\n",
    "        u\"\\U0001F600-\\U0001F64F\"  # emoticons\n",
    "        u\"\\U0001F300-\\U0001F5FF\"  # symbols & pictographs\n",
    "        u\"\\U0001F680-\\U0001F6FF\"  # transport & map symbols\n",
    "        u\"\\U0001F1E0-\\U0001F1FF\"  # flags (iOS)\n",
    "                           \"]+\", flags=re.UNICODE)\n"
   ]
  },
  {
   "cell_type": "code",
   "execution_count": 131,
   "metadata": {},
   "outputs": [
    {
     "name": "stdout",
     "output_type": "stream",
     "text": [
      "This is Alfy. You're witnessing his first watermelon experience. I think it was a success. 13/10 happy 4th Alfy 🇺🇸 https://t.co/fYP5RlutfA\n",
      "And finally, happy 4th of July from the squad 🇺🇸 13/10 for all https://t.co/Mr8Lr3iOUe\n",
      "I swear to god if we get sent another Blue Madagascan Peacock we'll deactivate. We 👏 Only 👏 Rate 👏 Dogs... 9/10 https://t.co/bbta2Q4URK\n",
      "Happy Easter from the squad! 🐇🐶 13/10 for all https://t.co/YMx4KWJUAB\n",
      "Reminder that we made our first set of stickers available! All are 12/10 would stick\n",
      "Use code \"pupper\" at checkout🐶\n",
      "\n",
      "https://t.co/kJIMNyMNKV\n",
      "We 👏🏻 only 👏🏻 rate 👏🏻 dogs. Pls stop sending in non-canines like this Dutch Panda Worm. This is infuriating. 11/10 https://t.co/odfLzBonG2\n",
      "The squad is back for St. Patrick's Day! ☘ 💚\n",
      "13/10 for all https://t.co/OcCDb2bng5\n",
      "WeRateDogs stickers are here and they're 12/10! Use code \"puppers\" at checkout 🐶🐾\n",
      "\n",
      "Shop now: https://t.co/k5xsufRKYm https://t.co/ShXk46V13r\n",
      "Happy New Year from your fav holiday squad! 🎉 12/10 for all\n",
      "\n",
      "Here's to a pupper-filled year 🍻🐶🐶🐶 https://t.co/ZSdEj59FGf\n",
      "This is the saddest/sweetest/best picture I've been sent. 12/10 😢🐶 https://t.co/vQ2Lw1BLBF\n",
      "🎶 HELLO FROM THE OTHER SIIIIIIIIDE 🎶 10/10s https://t.co/GK2HJtkdQk\n",
      "\"🎶 DO YOU BELIEVE IN LIFE AFTER LOVE 🎶\"\n",
      "11/10 https://t.co/URNs5zFskc\n",
      "🎶 HELLO FROM THE OTHER SIIIIIIIIDE 🎶 10/10 https://t.co/MTOOksRzvH\n",
      "This little pupper can't wait for Christmas. He's pretending to be a present. S'cute. 11/10 twenty more days 🎁🎄🐶 https://t.co/m8r9rbcgX4\n",
      "😂😂😂 10/10 for the dog and the owner https://t.co/5iYF0Ci0EK\n",
      "count     2094 \n",
      "unique    2    \n",
      "top       False\n",
      "freq      2079 \n",
      "Name: is_emoji, dtype: object\n"
     ]
    }
   ],
   "source": [
    "count1=0\n",
    "count2=0\n",
    "for i,tweet in enumerate(twitter_archive.text):\n",
    "    if emoji_pattern.findall(tweet):\n",
    "        twitter_archive.loc[i,'is_emoji']=True\n",
    "        count1+=1\n",
    "        print(tweet)\n",
    "    else :\n",
    "        twitter_archive.loc[i,'is_emoji']=False\n",
    "        count2+=1\n",
    "        \n",
    "count1,count2,twitter_archive.shape[0]\n",
    "print(twitter_archive.is_emoji.describe())"
   ]
  },
  {
   "cell_type": "markdown",
   "metadata": {},
   "source": [
    "test:"
   ]
  },
  {
   "cell_type": "code",
   "execution_count": 132,
   "metadata": {},
   "outputs": [
    {
     "name": "stdout",
     "output_type": "stream",
     "text": [
      "<class 'pandas.core.frame.DataFrame'>\n",
      "Int64Index: 2350 entries, 0 to 2038\n",
      "Data columns (total 13 columns):\n",
      "tweet_id              2094 non-null float64\n",
      "timestamp             2094 non-null datetime64[ns]\n",
      "source_of_tweet       2094 non-null object\n",
      "text                  2094 non-null object\n",
      "expanded_urls         2094 non-null object\n",
      "rating_numerator      2094 non-null float64\n",
      "rating_denominator    2094 non-null float64\n",
      "name                  2094 non-null object\n",
      "doggo                 83 non-null object\n",
      "floofer               10 non-null object\n",
      "pupper                229 non-null object\n",
      "puppo                 24 non-null object\n",
      "is_emoji              2094 non-null object\n",
      "dtypes: datetime64[ns](1), float64(3), object(9)\n",
      "memory usage: 337.0+ KB\n"
     ]
    }
   ],
   "source": [
    "twitter_archive.info()"
   ]
  },
  {
   "cell_type": "markdown",
   "metadata": {},
   "source": [
    "Define :\n",
    "* examining scores that are higher than 14 , detect whether they correspond to the denominator or they are not actually scores , only one entry has this issue , replace the score values with NaN"
   ]
  },
  {
   "cell_type": "markdown",
   "metadata": {},
   "source": [
    "code:"
   ]
  },
  {
   "cell_type": "code",
   "execution_count": 133,
   "metadata": {},
   "outputs": [
    {
     "data": {
      "text/plain": [
       "10.0     2077\n",
       "50.0     3   \n",
       "80.0     2   \n",
       "11.0     2   \n",
       "150.0    1   \n",
       "110.0    1   \n",
       "90.0     1   \n",
       "70.0     1   \n",
       "170.0    1   \n",
       "2.0      1   \n",
       "120.0    1   \n",
       "40.0     1   \n",
       "20.0     1   \n",
       "7.0      1   \n",
       "Name: rating_denominator, dtype: int64"
      ]
     },
     "execution_count": 133,
     "metadata": {},
     "output_type": "execute_result"
    }
   ],
   "source": [
    "twitter_archive.rating_denominator.value_counts()"
   ]
  },
  {
   "cell_type": "code",
   "execution_count": 134,
   "metadata": {},
   "outputs": [
    {
     "data": {
      "text/html": [
       "<div>\n",
       "<style scoped>\n",
       "    .dataframe tbody tr th:only-of-type {\n",
       "        vertical-align: middle;\n",
       "    }\n",
       "\n",
       "    .dataframe tbody tr th {\n",
       "        vertical-align: top;\n",
       "    }\n",
       "\n",
       "    .dataframe thead th {\n",
       "        text-align: right;\n",
       "    }\n",
       "</style>\n",
       "<table border=\"1\" class=\"dataframe\">\n",
       "  <thead>\n",
       "    <tr style=\"text-align: right;\">\n",
       "      <th></th>\n",
       "      <th>tweet_id</th>\n",
       "      <th>timestamp</th>\n",
       "      <th>source_of_tweet</th>\n",
       "      <th>text</th>\n",
       "      <th>expanded_urls</th>\n",
       "      <th>rating_numerator</th>\n",
       "      <th>rating_denominator</th>\n",
       "      <th>name</th>\n",
       "      <th>doggo</th>\n",
       "      <th>floofer</th>\n",
       "      <th>pupper</th>\n",
       "      <th>puppo</th>\n",
       "      <th>is_emoji</th>\n",
       "    </tr>\n",
       "  </thead>\n",
       "  <tbody>\n",
       "    <tr>\n",
       "      <th>433</th>\n",
       "      <td>8.206902e+17</td>\n",
       "      <td>2017-01-15 17:52:40</td>\n",
       "      <td>Twitter for iPhone</td>\n",
       "      <td>The floofs have been released I repeat the floofs have been released. 84/70 https://t.co/NIYC820tmd</td>\n",
       "      <td>https://twitter.com/dog_rates/status/820690176645140481/photo/1,https://twitter.com/dog_rates/status/820690176645140481/photo/1,https://twitter.com/dog_rates/status/820690176645140481/photo/1</td>\n",
       "      <td>84.0</td>\n",
       "      <td>70.0</td>\n",
       "      <td>None</td>\n",
       "      <td>NaN</td>\n",
       "      <td>NaN</td>\n",
       "      <td>NaN</td>\n",
       "      <td>NaN</td>\n",
       "      <td>False</td>\n",
       "    </tr>\n",
       "    <tr>\n",
       "      <th>516</th>\n",
       "      <td>8.109847e+17</td>\n",
       "      <td>2016-12-19 23:06:23</td>\n",
       "      <td>Twitter for iPhone</td>\n",
       "      <td>Meet Sam. She smiles 24/7 &amp;amp; secretly aspires to be a reindeer. \\nKeep Sam smiling by clicking and sharing this link:\\nhttps://t.co/98tB8y7y7t https://t.co/LouL5vdvxx</td>\n",
       "      <td>https://www.gofundme.com/sams-smile,https://twitter.com/dog_rates/status/810984652412424192/photo/1</td>\n",
       "      <td>24.0</td>\n",
       "      <td>7.0</td>\n",
       "      <td>Sam</td>\n",
       "      <td>NaN</td>\n",
       "      <td>NaN</td>\n",
       "      <td>NaN</td>\n",
       "      <td>NaN</td>\n",
       "      <td>False</td>\n",
       "    </tr>\n",
       "    <tr>\n",
       "      <th>695</th>\n",
       "      <td>7.867091e+17</td>\n",
       "      <td>2016-10-13 23:23:56</td>\n",
       "      <td>Twitter for iPhone</td>\n",
       "      <td>This is Logan, the Chow who lived. He solemnly swears he's up to lots of good. H*ckin magical af 9.75/10 https://t.co/yBO5wuqaPS</td>\n",
       "      <td>https://twitter.com/dog_rates/status/786709082849828864/photo/1</td>\n",
       "      <td>75.0</td>\n",
       "      <td>10.0</td>\n",
       "      <td>Logan</td>\n",
       "      <td>NaN</td>\n",
       "      <td>NaN</td>\n",
       "      <td>NaN</td>\n",
       "      <td>NaN</td>\n",
       "      <td>False</td>\n",
       "    </tr>\n",
       "    <tr>\n",
       "      <th>763</th>\n",
       "      <td>7.780270e+17</td>\n",
       "      <td>2016-09-20 00:24:34</td>\n",
       "      <td>Twitter for iPhone</td>\n",
       "      <td>This is Sophie. She's a Jubilant Bush Pupper. Super h*ckin rare. Appears at random just to smile at the locals. 11.27/10 would smile back https://t.co/QFaUiIHxHq</td>\n",
       "      <td>https://twitter.com/dog_rates/status/778027034220126208/photo/1</td>\n",
       "      <td>27.0</td>\n",
       "      <td>10.0</td>\n",
       "      <td>Sophie</td>\n",
       "      <td>NaN</td>\n",
       "      <td>NaN</td>\n",
       "      <td>pupper</td>\n",
       "      <td>NaN</td>\n",
       "      <td>False</td>\n",
       "    </tr>\n",
       "    <tr>\n",
       "      <th>902</th>\n",
       "      <td>7.584672e+17</td>\n",
       "      <td>2016-07-28 01:00:57</td>\n",
       "      <td>Twitter for iPhone</td>\n",
       "      <td>Why does this never happen at my front door... 165/150 https://t.co/HmwrdfEfUE</td>\n",
       "      <td>https://twitter.com/dog_rates/status/758467244762497024/video/1</td>\n",
       "      <td>165.0</td>\n",
       "      <td>150.0</td>\n",
       "      <td>None</td>\n",
       "      <td>NaN</td>\n",
       "      <td>NaN</td>\n",
       "      <td>NaN</td>\n",
       "      <td>NaN</td>\n",
       "      <td>False</td>\n",
       "    </tr>\n",
       "    <tr>\n",
       "      <th>979</th>\n",
       "      <td>7.499813e+17</td>\n",
       "      <td>2016-07-04 15:00:45</td>\n",
       "      <td>TweetDeck</td>\n",
       "      <td>This is Atticus. He's quite simply America af. 1776/10 https://t.co/GRXwMxLBkh</td>\n",
       "      <td>https://twitter.com/dog_rates/status/749981277374128128/photo/1</td>\n",
       "      <td>1776.0</td>\n",
       "      <td>10.0</td>\n",
       "      <td>Atticus</td>\n",
       "      <td>NaN</td>\n",
       "      <td>NaN</td>\n",
       "      <td>NaN</td>\n",
       "      <td>NaN</td>\n",
       "      <td>False</td>\n",
       "    </tr>\n",
       "    <tr>\n",
       "      <th>1120</th>\n",
       "      <td>7.311560e+17</td>\n",
       "      <td>2016-05-13 16:15:54</td>\n",
       "      <td>Twitter for iPhone</td>\n",
       "      <td>Say hello to this unbelievably well behaved squad of doggos. 204/170 would try to pet all at once https://t.co/yGQI3He3xv</td>\n",
       "      <td>https://twitter.com/dog_rates/status/731156023742988288/photo/1</td>\n",
       "      <td>204.0</td>\n",
       "      <td>170.0</td>\n",
       "      <td>this</td>\n",
       "      <td>NaN</td>\n",
       "      <td>NaN</td>\n",
       "      <td>NaN</td>\n",
       "      <td>NaN</td>\n",
       "      <td>False</td>\n",
       "    </tr>\n",
       "    <tr>\n",
       "      <th>1202</th>\n",
       "      <td>7.164391e+17</td>\n",
       "      <td>2016-04-03 01:36:11</td>\n",
       "      <td>Twitter for iPhone</td>\n",
       "      <td>This is Bluebert. He just saw that both #FinalFur match ups are split 50/50. Amazed af. 11/10 https://t.co/Kky1DPG4iq</td>\n",
       "      <td>https://twitter.com/dog_rates/status/716439118184652801/photo/1</td>\n",
       "      <td>50.0</td>\n",
       "      <td>50.0</td>\n",
       "      <td>Bluebert</td>\n",
       "      <td>NaN</td>\n",
       "      <td>NaN</td>\n",
       "      <td>NaN</td>\n",
       "      <td>NaN</td>\n",
       "      <td>False</td>\n",
       "    </tr>\n",
       "    <tr>\n",
       "      <th>1228</th>\n",
       "      <td>7.139006e+17</td>\n",
       "      <td>2016-03-27 01:29:02</td>\n",
       "      <td>Twitter for iPhone</td>\n",
       "      <td>Happy Saturday here's 9 puppers on a bench. 99/90 good work everybody https://t.co/mpvaVxKmc1</td>\n",
       "      <td>https://twitter.com/dog_rates/status/713900603437621249/photo/1</td>\n",
       "      <td>99.0</td>\n",
       "      <td>90.0</td>\n",
       "      <td>None</td>\n",
       "      <td>NaN</td>\n",
       "      <td>NaN</td>\n",
       "      <td>NaN</td>\n",
       "      <td>NaN</td>\n",
       "      <td>False</td>\n",
       "    </tr>\n",
       "    <tr>\n",
       "      <th>1254</th>\n",
       "      <td>7.106587e+17</td>\n",
       "      <td>2016-03-18 02:46:49</td>\n",
       "      <td>Twitter for iPhone</td>\n",
       "      <td>Here's a brigade of puppers. All look very prepared for whatever happens next. 80/80 https://t.co/0eb7R1Om12</td>\n",
       "      <td>https://twitter.com/dog_rates/status/710658690886586372/photo/1</td>\n",
       "      <td>80.0</td>\n",
       "      <td>80.0</td>\n",
       "      <td>None</td>\n",
       "      <td>NaN</td>\n",
       "      <td>NaN</td>\n",
       "      <td>NaN</td>\n",
       "      <td>NaN</td>\n",
       "      <td>False</td>\n",
       "    </tr>\n",
       "    <tr>\n",
       "      <th>1274</th>\n",
       "      <td>7.091984e+17</td>\n",
       "      <td>2016-03-14 02:04:08</td>\n",
       "      <td>Twitter for iPhone</td>\n",
       "      <td>From left to right:\\nCletus, Jerome, Alejandro, Burp, &amp;amp; Titson\\nNone know where camera is. 45/50 would hug all at once https://t.co/sedre1ivTK</td>\n",
       "      <td>https://twitter.com/dog_rates/status/709198395643068416/photo/1</td>\n",
       "      <td>45.0</td>\n",
       "      <td>50.0</td>\n",
       "      <td>None</td>\n",
       "      <td>NaN</td>\n",
       "      <td>NaN</td>\n",
       "      <td>NaN</td>\n",
       "      <td>NaN</td>\n",
       "      <td>False</td>\n",
       "    </tr>\n",
       "    <tr>\n",
       "      <th>1351</th>\n",
       "      <td>7.040548e+17</td>\n",
       "      <td>2016-02-28 21:25:30</td>\n",
       "      <td>Twitter for iPhone</td>\n",
       "      <td>Here is a whole flock of puppers.  60/50 I'll take the lot https://t.co/9dpcw6MdWa</td>\n",
       "      <td>https://twitter.com/dog_rates/status/704054845121142784/photo/1</td>\n",
       "      <td>60.0</td>\n",
       "      <td>50.0</td>\n",
       "      <td>a</td>\n",
       "      <td>NaN</td>\n",
       "      <td>NaN</td>\n",
       "      <td>NaN</td>\n",
       "      <td>NaN</td>\n",
       "      <td>False</td>\n",
       "    </tr>\n",
       "    <tr>\n",
       "      <th>1433</th>\n",
       "      <td>6.974630e+17</td>\n",
       "      <td>2016-02-10 16:51:59</td>\n",
       "      <td>Twitter for iPhone</td>\n",
       "      <td>Happy Wednesday here's a bucket of pups. 44/40 would pet all at once https://t.co/HppvrYuamZ</td>\n",
       "      <td>https://twitter.com/dog_rates/status/697463031882764288/photo/1</td>\n",
       "      <td>44.0</td>\n",
       "      <td>40.0</td>\n",
       "      <td>None</td>\n",
       "      <td>NaN</td>\n",
       "      <td>NaN</td>\n",
       "      <td>NaN</td>\n",
       "      <td>NaN</td>\n",
       "      <td>False</td>\n",
       "    </tr>\n",
       "    <tr>\n",
       "      <th>1635</th>\n",
       "      <td>6.842229e+17</td>\n",
       "      <td>2016-01-05 04:00:18</td>\n",
       "      <td>Twitter for iPhone</td>\n",
       "      <td>Someone help the girl is being mugged. Several are distracting her while two steal her shoes. Clever puppers 121/110 https://t.co/1zfnTJLt55</td>\n",
       "      <td>https://twitter.com/dog_rates/status/684222868335505415/photo/1</td>\n",
       "      <td>121.0</td>\n",
       "      <td>110.0</td>\n",
       "      <td>None</td>\n",
       "      <td>NaN</td>\n",
       "      <td>NaN</td>\n",
       "      <td>NaN</td>\n",
       "      <td>NaN</td>\n",
       "      <td>False</td>\n",
       "    </tr>\n",
       "    <tr>\n",
       "      <th>1712</th>\n",
       "      <td>6.804947e+17</td>\n",
       "      <td>2015-12-25 21:06:00</td>\n",
       "      <td>Twitter for iPhone</td>\n",
       "      <td>Here we have uncovered an entire battalion of holiday puppers. Average of 11.26/10 https://t.co/eNm2S6p9BD</td>\n",
       "      <td>https://twitter.com/dog_rates/status/680494726643068929/photo/1</td>\n",
       "      <td>26.0</td>\n",
       "      <td>10.0</td>\n",
       "      <td>None</td>\n",
       "      <td>NaN</td>\n",
       "      <td>NaN</td>\n",
       "      <td>NaN</td>\n",
       "      <td>NaN</td>\n",
       "      <td>False</td>\n",
       "    </tr>\n",
       "    <tr>\n",
       "      <th>1779</th>\n",
       "      <td>6.777165e+17</td>\n",
       "      <td>2015-12-18 05:06:23</td>\n",
       "      <td>Twitter for iPhone</td>\n",
       "      <td>IT'S PUPPERGEDDON. Total of 144/120 ...I think https://t.co/ZanVtAtvIq</td>\n",
       "      <td>https://twitter.com/dog_rates/status/677716515794329600/photo/1</td>\n",
       "      <td>144.0</td>\n",
       "      <td>120.0</td>\n",
       "      <td>None</td>\n",
       "      <td>NaN</td>\n",
       "      <td>NaN</td>\n",
       "      <td>NaN</td>\n",
       "      <td>NaN</td>\n",
       "      <td>False</td>\n",
       "    </tr>\n",
       "    <tr>\n",
       "      <th>1843</th>\n",
       "      <td>6.758531e+17</td>\n",
       "      <td>2015-12-13 01:41:41</td>\n",
       "      <td>Twitter for iPhone</td>\n",
       "      <td>Here we have an entire platoon of puppers. Total score: 88/80 would pet all at once https://t.co/y93p6FLvVw</td>\n",
       "      <td>https://twitter.com/dog_rates/status/675853064436391936/photo/1,https://twitter.com/dog_rates/status/675853064436391936/photo/1</td>\n",
       "      <td>88.0</td>\n",
       "      <td>80.0</td>\n",
       "      <td>None</td>\n",
       "      <td>NaN</td>\n",
       "      <td>NaN</td>\n",
       "      <td>NaN</td>\n",
       "      <td>NaN</td>\n",
       "      <td>False</td>\n",
       "    </tr>\n",
       "    <tr>\n",
       "      <th>2074</th>\n",
       "      <td>6.708428e+17</td>\n",
       "      <td>2015-11-29 05:52:33</td>\n",
       "      <td>Twitter for iPhone</td>\n",
       "      <td>After so many requests... here you go.\\n\\nGood dogg. 420/10 https://t.co/yfAAo1gdeY</td>\n",
       "      <td>https://twitter.com/dog_rates/status/670842764863651840/photo/1</td>\n",
       "      <td>420.0</td>\n",
       "      <td>10.0</td>\n",
       "      <td>None</td>\n",
       "      <td>NaN</td>\n",
       "      <td>NaN</td>\n",
       "      <td>NaN</td>\n",
       "      <td>NaN</td>\n",
       "      <td>False</td>\n",
       "    </tr>\n",
       "  </tbody>\n",
       "</table>\n",
       "</div>"
      ],
      "text/plain": [
       "          tweet_id           timestamp     source_of_tweet  \\\n",
       "433   8.206902e+17 2017-01-15 17:52:40  Twitter for iPhone   \n",
       "516   8.109847e+17 2016-12-19 23:06:23  Twitter for iPhone   \n",
       "695   7.867091e+17 2016-10-13 23:23:56  Twitter for iPhone   \n",
       "763   7.780270e+17 2016-09-20 00:24:34  Twitter for iPhone   \n",
       "902   7.584672e+17 2016-07-28 01:00:57  Twitter for iPhone   \n",
       "979   7.499813e+17 2016-07-04 15:00:45  TweetDeck            \n",
       "1120  7.311560e+17 2016-05-13 16:15:54  Twitter for iPhone   \n",
       "1202  7.164391e+17 2016-04-03 01:36:11  Twitter for iPhone   \n",
       "1228  7.139006e+17 2016-03-27 01:29:02  Twitter for iPhone   \n",
       "1254  7.106587e+17 2016-03-18 02:46:49  Twitter for iPhone   \n",
       "1274  7.091984e+17 2016-03-14 02:04:08  Twitter for iPhone   \n",
       "1351  7.040548e+17 2016-02-28 21:25:30  Twitter for iPhone   \n",
       "1433  6.974630e+17 2016-02-10 16:51:59  Twitter for iPhone   \n",
       "1635  6.842229e+17 2016-01-05 04:00:18  Twitter for iPhone   \n",
       "1712  6.804947e+17 2015-12-25 21:06:00  Twitter for iPhone   \n",
       "1779  6.777165e+17 2015-12-18 05:06:23  Twitter for iPhone   \n",
       "1843  6.758531e+17 2015-12-13 01:41:41  Twitter for iPhone   \n",
       "2074  6.708428e+17 2015-11-29 05:52:33  Twitter for iPhone   \n",
       "\n",
       "                                                                                                                                                                           text  \\\n",
       "433   The floofs have been released I repeat the floofs have been released. 84/70 https://t.co/NIYC820tmd                                                                         \n",
       "516   Meet Sam. She smiles 24/7 &amp; secretly aspires to be a reindeer. \\nKeep Sam smiling by clicking and sharing this link:\\nhttps://t.co/98tB8y7y7t https://t.co/LouL5vdvxx   \n",
       "695   This is Logan, the Chow who lived. He solemnly swears he's up to lots of good. H*ckin magical af 9.75/10 https://t.co/yBO5wuqaPS                                            \n",
       "763   This is Sophie. She's a Jubilant Bush Pupper. Super h*ckin rare. Appears at random just to smile at the locals. 11.27/10 would smile back https://t.co/QFaUiIHxHq           \n",
       "902   Why does this never happen at my front door... 165/150 https://t.co/HmwrdfEfUE                                                                                              \n",
       "979   This is Atticus. He's quite simply America af. 1776/10 https://t.co/GRXwMxLBkh                                                                                              \n",
       "1120  Say hello to this unbelievably well behaved squad of doggos. 204/170 would try to pet all at once https://t.co/yGQI3He3xv                                                   \n",
       "1202  This is Bluebert. He just saw that both #FinalFur match ups are split 50/50. Amazed af. 11/10 https://t.co/Kky1DPG4iq                                                       \n",
       "1228  Happy Saturday here's 9 puppers on a bench. 99/90 good work everybody https://t.co/mpvaVxKmc1                                                                               \n",
       "1254  Here's a brigade of puppers. All look very prepared for whatever happens next. 80/80 https://t.co/0eb7R1Om12                                                                \n",
       "1274  From left to right:\\nCletus, Jerome, Alejandro, Burp, &amp; Titson\\nNone know where camera is. 45/50 would hug all at once https://t.co/sedre1ivTK                          \n",
       "1351  Here is a whole flock of puppers.  60/50 I'll take the lot https://t.co/9dpcw6MdWa                                                                                          \n",
       "1433  Happy Wednesday here's a bucket of pups. 44/40 would pet all at once https://t.co/HppvrYuamZ                                                                                \n",
       "1635  Someone help the girl is being mugged. Several are distracting her while two steal her shoes. Clever puppers 121/110 https://t.co/1zfnTJLt55                                \n",
       "1712  Here we have uncovered an entire battalion of holiday puppers. Average of 11.26/10 https://t.co/eNm2S6p9BD                                                                  \n",
       "1779  IT'S PUPPERGEDDON. Total of 144/120 ...I think https://t.co/ZanVtAtvIq                                                                                                      \n",
       "1843  Here we have an entire platoon of puppers. Total score: 88/80 would pet all at once https://t.co/y93p6FLvVw                                                                 \n",
       "2074  After so many requests... here you go.\\n\\nGood dogg. 420/10 https://t.co/yfAAo1gdeY                                                                                         \n",
       "\n",
       "                                                                                                                                                                                        expanded_urls  \\\n",
       "433   https://twitter.com/dog_rates/status/820690176645140481/photo/1,https://twitter.com/dog_rates/status/820690176645140481/photo/1,https://twitter.com/dog_rates/status/820690176645140481/photo/1   \n",
       "516   https://www.gofundme.com/sams-smile,https://twitter.com/dog_rates/status/810984652412424192/photo/1                                                                                               \n",
       "695   https://twitter.com/dog_rates/status/786709082849828864/photo/1                                                                                                                                   \n",
       "763   https://twitter.com/dog_rates/status/778027034220126208/photo/1                                                                                                                                   \n",
       "902   https://twitter.com/dog_rates/status/758467244762497024/video/1                                                                                                                                   \n",
       "979   https://twitter.com/dog_rates/status/749981277374128128/photo/1                                                                                                                                   \n",
       "1120  https://twitter.com/dog_rates/status/731156023742988288/photo/1                                                                                                                                   \n",
       "1202  https://twitter.com/dog_rates/status/716439118184652801/photo/1                                                                                                                                   \n",
       "1228  https://twitter.com/dog_rates/status/713900603437621249/photo/1                                                                                                                                   \n",
       "1254  https://twitter.com/dog_rates/status/710658690886586372/photo/1                                                                                                                                   \n",
       "1274  https://twitter.com/dog_rates/status/709198395643068416/photo/1                                                                                                                                   \n",
       "1351  https://twitter.com/dog_rates/status/704054845121142784/photo/1                                                                                                                                   \n",
       "1433  https://twitter.com/dog_rates/status/697463031882764288/photo/1                                                                                                                                   \n",
       "1635  https://twitter.com/dog_rates/status/684222868335505415/photo/1                                                                                                                                   \n",
       "1712  https://twitter.com/dog_rates/status/680494726643068929/photo/1                                                                                                                                   \n",
       "1779  https://twitter.com/dog_rates/status/677716515794329600/photo/1                                                                                                                                   \n",
       "1843  https://twitter.com/dog_rates/status/675853064436391936/photo/1,https://twitter.com/dog_rates/status/675853064436391936/photo/1                                                                   \n",
       "2074  https://twitter.com/dog_rates/status/670842764863651840/photo/1                                                                                                                                   \n",
       "\n",
       "      rating_numerator  rating_denominator      name doggo floofer  pupper  \\\n",
       "433   84.0              70.0                None      NaN   NaN     NaN      \n",
       "516   24.0              7.0                 Sam       NaN   NaN     NaN      \n",
       "695   75.0              10.0                Logan     NaN   NaN     NaN      \n",
       "763   27.0              10.0                Sophie    NaN   NaN     pupper   \n",
       "902   165.0             150.0               None      NaN   NaN     NaN      \n",
       "979   1776.0            10.0                Atticus   NaN   NaN     NaN      \n",
       "1120  204.0             170.0               this      NaN   NaN     NaN      \n",
       "1202  50.0              50.0                Bluebert  NaN   NaN     NaN      \n",
       "1228  99.0              90.0                None      NaN   NaN     NaN      \n",
       "1254  80.0              80.0                None      NaN   NaN     NaN      \n",
       "1274  45.0              50.0                None      NaN   NaN     NaN      \n",
       "1351  60.0              50.0                a         NaN   NaN     NaN      \n",
       "1433  44.0              40.0                None      NaN   NaN     NaN      \n",
       "1635  121.0             110.0               None      NaN   NaN     NaN      \n",
       "1712  26.0              10.0                None      NaN   NaN     NaN      \n",
       "1779  144.0             120.0               None      NaN   NaN     NaN      \n",
       "1843  88.0              80.0                None      NaN   NaN     NaN      \n",
       "2074  420.0             10.0                None      NaN   NaN     NaN      \n",
       "\n",
       "     puppo is_emoji  \n",
       "433   NaN   False    \n",
       "516   NaN   False    \n",
       "695   NaN   False    \n",
       "763   NaN   False    \n",
       "902   NaN   False    \n",
       "979   NaN   False    \n",
       "1120  NaN   False    \n",
       "1202  NaN   False    \n",
       "1228  NaN   False    \n",
       "1254  NaN   False    \n",
       "1274  NaN   False    \n",
       "1351  NaN   False    \n",
       "1433  NaN   False    \n",
       "1635  NaN   False    \n",
       "1712  NaN   False    \n",
       "1779  NaN   False    \n",
       "1843  NaN   False    \n",
       "2074  NaN   False    "
      ]
     },
     "execution_count": 134,
     "metadata": {},
     "output_type": "execute_result"
    }
   ],
   "source": [
    "pd.set_option('display.max_colwidth', -1)\n",
    "twitter_archive[twitter_archive['rating_numerator']>14]"
   ]
  },
  {
   "cell_type": "code",
   "execution_count": 135,
   "metadata": {},
   "outputs": [],
   "source": [
    "\n",
    "twitter_archive=twitter_archive.drop(516)"
   ]
  },
  {
   "cell_type": "markdown",
   "metadata": {},
   "source": [
    "test:"
   ]
  },
  {
   "cell_type": "code",
   "execution_count": 136,
   "metadata": {},
   "outputs": [
    {
     "name": "stdout",
     "output_type": "stream",
     "text": [
      "<class 'pandas.core.frame.DataFrame'>\n",
      "Int64Index: 2349 entries, 0 to 2038\n",
      "Data columns (total 13 columns):\n",
      "tweet_id              2093 non-null float64\n",
      "timestamp             2093 non-null datetime64[ns]\n",
      "source_of_tweet       2093 non-null object\n",
      "text                  2093 non-null object\n",
      "expanded_urls         2093 non-null object\n",
      "rating_numerator      2093 non-null float64\n",
      "rating_denominator    2093 non-null float64\n",
      "name                  2093 non-null object\n",
      "doggo                 83 non-null object\n",
      "floofer               10 non-null object\n",
      "pupper                229 non-null object\n",
      "puppo                 24 non-null object\n",
      "is_emoji              2093 non-null object\n",
      "dtypes: datetime64[ns](1), float64(3), object(9)\n",
      "memory usage: 256.9+ KB\n"
     ]
    }
   ],
   "source": [
    "twitter_archive.info()"
   ]
  },
  {
   "cell_type": "code",
   "execution_count": 137,
   "metadata": {},
   "outputs": [
    {
     "data": {
      "text/plain": [
       "2349"
      ]
     },
     "execution_count": 137,
     "metadata": {},
     "output_type": "execute_result"
    }
   ],
   "source": [
    "twitter_archive.shape[0]"
   ]
  },
  {
   "cell_type": "markdown",
   "metadata": {},
   "source": [
    "### continue cleaning Quality issues :\n",
    "#### `tweet_info table` :\n"
   ]
  },
  {
   "cell_type": "code",
   "execution_count": 138,
   "metadata": {},
   "outputs": [],
   "source": [
    "tweet_info=tweet_info_uncleaned.copy()"
   ]
  },
  {
   "cell_type": "markdown",
   "metadata": {},
   "source": [
    "Define:\n",
    "* usages country,place_type,name_city_country is not efficient as there is too much missing data in the columns ,remove re-tweeted tweets (total of 77 tweets) "
   ]
  },
  {
   "cell_type": "markdown",
   "metadata": {},
   "source": [
    "code:"
   ]
  },
  {
   "cell_type": "code",
   "execution_count": 139,
   "metadata": {},
   "outputs": [
    {
     "data": {
      "text/plain": [
       "None                  2097\n",
       "4196983835            47  \n",
       "21955058              2   \n",
       "4717297476            1   \n",
       "194351775             1   \n",
       "30582082              1   \n",
       "29166305              1   \n",
       "730505014150582272    1   \n",
       "3105440746            1   \n",
       "21435658              1   \n",
       "291859009             1   \n",
       "20683724              1   \n",
       "11856342              1   \n",
       "840547864354918400    1   \n",
       "16374678              1   \n",
       "2894131180            1   \n",
       "2319108198            1   \n",
       "28785486              1   \n",
       "77596200              1   \n",
       "15846407              1   \n",
       "1582853809            1   \n",
       "47384430              1   \n",
       "467036706             1   \n",
       "1198988510            1   \n",
       "2281181600            1   \n",
       "16487760              1   \n",
       "26259576              1   \n",
       "180670967             1   \n",
       "13615722              1   \n",
       "358972768             1   \n",
       "113211856             1   \n",
       "Name: in_reply_to_user_id_str, dtype: int64"
      ]
     },
     "execution_count": 139,
     "metadata": {},
     "output_type": "execute_result"
    }
   ],
   "source": [
    "tweet_info.in_reply_to_user_id_str.value_counts()"
   ]
  },
  {
   "cell_type": "code",
   "execution_count": 140,
   "metadata": {},
   "outputs": [],
   "source": [
    "tweet_info.in_reply_to_user_id_str=tweet_info.in_reply_to_user_id_str.apply(change_2_null)"
   ]
  },
  {
   "cell_type": "code",
   "execution_count": 141,
   "metadata": {},
   "outputs": [],
   "source": [
    "tweet_info=tweet_info[tweet_info['in_reply_to_user_id_str'].isnull()]"
   ]
  },
  {
   "cell_type": "code",
   "execution_count": 142,
   "metadata": {},
   "outputs": [],
   "source": [
    "tweet_info=tweet_info.drop(['country','place_type','name_city_country','in_reply_to_user_id_str'],axis=1)"
   ]
  },
  {
   "cell_type": "markdown",
   "metadata": {},
   "source": [
    "test:"
   ]
  },
  {
   "cell_type": "code",
   "execution_count": 143,
   "metadata": {},
   "outputs": [
    {
     "name": "stdout",
     "output_type": "stream",
     "text": [
      "<class 'pandas.core.frame.DataFrame'>\n",
      "Int64Index: 2097 entries, 0 to 2173\n",
      "Data columns (total 5 columns):\n",
      "tweet_id          2097 non-null int64\n",
      "text              2097 non-null object\n",
      "favorite_count    2097 non-null int64\n",
      "retweet_count     2097 non-null int64\n",
      "created_at        2097 non-null object\n",
      "dtypes: int64(3), object(2)\n",
      "memory usage: 98.3+ KB\n"
     ]
    }
   ],
   "source": [
    "tweet_info.info()"
   ]
  },
  {
   "cell_type": "markdown",
   "metadata": {},
   "source": [
    "### **tidiness issues:**\n",
    "\n",
    "#### `twitter-archive-enhanced table` \n"
   ]
  },
  {
   "cell_type": "markdown",
   "metadata": {},
   "source": [
    "Define :\n",
    "* in the last 4 columns , we can have more than one image per tweet so more than one label can be given to a tweet with maximum 2 images in our given dataset, for each tweet 2 columns only can represent dog type one for the first image and the other for the second\n",
    "\n",
    "* my solutions include : scan over each column , for each if entry value is not equal None add the label to a new column called dog_1_label if the value is equal None , add NaN to it's corresponding dog_1_label cell , for a specific entry if the dog_1_label entry is already inhabited with a value , it means the naming correspond to another image of the same tweet (we can check later bu comparing the number of extended urls) we add the other name to dog_1_label column\n",
    "\n"
   ]
  },
  {
   "cell_type": "markdown",
   "metadata": {},
   "source": [
    "code:"
   ]
  },
  {
   "cell_type": "code",
   "execution_count": 144,
   "metadata": {},
   "outputs": [],
   "source": [
    "labels=['doggo', 'floofer', 'pupper', 'puppo']\n",
    "twitter_archive['dog_1_label']=\" \"\n",
    "twitter_archive['dog_2_label']=\" \"\n",
    "for label in labels :\n",
    "    for index, row in twitter_archive.iterrows():\n",
    "        if not(twitter_archive.loc[index,label] is np.nan) :\n",
    "               \n",
    "                if not(twitter_archive.loc[index,'dog_1_label'] ==\" \") :\n",
    "                      twitter_archive.loc[index,'dog_2_label']=label\n",
    "                else :\n",
    "                      twitter_archive.loc[index,'dog_1_label']=label\n",
    "                      \n",
    "twitter_archive.dog_1_label=twitter_archive.dog_1_label.replace({\" \": np.nan})\n",
    "twitter_archive.dog_2_label=twitter_archive.dog_2_label.replace({\" \": np.nan})\n",
    "twitter_archive=twitter_archive.drop(['doggo', 'floofer','pupper', 'puppo'],axis=1)"
   ]
  },
  {
   "cell_type": "markdown",
   "metadata": {},
   "source": [
    "test:"
   ]
  },
  {
   "cell_type": "code",
   "execution_count": 145,
   "metadata": {},
   "outputs": [
    {
     "data": {
      "text/plain": [
       "pupper     220\n",
       "doggo      83 \n",
       "puppo      23 \n",
       "floofer    9  \n",
       "Name: dog_1_label, dtype: int64"
      ]
     },
     "execution_count": 145,
     "metadata": {},
     "output_type": "execute_result"
    }
   ],
   "source": [
    "twitter_archive.dog_1_label.value_counts()"
   ]
  },
  {
   "cell_type": "markdown",
   "metadata": {},
   "source": [
    "### continue tidiness issues :\n",
    "#### `tweet_info` table :"
   ]
  },
  {
   "cell_type": "markdown",
   "metadata": {},
   "source": [
    "Define:\n",
    "* merge twitter_archive -->(archieved tweets table) and the table acquired from twitter (tweet_info) ,columns(favorite_county,retweet_count)of tweet_info , also merge predictions on them *"
   ]
  },
  {
   "cell_type": "markdown",
   "metadata": {},
   "source": [
    "code:"
   ]
  },
  {
   "cell_type": "code",
   "execution_count": 146,
   "metadata": {},
   "outputs": [],
   "source": [
    "list=['tweet_id','favorite_count','retweet_count']\n",
    "tweet_info[list]\n",
    "\n",
    "merged_table=pd.merge(twitter_archive,tweet_info[list],how='inner',on='tweet_id')\n",
    "merged_table=pd.merge(merged_table,predictions,how='left',on='tweet_id')"
   ]
  },
  {
   "cell_type": "code",
   "execution_count": 147,
   "metadata": {},
   "outputs": [],
   "source": [
    "merged_table.source_of_tweet=merged_table.source_of_tweet.astype('category')"
   ]
  },
  {
   "cell_type": "markdown",
   "metadata": {},
   "source": [
    "test:"
   ]
  },
  {
   "cell_type": "code",
   "execution_count": 148,
   "metadata": {},
   "outputs": [],
   "source": [
    "tweets_2_images=merged_table[~(merged_table['dog_2_label'].isnull())].tweet_id\n",
    "merged_table[merged_table['tweet_id'].isin(tweets_2_images.values)]\n",
    "predictions[predictions['tweet_id'].isin(tweets_2_images.values)]\n",
    "\n",
    "merged_table.to_csv('twitter_archive_master.csv', index=False, date_format='%Y-%m-%d %H:%M:%S')"
   ]
  },
  {
   "cell_type": "code",
   "execution_count": 149,
   "metadata": {},
   "outputs": [
    {
     "name": "stdout",
     "output_type": "stream",
     "text": [
      "<class 'pandas.core.frame.DataFrame'>\n",
      "Int64Index: 1367 entries, 0 to 1366\n",
      "Data columns (total 24 columns):\n",
      "tweet_id                1367 non-null float64\n",
      "timestamp               1367 non-null datetime64[ns]\n",
      "source_of_tweet         1367 non-null category\n",
      "text                    1367 non-null object\n",
      "expanded_urls           1367 non-null object\n",
      "rating_numerator        1367 non-null float64\n",
      "rating_denominator      1367 non-null float64\n",
      "name                    1367 non-null object\n",
      "is_emoji                1185 non-null object\n",
      "dog_1_label             225 non-null object\n",
      "dog_2_label             8 non-null object\n",
      "favorite_count          1367 non-null int64\n",
      "retweet_count           1367 non-null int64\n",
      "jpg_url                 1283 non-null object\n",
      "img_num                 1283 non-null float64\n",
      "First_prediction        1283 non-null category\n",
      "confidence_percent_1    1283 non-null float64\n",
      "Is_it_dog_1             1283 non-null object\n",
      "Second_prediction       1283 non-null category\n",
      "confidence_percent_2    1283 non-null float64\n",
      "Is_it_dog_2             1283 non-null object\n",
      "Third_prediction        1283 non-null category\n",
      "confidence_percent_3    1283 non-null float64\n",
      "Is_it_dog_3             1283 non-null object\n",
      "dtypes: category(4), datetime64[ns](1), float64(7), int64(2), object(10)\n",
      "memory usage: 293.1+ KB\n"
     ]
    }
   ],
   "source": [
    "merged_table.info()"
   ]
  },
  {
   "cell_type": "markdown",
   "metadata": {},
   "source": [
    "## Analyzing the Datasets"
   ]
  },
  {
   "cell_type": "code",
   "execution_count": 150,
   "metadata": {},
   "outputs": [
    {
     "data": {
      "text/html": [
       "<div>\n",
       "<style scoped>\n",
       "    .dataframe tbody tr th:only-of-type {\n",
       "        vertical-align: middle;\n",
       "    }\n",
       "\n",
       "    .dataframe tbody tr th {\n",
       "        vertical-align: top;\n",
       "    }\n",
       "\n",
       "    .dataframe thead th {\n",
       "        text-align: right;\n",
       "    }\n",
       "</style>\n",
       "<table border=\"1\" class=\"dataframe\">\n",
       "  <thead>\n",
       "    <tr style=\"text-align: right;\">\n",
       "      <th></th>\n",
       "      <th>tweet_id</th>\n",
       "      <th>timestamp</th>\n",
       "      <th>source_of_tweet</th>\n",
       "      <th>text</th>\n",
       "      <th>expanded_urls</th>\n",
       "      <th>rating_numerator</th>\n",
       "      <th>rating_denominator</th>\n",
       "      <th>name</th>\n",
       "      <th>is_emoji</th>\n",
       "      <th>dog_1_label</th>\n",
       "      <th>...</th>\n",
       "      <th>img_num</th>\n",
       "      <th>First_prediction</th>\n",
       "      <th>confidence_percent_1</th>\n",
       "      <th>Is_it_dog_1</th>\n",
       "      <th>Second_prediction</th>\n",
       "      <th>confidence_percent_2</th>\n",
       "      <th>Is_it_dog_2</th>\n",
       "      <th>Third_prediction</th>\n",
       "      <th>confidence_percent_3</th>\n",
       "      <th>Is_it_dog_3</th>\n",
       "    </tr>\n",
       "  </thead>\n",
       "  <tbody>\n",
       "    <tr>\n",
       "      <th>0</th>\n",
       "      <td>8.918152e+17</td>\n",
       "      <td>2017-07-31 00:18:03</td>\n",
       "      <td>Twitter for iPhone</td>\n",
       "      <td>This is Archie. He is a rare Norwegian Pouncing Corgo. Lives in the tall grass. You never know when one may strike. 12/10 https://t.co/wUnZnhtVJB</td>\n",
       "      <td>https://twitter.com/dog_rates/status/891815181378084864/photo/1</td>\n",
       "      <td>12.0</td>\n",
       "      <td>10.0</td>\n",
       "      <td>Archie</td>\n",
       "      <td>False</td>\n",
       "      <td>NaN</td>\n",
       "      <td>...</td>\n",
       "      <td>1.0</td>\n",
       "      <td>Chihuahua</td>\n",
       "      <td>71.6</td>\n",
       "      <td>True</td>\n",
       "      <td>malamute</td>\n",
       "      <td>7.8</td>\n",
       "      <td>True</td>\n",
       "      <td>kelpie</td>\n",
       "      <td>3.1</td>\n",
       "      <td>True</td>\n",
       "    </tr>\n",
       "  </tbody>\n",
       "</table>\n",
       "<p>1 rows × 24 columns</p>\n",
       "</div>"
      ],
      "text/plain": [
       "       tweet_id            timestamp     source_of_tweet  \\\n",
       "0  8.918152e+17  2017-07-31 00:18:03  Twitter for iPhone   \n",
       "\n",
       "                                                                                                                                                text  \\\n",
       "0  This is Archie. He is a rare Norwegian Pouncing Corgo. Lives in the tall grass. You never know when one may strike. 12/10 https://t.co/wUnZnhtVJB   \n",
       "\n",
       "                                                     expanded_urls  \\\n",
       "0  https://twitter.com/dog_rates/status/891815181378084864/photo/1   \n",
       "\n",
       "   rating_numerator  rating_denominator    name is_emoji dog_1_label  \\\n",
       "0  12.0              10.0                Archie  False    NaN          \n",
       "\n",
       "      ...      img_num  First_prediction  confidence_percent_1 Is_it_dog_1  \\\n",
       "0     ...       1.0     Chihuahua         71.6                  True         \n",
       "\n",
       "   Second_prediction confidence_percent_2  Is_it_dog_2 Third_prediction  \\\n",
       "0  malamute           7.8                  True         kelpie            \n",
       "\n",
       "  confidence_percent_3  Is_it_dog_3  \n",
       "0  3.1                  True         \n",
       "\n",
       "[1 rows x 24 columns]"
      ]
     },
     "execution_count": 150,
     "metadata": {},
     "output_type": "execute_result"
    }
   ],
   "source": [
    "tweets=pd.read_csv('twitter_archive_master.csv')\n",
    "tweets.head(1)"
   ]
  },
  {
   "cell_type": "markdown",
   "metadata": {},
   "source": [
    "### univariate analysis :\n",
    "\n",
    "* 1-How the tweets are spread over time, does a certain year or month have a higher tweet rate ?\n",
    "* 2-how the dog ratings are spread over the dataset , how often each rating occur ?\n",
    "* 3-For different labels given to dogs on this rating system(doggo,pupper,puppo,floofer) which refer to their age and distinct features , how the dataset is divided among these labels ?\n",
    "* 4-what is the average retweet and favourite count for weratedogs twitter account ?\n",
    "* 5-Do people usually use the twitter  through web client or an app as(twitter for iphone . Vine , tweetDeck )\n"
   ]
  },
  {
   "cell_type": "markdown",
   "metadata": {},
   "source": [
    "#### 1-How the tweets are spread over time, does a certain year or month have a higher tweet rate ?"
   ]
  },
  {
   "cell_type": "code",
   "execution_count": 151,
   "metadata": {},
   "outputs": [
    {
     "data": {
      "text/plain": [
       "count     1185 \n",
       "unique    2    \n",
       "top       False\n",
       "freq      1177 \n",
       "Name: is_emoji, dtype: object"
      ]
     },
     "execution_count": 151,
     "metadata": {},
     "output_type": "execute_result"
    }
   ],
   "source": [
    "\n",
    "tweets['timestamp']=pd.to_datetime(tweets['timestamp'])\n",
    "tweets['year_of_tweet']=tweets['timestamp'].dt.year.astype('category')\n",
    "tweets['month_of_tweet']=tweets['timestamp'].dt.month.astype('category')\n",
    "\n",
    "tweets['dog_1_label']=tweets['dog_1_label'].astype('category')\n",
    "tweets['dog_2_label']=tweets['dog_2_label'].astype('category')\n",
    "\n",
    "tweets['dog_1_label']= tweets['dog_1_label'].replace(np.nan,'Unlabeled')\n",
    "tweets['dog_2_label']= tweets['dog_2_label'].replace(np.nan,'Unlabeled')\n",
    "tweets.is_emoji.describe()"
   ]
  },
  {
   "cell_type": "code",
   "execution_count": 152,
   "metadata": {},
   "outputs": [
    {
     "name": "stdout",
     "output_type": "stream",
     "text": [
      "count     1367\n",
      "unique    3   \n",
      "top       2016\n",
      "freq      702 \n",
      "Name: year_of_tweet, dtype: int64\n",
      "count     1367\n",
      "unique    12  \n",
      "top       12  \n",
      "freq      279 \n",
      "Name: month_of_tweet, dtype: int64\n"
     ]
    },
    {
     "data": {
      "text/plain": [
       "<matplotlib.axes._subplots.AxesSubplot at 0x1c4f8080a20>"
      ]
     },
     "execution_count": 152,
     "metadata": {},
     "output_type": "execute_result"
    },
    {
     "data": {
      "image/png": "[encoded data removed]",
      "text/plain": [
       "<Figure size 1152x288 with 2 Axes>"
      ]
     },
     "metadata": {
      "needs_background": "light"
     },
     "output_type": "display_data"
    }
   ],
   "source": [
    "print(tweets['year_of_tweet'].describe())\n",
    "print(tweets['month_of_tweet'].describe())\n",
    "f, ax = plt.subplots(1, 2, figsize=(16, 4))\n",
    "ax = ax.ravel()\n",
    "\n",
    "sns.countplot(x='year_of_tweet', data=tweets, ax=ax[0])\n",
    "sns.countplot(x='month_of_tweet', data=tweets,ax=ax[1])\n"
   ]
  },
  {
   "cell_type": "markdown",
   "metadata": {},
   "source": [
    "**on average weratedogs twitter account rated more dogs in the year 2016 with approximately 1000 tweet , where months (december and november) mark the highest activity months**"
   ]
  },
  {
   "cell_type": "markdown",
   "metadata": {},
   "source": [
    "#### 2-how the dog ratings are spread over the dataset , how often each rating occur ?"
   ]
  },
  {
   "cell_type": "code",
   "execution_count": 153,
   "metadata": {},
   "outputs": [
    {
     "name": "stdout",
     "output_type": "stream",
     "text": [
      "count    1367.000000\n",
      "mean     12.678859  \n",
      "std      49.734272  \n",
      "min      1.000000   \n",
      "25%      10.000000  \n",
      "50%      11.000000  \n",
      "75%      12.000000  \n",
      "max      1776.000000\n",
      "Name: rating_numerator, dtype: float64\n"
     ]
    },
    {
     "data": {
      "image/png": "[encoded data removed]",
      "text/plain": [
       "<Figure size 1080x360 with 1 Axes>"
      ]
     },
     "metadata": {
      "needs_background": "light"
     },
     "output_type": "display_data"
    }
   ],
   "source": [
    "print(tweets.rating_numerator.describe())\n",
    "plt.figure(figsize=(15, 5))\n",
    "sns.countplot(x=('rating_numerator'),data=tweets);"
   ]
  },
  {
   "cell_type": "markdown",
   "metadata": {},
   "source": [
    "**In the dataset 2077 ratings are of denominator 10 , while 18 are of higher ones with only one faulty datapoint we can consider those as outliers , the most frequent score is 12/10 , the mean score is also approximatley 12**"
   ]
  },
  {
   "cell_type": "markdown",
   "metadata": {},
   "source": [
    "#### 3-For different labels given to dogs on this rating system(doggo,pupper,puppo,floofer) which refer to their age and distinct features , how the dataset is divided among these labels ?"
   ]
  },
  {
   "cell_type": "code",
   "execution_count": 154,
   "metadata": {},
   "outputs": [
    {
     "name": "stdout",
     "output_type": "stream",
     "text": [
      "count     1367     \n",
      "unique    5        \n",
      "top       Unlabeled\n",
      "freq      1142     \n",
      "Name: dog_1_label, dtype: object\n",
      "count     1367     \n",
      "unique    4        \n",
      "top       Unlabeled\n",
      "freq      1359     \n",
      "Name: dog_2_label, dtype: object\n"
     ]
    },
    {
     "data": {
      "text/plain": [
       "<matplotlib.axes._subplots.AxesSubplot at 0x1c4f801ba58>"
      ]
     },
     "execution_count": 154,
     "metadata": {},
     "output_type": "execute_result"
    },
    {
     "data": {
      "image/png": "[encoded data removed]",
      "text/plain": [
       "<Figure size 1152x288 with 2 Axes>"
      ]
     },
     "metadata": {
      "needs_background": "light"
     },
     "output_type": "display_data"
    }
   ],
   "source": [
    "print(tweets.dog_1_label.describe())\n",
    "print(tweets.dog_2_label.describe())\n",
    "\n",
    "f, ax = plt.subplots(1, 2, figsize=(16, 4))\n",
    "ax = ax.ravel()\n",
    "sns.countplot(x=('dog_1_label'),data=tweets,ax=ax[0])\n",
    "sns.countplot(x='dog_2_label',data=tweets,ax=ax[1])"
   ]
  },
  {
   "cell_type": "markdown",
   "metadata": {},
   "source": [
    "**In the dataset , labels are given to 364 images of dogs where the rest are not given labels , these labels refers to 4 categories weratedogs system invented :\n",
    "doggo : older dog\n",
    "pupper: younger dog\n",
    "puppo : the phase between younger and older dog compared to teen period in humans\n",
    "floofer: a dog with excess fur**\n",
    "\n",
    "**The image rated can contain 2 dogs so 2 labels are given , the label for the first dog is documented in (dog_1_label) column , while the label for the second dog is documented in (dog_2_label)**\n",
    "\n",
    "**most of rated images are of younger dogs with 220 pupper out of all labeled dogs , followed by older dogs (doggos)\n",
    "we can see that the doggos category is not found whenever a second dog is found in an image , that maybe due to the fact that usually there is a doggo and a pupper in one image**\n"
   ]
  },
  {
   "cell_type": "markdown",
   "metadata": {},
   "source": [
    "#### 4-what is the average retweet and favourite count for weratedogs twitter account ?"
   ]
  },
  {
   "cell_type": "code",
   "execution_count": 155,
   "metadata": {},
   "outputs": [
    {
     "name": "stdout",
     "output_type": "stream",
     "text": [
      "count    1367.000000  \n",
      "mean     8339.765911  \n",
      "std      11554.522194 \n",
      "min      80.000000    \n",
      "25%      1780.000000  \n",
      "50%      3857.000000  \n",
      "75%      10339.000000 \n",
      "max      127647.000000\n",
      "Name: favorite_count, dtype: float64\n",
      "count    1367.000000 \n",
      "mean     2578.020483 \n",
      "std      4106.879183 \n",
      "min      12.000000   \n",
      "25%      584.000000  \n",
      "50%      1272.000000 \n",
      "75%      3028.000000 \n",
      "max      61329.000000\n",
      "Name: retweet_count, dtype: float64\n"
     ]
    },
    {
     "name": "stderr",
     "output_type": "stream",
     "text": [
      "E:\\Anaconda3\\envs\\data\\lib\\site-packages\\scipy\\stats\\stats.py:1713: FutureWarning: Using a non-tuple sequence for multidimensional indexing is deprecated; use `arr[tuple(seq)]` instead of `arr[seq]`. In the future this will be interpreted as an array index, `arr[np.array(seq)]`, which will result either in an error or a different result.\n",
      "  return np.add.reduce(sorted[indexer] * weights, axis=axis) / sumval\n"
     ]
    },
    {
     "data": {
      "text/plain": [
       "<matplotlib.axes._subplots.AxesSubplot at 0x1c4f80ca630>"
      ]
     },
     "execution_count": 155,
     "metadata": {},
     "output_type": "execute_result"
    },
    {
     "data": {
      "image/png": "[encoded data removed]",
      "text/plain": [
       "<Figure size 1440x360 with 4 Axes>"
      ]
     },
     "metadata": {
      "needs_background": "light"
     },
     "output_type": "display_data"
    }
   ],
   "source": [
    "print(tweets.favorite_count.describe())\n",
    "print(tweets.retweet_count.describe())\n",
    "f,ax=plt.subplots(1,4,figsize=(20,5))\n",
    "ax = ax.ravel()\n",
    "sns.distplot(tweets['favorite_count'],ax=ax[0])\n",
    "sns.distplot(tweets['retweet_count'],ax=ax[1])\n",
    "sns.boxplot(tweets['favorite_count'],ax=ax[2])\n",
    "sns.boxplot(tweets['retweet_count'],ax=ax[3])"
   ]
  },
  {
   "cell_type": "code",
   "execution_count": 156,
   "metadata": {},
   "outputs": [
    {
     "data": {
      "text/plain": [
       "(320, 204)"
      ]
     },
     "execution_count": 156,
     "metadata": {},
     "output_type": "execute_result"
    }
   ],
   "source": [
    "tweets[tweets['favorite_count']>11059].tweet_id.count(),tweets[tweets['retweet_count']>4500].tweet_id.count()"
   ]
  },
  {
   "cell_type": "markdown",
   "metadata": {},
   "source": [
    "**From the distribution we can see that there are outliers within the counts , i shall remove outliesr temporarlily for the purpose of have a better look at average counts**"
   ]
  },
  {
   "cell_type": "markdown",
   "metadata": {},
   "source": [
    "Declaring Functions for detecting and removing outliers "
   ]
  },
  {
   "cell_type": "code",
   "execution_count": 157,
   "metadata": {},
   "outputs": [],
   "source": [
    "def removing_outlier_z_score (x,threshold=2):\n",
    "        z=np.abs(stats.zscore(tweets.favorite_count))\n",
    "        point_keep=np.where(z > threshold)\n",
    "        x_outlier_free=x.loc[point_keep]\n",
    "        return x_outlier_free\n",
    "def removing_outlier_IQR (x,lower_range=0.25):\n",
    "        \n",
    "        M=stats_model.medcouple(x)\n",
    "        Q1=np.quantile(x,lower_range)\n",
    "        Q3=np.quantile(x,1-lower_range)\n",
    "        IQR=Q3-Q1\n",
    "        if M>=0 :\n",
    "            x_outlier_free =x[~( (x < (Q1 - (math.exp(-4*M))*1.5 * IQR)) |(x > (Q3  + (math.exp(3*M))*1.5 * IQR))  )]\n",
    "        if M<0 :\n",
    "            x_outlier_free =x[~( (x < (Q1 - (math.exp(-3*M))*1.5 * IQR)) |(x > (Q3  + (math.exp(4*M))*1.5 * IQR))  )]   \n",
    "        return x_outlier_free\n",
    "def mad_based_outlier(points, thresh=0.5):\n",
    "    if len(points.shape) == 1:\n",
    "        points = points[:,None]\n",
    " \n",
    "    median = np.median(points, axis=0)\n",
    "\n",
    "    diff = np.sum((points - median)**2, axis=-1)\n",
    "    \n",
    "    diff = np.sqrt(diff)\n",
    "    med_abs_deviation = np.median(diff)\n",
    "\n",
    "    modified_z_score = 0.6745 * diff / med_abs_deviation\n",
    "    point_keep=np.where(modified_z_score> thresh)\n",
    "    x_without_outlier=points[point_keep,].reshape(-1)\n",
    "    return x_without_outlier"
   ]
  },
  {
   "cell_type": "code",
   "execution_count": 158,
   "metadata": {},
   "outputs": [
    {
     "data": {
      "text/plain": [
       "(823, 1367)"
      ]
     },
     "execution_count": 158,
     "metadata": {},
     "output_type": "execute_result"
    }
   ],
   "source": [
    "len(mad_based_outlier(tweets['favorite_count'].apply(np.log10).values)),tweets['favorite_count'].count()"
   ]
  },
  {
   "cell_type": "code",
   "execution_count": 159,
   "metadata": {},
   "outputs": [
    {
     "data": {
      "text/plain": [
       "(1273, 1367)"
      ]
     },
     "execution_count": 159,
     "metadata": {},
     "output_type": "execute_result"
    }
   ],
   "source": [
    "len(removing_outlier_IQR(tweets['favorite_count'].values)),tweets['favorite_count'].count()"
   ]
  },
  {
   "cell_type": "code",
   "execution_count": 160,
   "metadata": {},
   "outputs": [
    {
     "name": "stderr",
     "output_type": "stream",
     "text": [
      "E:\\Anaconda3\\envs\\data\\lib\\site-packages\\scipy\\stats\\stats.py:1713: FutureWarning: Using a non-tuple sequence for multidimensional indexing is deprecated; use `arr[tuple(seq)]` instead of `arr[seq]`. In the future this will be interpreted as an array index, `arr[np.array(seq)]`, which will result either in an error or a different result.\n",
      "  return np.add.reduce(sorted[indexer] * weights, axis=axis) / sumval\n"
     ]
    },
    {
     "data": {
      "text/plain": [
       "<matplotlib.axes._subplots.AxesSubplot at 0x1c4f7fe08d0>"
      ]
     },
     "execution_count": 160,
     "metadata": {},
     "output_type": "execute_result"
    },
    {
     "data": {
      "image/png": "[encoded data removed]",
      "text/plain": [
       "<Figure size 720x576 with 2 Axes>"
      ]
     },
     "metadata": {
      "needs_background": "light"
     },
     "output_type": "display_data"
    }
   ],
   "source": [
    "\n",
    "fig, axs = plt.subplots(1,2,figsize=(10,8))\n",
    "\n",
    "sns.distplot(tweets['favorite_count'].apply(np.log10),ax=axs[0])\n",
    "sns.distplot(tweets['retweet_count'].apply(np.log10),ax=axs[1])\n"
   ]
  },
  {
   "cell_type": "code",
   "execution_count": 161,
   "metadata": {},
   "outputs": [],
   "source": [
    "#using outliers detectors on now normal distributed data\n",
    "without_outliers_favorite_count=mad_based_outlier(tweets['favorite_count'].apply(np.log10))\n",
    "without_outliers_tweet_count=mad_based_outlier(tweets['retweet_count'].apply(np.log10))\n",
    "tweets_no_outliers_mad=tweets[tweets['favorite_count'].apply(np.log10).isin(without_outliers_favorite_count)]\n",
    "tweets_no_outliers_mad=tweets[tweets['retweet_count'].apply(np.log10).isin(without_outliers_tweet_count)]"
   ]
  },
  {
   "cell_type": "code",
   "execution_count": 162,
   "metadata": {},
   "outputs": [
    {
     "name": "stdout",
     "output_type": "stream",
     "text": [
      "count    841.000000   \n",
      "mean     10773.889417 \n",
      "std      14084.748660 \n",
      "min      80.000000    \n",
      "25%      1063.000000  \n",
      "50%      5765.000000  \n",
      "75%      16109.000000 \n",
      "max      127647.000000\n",
      "Name: favorite_count, dtype: float64\n",
      "count    841.000000  \n",
      "mean     3343.923900 \n",
      "std      5076.423985 \n",
      "min      12.000000   \n",
      "25%      377.000000  \n",
      "50%      2370.000000 \n",
      "75%      4371.000000 \n",
      "max      61329.000000\n",
      "Name: retweet_count, dtype: float64\n"
     ]
    },
    {
     "name": "stderr",
     "output_type": "stream",
     "text": [
      "E:\\Anaconda3\\envs\\data\\lib\\site-packages\\scipy\\stats\\stats.py:1713: FutureWarning: Using a non-tuple sequence for multidimensional indexing is deprecated; use `arr[tuple(seq)]` instead of `arr[seq]`. In the future this will be interpreted as an array index, `arr[np.array(seq)]`, which will result either in an error or a different result.\n",
      "  return np.add.reduce(sorted[indexer] * weights, axis=axis) / sumval\n"
     ]
    },
    {
     "data": {
      "text/plain": [
       "<matplotlib.axes._subplots.AxesSubplot at 0x1c4f8266cc0>"
      ]
     },
     "execution_count": 162,
     "metadata": {},
     "output_type": "execute_result"
    },
    {
     "data": {
      "image/png": "[encoded data removed]",
      "text/plain": [
       "<Figure size 1440x360 with 4 Axes>"
      ]
     },
     "metadata": {
      "needs_background": "light"
     },
     "output_type": "display_data"
    }
   ],
   "source": [
    "print(tweets_no_outliers_mad.favorite_count.describe())\n",
    "print(tweets_no_outliers_mad.retweet_count.describe())\n",
    "f,ax=plt.subplots(1,4,figsize=(20,5))\n",
    "ax = ax.ravel()\n",
    "sns.distplot(tweets_no_outliers_mad['favorite_count'],ax=ax[0])\n",
    "sns.distplot(tweets_no_outliers_mad['retweet_count'],ax=ax[1])\n",
    "sns.boxplot(tweets_no_outliers_mad['favorite_count'],ax=ax[2])\n",
    "sns.boxplot(tweets_no_outliers_mad['retweet_count'],ax=ax[3])"
   ]
  },
  {
   "cell_type": "code",
   "execution_count": 163,
   "metadata": {},
   "outputs": [
    {
     "data": {
      "text/plain": [
       "(1367, 841)"
      ]
     },
     "execution_count": 163,
     "metadata": {},
     "output_type": "execute_result"
    }
   ],
   "source": [
    "tweets[tweets['favorite_count']>90000].tweet_id.count() ,tweets[tweets['retweet_count']>40000].tweet_id.count()\n",
    "tweets.shape[0],tweets_no_outliers_mad.shape[0]"
   ]
  },
  {
   "cell_type": "code",
   "execution_count": 188,
   "metadata": {},
   "outputs": [],
   "source": [
    "#using outliers detectors on now normal distributed data\n",
    "without_outliers_quantile_favorite_count=removing_outlier_IQR(tweets['favorite_count'])\n",
    "without_outliers_quantile_tweet_count=removing_outlier_IQR(tweets['retweet_count'])\n",
    "with_out_outliers_quantile_numerator_rating=removing_outlier_IQR(tweets['rating_numerator'])\n",
    "tweets_no_outliers_quantile=tweets[tweets['favorite_count'].isin(without_outliers_quantile_favorite_count)]\n",
    "tweets_no_outliers_quantile=tweets[tweets['retweet_count'].isin(without_outliers_quantile_tweet_count)]\n",
    "tweets_no_outliers_quantile=tweets[tweets['rating_numerator'].isin(with_out_outliers_quantile_numerator_rating)]"
   ]
  },
  {
   "cell_type": "code",
   "execution_count": 189,
   "metadata": {},
   "outputs": [
    {
     "name": "stdout",
     "output_type": "stream",
     "text": [
      "count    1280.000000  \n",
      "mean     8646.114063  \n",
      "std      11774.388758 \n",
      "min      80.000000    \n",
      "25%      1913.000000  \n",
      "50%      4063.500000  \n",
      "75%      10904.000000 \n",
      "max      127647.000000\n",
      "Name: favorite_count, dtype: float64\n",
      "count    1280.000000 \n",
      "mean     2657.895312 \n",
      "std      4209.324912 \n",
      "min      12.000000   \n",
      "25%      584.000000  \n",
      "50%      1319.500000 \n",
      "75%      3152.750000 \n",
      "max      61329.000000\n",
      "Name: retweet_count, dtype: float64\n"
     ]
    },
    {
     "name": "stderr",
     "output_type": "stream",
     "text": [
      "E:\\Anaconda3\\envs\\data\\lib\\site-packages\\scipy\\stats\\stats.py:1713: FutureWarning: Using a non-tuple sequence for multidimensional indexing is deprecated; use `arr[tuple(seq)]` instead of `arr[seq]`. In the future this will be interpreted as an array index, `arr[np.array(seq)]`, which will result either in an error or a different result.\n",
      "  return np.add.reduce(sorted[indexer] * weights, axis=axis) / sumval\n"
     ]
    },
    {
     "data": {
      "text/plain": [
       "<matplotlib.axes._subplots.AxesSubplot at 0x1c4f9fb78d0>"
      ]
     },
     "execution_count": 189,
     "metadata": {},
     "output_type": "execute_result"
    },
    {
     "data": {
      "image/png": "[encoded data removed]",
      "text/plain": [
       "<Figure size 1440x360 with 4 Axes>"
      ]
     },
     "metadata": {
      "needs_background": "light"
     },
     "output_type": "display_data"
    }
   ],
   "source": [
    "print(tweets_no_outliers_quantile.favorite_count.describe())\n",
    "print(tweets_no_outliers_quantile.retweet_count.describe())\n",
    "f,ax=plt.subplots(1,4,figsize=(20,5))\n",
    "ax = ax.ravel()\n",
    "sns.distplot(tweets_no_outliers_quantile['favorite_count'],ax=ax[0])\n",
    "sns.distplot(tweets_no_outliers_quantile['retweet_count'],ax=ax[1])\n",
    "sns.boxplot(tweets_no_outliers_quantile['favorite_count'],ax=ax[2])\n",
    "sns.boxplot(tweets_no_outliers_quantile['retweet_count'],ax=ax[3])"
   ]
  },
  {
   "cell_type": "code",
   "execution_count": 190,
   "metadata": {},
   "outputs": [
    {
     "data": {
      "text/plain": [
       "(1367, 1280)"
      ]
     },
     "execution_count": 190,
     "metadata": {},
     "output_type": "execute_result"
    }
   ],
   "source": [
    "tweets.shape[0],tweets_no_outliers_quantile.shape[0]"
   ]
  },
  {
   "cell_type": "code",
   "execution_count": 164,
   "metadata": {},
   "outputs": [
    {
     "data": {
      "text/plain": [
       "(0.24976122254059216,\n",
       " 0.15425023877745941,\n",
       " 0.39255014326647564,\n",
       " 0.030578117534639272)"
      ]
     },
     "execution_count": 164,
     "metadata": {},
     "output_type": "execute_result"
    }
   ],
   "source": [
    "523/2094 ,323/2094 , 822/2094 ,(2093-2029)/2093"
   ]
  },
  {
   "cell_type": "markdown",
   "metadata": {},
   "source": [
    "\n",
    "\n",
    " i tried 2 approaches :\n",
    " \n",
    " 1-transforming the data by log transform so that the distribution is somehow normal and then apply outlier detector using \n",
    " adjusted z-score (using median that is more robust to outliers instead of mean) , that mounted to have 1271 points out of 2093 \n",
    " that removing 800 data points for the favorite count :\n",
    " \n",
    "after removing higher counts the difference is :\n",
    " \n",
    "75%      16808.000000 \n",
    "max      164941.000000\n",
    "\n",
    "the outcome withnot what i intended removing more than presumed data points\n",
    "\n",
    " 2- using Interquartile Range Method ,the problem was there is an assumption of symmetry ,to solve that issue i used the adjusted box plots approach where the skweness of data is accounted for by med-couple() function , that resulted in removing 3% of the data points , also decreasing the gap \n",
    " \n",
    "75%      10894.000000\n",
    "max      78799.000000\n",
    "\n",
    "the mean favorite count mounted to 8000 counts , and the retweet count mounted to 2400 counts\n",
    "\n",
    "the higher counts of favorites and retweets are kept to be furthur investigated in multivariate analysis \n"
   ]
  },
  {
   "cell_type": "markdown",
   "metadata": {},
   "source": [
    "#### 5-Do people usually use the twitter  through web client or an app as(twitter for iphone . Vine , tweetDeck )"
   ]
  },
  {
   "cell_type": "code",
   "execution_count": 165,
   "metadata": {},
   "outputs": [
    {
     "data": {
      "text/plain": [
       "0.9369326325848065"
      ]
     },
     "execution_count": 165,
     "metadata": {},
     "output_type": "execute_result"
    }
   ],
   "source": [
    "1961 /2093"
   ]
  },
  {
   "cell_type": "code",
   "execution_count": 227,
   "metadata": {},
   "outputs": [
    {
     "name": "stdout",
     "output_type": "stream",
     "text": [
      "count     1367              \n",
      "unique    4                 \n",
      "top       Twitter for iPhone\n",
      "freq      1277              \n",
      "Name: source_of_tweet, dtype: object\n"
     ]
    },
    {
     "data": {
      "text/plain": [
       "<matplotlib.axes._subplots.AxesSubplot at 0x1c4ff134ba8>"
      ]
     },
     "execution_count": 227,
     "metadata": {},
     "output_type": "execute_result"
    },
    {
     "data": {
      "image/png": "[encoded data removed]",
      "text/plain": [
       "<Figure size 648x360 with 1 Axes>"
      ]
     },
     "metadata": {
      "needs_background": "light"
     },
     "output_type": "display_data"
    }
   ],
   "source": [
    "print(tweets.source_of_tweet.describe())\n",
    "plt.figure(figsize=(9, 5))\n",
    "sns.countplot(y=('source_of_tweet'),data=tweets)"
   ]
  },
  {
   "cell_type": "markdown",
   "metadata": {},
   "source": [
    "**From all 2094 filtered tweets of weratedogs account , the majority of tweets are made from iphone mobile device leading with 1961 out of 2093 that is 93% of the tweets , followed by vine a mobile app would that allows users to publish their videos directly to Twitter**"
   ]
  },
  {
   "cell_type": "code",
   "execution_count": 167,
   "metadata": {},
   "outputs": [
    {
     "name": "stdout",
     "output_type": "stream",
     "text": [
      "<class 'pandas.core.frame.DataFrame'>\n",
      "RangeIndex: 1367 entries, 0 to 1366\n",
      "Data columns (total 26 columns):\n",
      "tweet_id                1367 non-null float64\n",
      "timestamp               1367 non-null datetime64[ns]\n",
      "source_of_tweet         1367 non-null object\n",
      "text                    1367 non-null object\n",
      "expanded_urls           1367 non-null object\n",
      "rating_numerator        1367 non-null float64\n",
      "rating_denominator      1367 non-null float64\n",
      "name                    1367 non-null object\n",
      "is_emoji                1185 non-null object\n",
      "dog_1_label             1367 non-null object\n",
      "dog_2_label             1367 non-null object\n",
      "favorite_count          1367 non-null int64\n",
      "retweet_count           1367 non-null int64\n",
      "jpg_url                 1283 non-null object\n",
      "img_num                 1283 non-null float64\n",
      "First_prediction        1283 non-null object\n",
      "confidence_percent_1    1283 non-null float64\n",
      "Is_it_dog_1             1283 non-null object\n",
      "Second_prediction       1283 non-null object\n",
      "confidence_percent_2    1283 non-null float64\n",
      "Is_it_dog_2             1283 non-null object\n",
      "Third_prediction        1283 non-null object\n",
      "confidence_percent_3    1283 non-null float64\n",
      "Is_it_dog_3             1283 non-null object\n",
      "year_of_tweet           1367 non-null category\n",
      "month_of_tweet          1367 non-null category\n",
      "dtypes: category(2), datetime64[ns](1), float64(7), int64(2), object(14)\n",
      "memory usage: 259.6+ KB\n"
     ]
    }
   ],
   "source": [
    "tweets.info()"
   ]
  },
  {
   "cell_type": "markdown",
   "metadata": {},
   "source": [
    "#### For the predictions , how confident is the algorithim used in it's results ?"
   ]
  },
  {
   "cell_type": "code",
   "execution_count": 178,
   "metadata": {},
   "outputs": [
    {
     "name": "stderr",
     "output_type": "stream",
     "text": [
      "E:\\Anaconda3\\envs\\data\\lib\\site-packages\\scipy\\stats\\stats.py:1713: FutureWarning: Using a non-tuple sequence for multidimensional indexing is deprecated; use `arr[tuple(seq)]` instead of `arr[seq]`. In the future this will be interpreted as an array index, `arr[np.array(seq)]`, which will result either in an error or a different result.\n",
      "  return np.add.reduce(sorted[indexer] * weights, axis=axis) / sumval\n"
     ]
    },
    {
     "data": {
      "text/plain": [
       "<matplotlib.axes._subplots.AxesSubplot at 0x1c4f9cf75c0>"
      ]
     },
     "execution_count": 178,
     "metadata": {},
     "output_type": "execute_result"
    },
    {
     "data": {
      "image/png": "[encoded data removed]",
      "text/plain": [
       "<Figure size 1152x288 with 3 Axes>"
      ]
     },
     "metadata": {
      "needs_background": "light"
     },
     "output_type": "display_data"
    }
   ],
   "source": [
    "f,ax=plt.subplots(1,3,figsize=(16,4))\n",
    "ax = ax.ravel()\n",
    "sns.distplot(predictions['confidence_percent_1'],ax=ax[0])\n",
    "sns.distplot(predictions['confidence_percent_2'],ax=ax[1])\n",
    "sns.distplot(predictions['confidence_percent_3'],ax=ax[2])"
   ]
  },
  {
   "cell_type": "code",
   "execution_count": 179,
   "metadata": {},
   "outputs": [
    {
     "data": {
      "text/plain": [
       "<matplotlib.axes._subplots.AxesSubplot at 0x1c4f9d5e780>"
      ]
     },
     "execution_count": 179,
     "metadata": {},
     "output_type": "execute_result"
    },
    {
     "data": {
      "image/png": "[encoded data removed]",
      "text/plain": [
       "<Figure size 432x288 with 1 Axes>"
      ]
     },
     "metadata": {
      "needs_background": "light"
     },
     "output_type": "display_data"
    }
   ],
   "source": [
    "sns.boxplot(data=tweets[['confidence_percent_1','confidence_percent_2','confidence_percent_3']])"
   ]
  },
  {
   "cell_type": "code",
   "execution_count": 180,
   "metadata": {},
   "outputs": [
    {
     "data": {
      "text/plain": [
       "0.18987951807228914"
      ]
     },
     "execution_count": 180,
     "metadata": {},
     "output_type": "execute_result"
    }
   ],
   "source": [
    "predictions[predictions['confidence_percent_1']>90].tweet_id.count()/predictions['confidence_percent_1'].shape[0]"
   ]
  },
  {
   "cell_type": "markdown",
   "metadata": {},
   "source": [
    "* we can see that the confidence percentage for the first prediction varies from 40 to 80 percent with some percentages reaching 100 percent \n",
    "\n",
    "* percentage of tweets exceeding 90% confidence interval is 18% out of all images categorized as first predictions\n",
    "\n",
    "* the confidence percentage for the second prediction varies from 10 to 20 percent with some percentages reaching 50 percent \n",
    "\n",
    "* the confidence percentage for the third prediction varies from 5 to 10 percent with some percentages reaching 15 percent \n"
   ]
  },
  {
   "cell_type": "markdown",
   "metadata": {},
   "source": [
    "#### How much of the images actually have dogs in them ?"
   ]
  },
  {
   "cell_type": "code",
   "execution_count": 181,
   "metadata": {},
   "outputs": [
    {
     "data": {
      "text/html": [
       "<div>\n",
       "<style scoped>\n",
       "    .dataframe tbody tr th:only-of-type {\n",
       "        vertical-align: middle;\n",
       "    }\n",
       "\n",
       "    .dataframe tbody tr th {\n",
       "        vertical-align: top;\n",
       "    }\n",
       "\n",
       "    .dataframe thead th {\n",
       "        text-align: right;\n",
       "    }\n",
       "</style>\n",
       "<table border=\"1\" class=\"dataframe\">\n",
       "  <thead>\n",
       "    <tr style=\"text-align: right;\">\n",
       "      <th></th>\n",
       "      <th>variable</th>\n",
       "      <th>value</th>\n",
       "    </tr>\n",
       "  </thead>\n",
       "  <tbody>\n",
       "    <tr>\n",
       "      <th>0</th>\n",
       "      <td>Is_it_dog_1</td>\n",
       "      <td>True</td>\n",
       "    </tr>\n",
       "    <tr>\n",
       "      <th>1</th>\n",
       "      <td>Is_it_dog_1</td>\n",
       "      <td>True</td>\n",
       "    </tr>\n",
       "    <tr>\n",
       "      <th>2</th>\n",
       "      <td>Is_it_dog_1</td>\n",
       "      <td>True</td>\n",
       "    </tr>\n",
       "    <tr>\n",
       "      <th>3</th>\n",
       "      <td>Is_it_dog_1</td>\n",
       "      <td>True</td>\n",
       "    </tr>\n",
       "    <tr>\n",
       "      <th>4</th>\n",
       "      <td>Is_it_dog_1</td>\n",
       "      <td>True</td>\n",
       "    </tr>\n",
       "  </tbody>\n",
       "</table>\n",
       "</div>"
      ],
      "text/plain": [
       "      variable  value\n",
       "0  Is_it_dog_1  True \n",
       "1  Is_it_dog_1  True \n",
       "2  Is_it_dog_1  True \n",
       "3  Is_it_dog_1  True \n",
       "4  Is_it_dog_1  True "
      ]
     },
     "execution_count": 181,
     "metadata": {},
     "output_type": "execute_result"
    }
   ],
   "source": [
    "df=predictions[['Is_it_dog_1','Is_it_dog_2','Is_it_dog_3']]\n",
    "pd.melt(df).head()"
   ]
  },
  {
   "cell_type": "code",
   "execution_count": 182,
   "metadata": {},
   "outputs": [
    {
     "name": "stdout",
     "output_type": "stream",
     "text": [
      "count     2075\n",
      "unique    2   \n",
      "top       True\n",
      "freq      1532\n",
      "Name: Is_it_dog_1, dtype: object\n"
     ]
    },
    {
     "data": {
      "text/plain": [
       "<matplotlib.axes._subplots.AxesSubplot at 0x1c4f9e0d518>"
      ]
     },
     "execution_count": 182,
     "metadata": {},
     "output_type": "execute_result"
    },
    {
     "data": {
      "image/png": "[encoded data removed]",
      "text/plain": [
       "<Figure size 1008x288 with 1 Axes>"
      ]
     },
     "metadata": {
      "needs_background": "light"
     },
     "output_type": "display_data"
    }
   ],
   "source": [
    "print(predictions.Is_it_dog_1.describe())\n",
    "f,ax=plt.subplots(1,1,figsize=(14,4))\n",
    "sns.countplot(x='variable',hue='value',data=pd.melt(df) )"
   ]
  },
  {
   "cell_type": "code",
   "execution_count": 183,
   "metadata": {},
   "outputs": [
    {
     "data": {
      "text/plain": [
       "(0.7383132530120482, 0.7484337349397591, 0.7224096385542169)"
      ]
     },
     "execution_count": 183,
     "metadata": {},
     "output_type": "execute_result"
    }
   ],
   "source": [
    "predictions[predictions.Is_it_dog_1].tweet_id.count()/predictions.Is_it_dog_1.shape[0] ,predictions[predictions.Is_it_dog_2].tweet_id.count()/predictions.Is_it_dog_2.shape[0],predictions[predictions.Is_it_dog_3].tweet_id.count()/predictions.Is_it_dog_3.shape[0]"
   ]
  },
  {
   "cell_type": "markdown",
   "metadata": {},
   "source": [
    "**Within the total number of images in our tweets approximatly 74% of them are assumed to be dogs by the algorithm**"
   ]
  },
  {
   "cell_type": "markdown",
   "metadata": {},
   "source": [
    "#### what is the top 10  type of dogs (assuming first prediction is true) that are rated in the weratedog account ?"
   ]
  },
  {
   "cell_type": "code",
   "execution_count": 185,
   "metadata": {},
   "outputs": [
    {
     "name": "stdout",
     "output_type": "stream",
     "text": [
      "count     2075            \n",
      "unique    378             \n",
      "top       golden_retriever\n",
      "freq      150             \n",
      "Name: First_prediction, dtype: object\n"
     ]
    },
    {
     "data": {
      "text/plain": [
       "[Text(0,0,'golden_retriever'),\n",
       " Text(0,0,'Labrador_retriever'),\n",
       " Text(0,0,'Pembroke'),\n",
       " Text(0,0,'Chihuahua'),\n",
       " Text(0,0,'pug'),\n",
       " Text(0,0,'chow'),\n",
       " Text(0,0,'Samoyed'),\n",
       " Text(0,0,'toy_poodle'),\n",
       " Text(0,0,'Pomeranian'),\n",
       " Text(0,0,'malamute')]"
      ]
     },
     "execution_count": 185,
     "metadata": {},
     "output_type": "execute_result"
    },
    {
     "data": {
      "image/png": "[encoded data removed]",
      "text/plain": [
       "<Figure size 648x576 with 1 Axes>"
      ]
     },
     "metadata": {
      "needs_background": "light"
     },
     "output_type": "display_data"
    }
   ],
   "source": [
    "print(predictions.First_prediction.describe())\n",
    "\n",
    "plt.figure(figsize=(9, 8))\n",
    "\n",
    "#predictions.groupby('First_prediction',as_index=False).count().sort_values(by='First_prediction')\n",
    "x=predictions.First_prediction.value_counts(sort=True)[:10].index.astype('str')\n",
    "y=predictions.First_prediction.value_counts(sort=True)[:10].values\n",
    "\n",
    "ax=sns.barplot(x=x,y=y)\n",
    "loc, labels = plt.xticks()\n",
    "ax.set_xticklabels(labels, rotation=45)"
   ]
  },
  {
   "cell_type": "code",
   "execution_count": 186,
   "metadata": {},
   "outputs": [
    {
     "name": "stdout",
     "output_type": "stream",
     "text": [
      "<class 'pandas.core.frame.DataFrame'>\n",
      "RangeIndex: 1367 entries, 0 to 1366\n",
      "Data columns (total 26 columns):\n",
      "tweet_id                1367 non-null float64\n",
      "timestamp               1367 non-null datetime64[ns]\n",
      "source_of_tweet         1367 non-null object\n",
      "text                    1367 non-null object\n",
      "expanded_urls           1367 non-null object\n",
      "rating_numerator        1367 non-null float64\n",
      "rating_denominator      1367 non-null float64\n",
      "name                    1367 non-null object\n",
      "is_emoji                1185 non-null object\n",
      "dog_1_label             1367 non-null object\n",
      "dog_2_label             1367 non-null object\n",
      "favorite_count          1367 non-null int64\n",
      "retweet_count           1367 non-null int64\n",
      "jpg_url                 1283 non-null object\n",
      "img_num                 1283 non-null float64\n",
      "First_prediction        1283 non-null object\n",
      "confidence_percent_1    1283 non-null float64\n",
      "Is_it_dog_1             1283 non-null object\n",
      "Second_prediction       1283 non-null object\n",
      "confidence_percent_2    1283 non-null float64\n",
      "Is_it_dog_2             1283 non-null object\n",
      "Third_prediction        1283 non-null object\n",
      "confidence_percent_3    1283 non-null float64\n",
      "Is_it_dog_3             1283 non-null object\n",
      "year_of_tweet           1367 non-null category\n",
      "month_of_tweet          1367 non-null category\n",
      "dtypes: category(2), datetime64[ns](1), float64(7), int64(2), object(14)\n",
      "memory usage: 259.6+ KB\n"
     ]
    }
   ],
   "source": [
    "tweets.info()"
   ]
  },
  {
   "cell_type": "markdown",
   "metadata": {},
   "source": [
    "#### what is the average length of tweet ?"
   ]
  },
  {
   "cell_type": "code",
   "execution_count": 191,
   "metadata": {},
   "outputs": [
    {
     "name": "stderr",
     "output_type": "stream",
     "text": [
      "E:\\Anaconda3\\envs\\data\\lib\\site-packages\\ipykernel\\__main__.py:3: SettingWithCopyWarning: \n",
      "A value is trying to be set on a copy of a slice from a DataFrame.\n",
      "Try using .loc[row_indexer,col_indexer] = value instead\n",
      "\n",
      "See the caveats in the documentation: http://pandas.pydata.org/pandas-docs/stable/indexing.html#indexing-view-versus-copy\n",
      "  app.launch_new_instance()\n"
     ]
    }
   ],
   "source": [
    "tweets.text=tweets.text.apply(lambda x : re.sub(r'http\\S+', '', x) ) \n",
    "tweets['Num_char']=tweets['text'].apply(lambda x : \"\".join(x.split())).apply(lambda x : re.sub(r'(\\d+)/(\\d+)','',x)).apply(len)\n",
    "tweets_no_outliers_quantile['Num_char']=tweets_no_outliers_quantile['text'].apply(lambda x : \"\".join(x.split())).apply(lambda x : re.sub(r'(\\d+)/(\\d+)','',x)).apply(len)\n"
   ]
  },
  {
   "cell_type": "code",
   "execution_count": 192,
   "metadata": {},
   "outputs": [
    {
     "name": "stdout",
     "output_type": "stream",
     "text": [
      "count    1367.000000\n",
      "mean     75.159473  \n",
      "std      21.907987  \n",
      "min      6.000000   \n",
      "25%      61.000000  \n",
      "50%      83.000000  \n",
      "75%      91.000000  \n",
      "max      115.000000 \n",
      "Name: Num_char, dtype: float64\n"
     ]
    },
    {
     "name": "stderr",
     "output_type": "stream",
     "text": [
      "E:\\Anaconda3\\envs\\data\\lib\\site-packages\\scipy\\stats\\stats.py:1713: FutureWarning: Using a non-tuple sequence for multidimensional indexing is deprecated; use `arr[tuple(seq)]` instead of `arr[seq]`. In the future this will be interpreted as an array index, `arr[np.array(seq)]`, which will result either in an error or a different result.\n",
      "  return np.add.reduce(sorted[indexer] * weights, axis=axis) / sumval\n"
     ]
    },
    {
     "data": {
      "text/plain": [
       "<matplotlib.axes._subplots.AxesSubplot at 0x1c4f9ff9320>"
      ]
     },
     "execution_count": 192,
     "metadata": {},
     "output_type": "execute_result"
    },
    {
     "data": {
      "image/png": "[encoded data removed]",
      "text/plain": [
       "<Figure size 648x432 with 1 Axes>"
      ]
     },
     "metadata": {
      "needs_background": "light"
     },
     "output_type": "display_data"
    }
   ],
   "source": [
    "print(tweets.Num_char.describe())\n",
    "plt.figure(figsize=(9, 6))\n",
    "sns.distplot(tweets['Num_char'])"
   ]
  },
  {
   "cell_type": "markdown",
   "metadata": {},
   "source": [
    "**if added a column containing the count of characters of eahc tweet exculding white spaces and url\n",
    "we can see that the num of characters in tweets ranges from 6-115 character , where the average number of characters is around 75 character per tweet**"
   ]
  },
  {
   "cell_type": "markdown",
   "metadata": {},
   "source": [
    "### multivariate analysis :\n",
    "\n",
    "#### what are the relations between different variables :\n",
    "\n",
    "##### * 1- relation between days of the week and retweets and favorite patterns (assuming more retweets at holidays)\n",
    "##### * 2-Are  higher rated images are more retweeted or liked ?\n",
    "##### * 3-Does tweets with emojis have more retweetes ?\n",
    "##### * 4- longer characters retweets are more favorited or retweeted ?\n",
    "##### * 5-  specific type of dog has higher numerator ? has more likes or retweets ?\n",
    "##### * 6- specific dog label has higher numerator ? has higher favorite and retweets count ?\n",
    " "
   ]
  },
  {
   "cell_type": "code",
   "execution_count": 193,
   "metadata": {},
   "outputs": [
    {
     "data": {
      "text/html": [
       "<div>\n",
       "<style scoped>\n",
       "    .dataframe tbody tr th:only-of-type {\n",
       "        vertical-align: middle;\n",
       "    }\n",
       "\n",
       "    .dataframe tbody tr th {\n",
       "        vertical-align: top;\n",
       "    }\n",
       "\n",
       "    .dataframe thead th {\n",
       "        text-align: right;\n",
       "    }\n",
       "</style>\n",
       "<table border=\"1\" class=\"dataframe\">\n",
       "  <thead>\n",
       "    <tr style=\"text-align: right;\">\n",
       "      <th></th>\n",
       "      <th>tweet_id</th>\n",
       "      <th>timestamp</th>\n",
       "      <th>source_of_tweet</th>\n",
       "      <th>text</th>\n",
       "      <th>expanded_urls</th>\n",
       "      <th>rating_numerator</th>\n",
       "      <th>rating_denominator</th>\n",
       "      <th>name</th>\n",
       "      <th>is_emoji</th>\n",
       "      <th>dog_1_label</th>\n",
       "      <th>...</th>\n",
       "      <th>Is_it_dog_1</th>\n",
       "      <th>Second_prediction</th>\n",
       "      <th>confidence_percent_2</th>\n",
       "      <th>Is_it_dog_2</th>\n",
       "      <th>Third_prediction</th>\n",
       "      <th>confidence_percent_3</th>\n",
       "      <th>Is_it_dog_3</th>\n",
       "      <th>year_of_tweet</th>\n",
       "      <th>month_of_tweet</th>\n",
       "      <th>Num_char</th>\n",
       "    </tr>\n",
       "  </thead>\n",
       "  <tbody>\n",
       "  </tbody>\n",
       "</table>\n",
       "<p>0 rows × 27 columns</p>\n",
       "</div>"
      ],
      "text/plain": [
       "Empty DataFrame\n",
       "Columns: [tweet_id, timestamp, source_of_tweet, text, expanded_urls, rating_numerator, rating_denominator, name, is_emoji, dog_1_label, dog_2_label, favorite_count, retweet_count, jpg_url, img_num, First_prediction, confidence_percent_1, Is_it_dog_1, Second_prediction, confidence_percent_2, Is_it_dog_2, Third_prediction, confidence_percent_3, Is_it_dog_3, year_of_tweet, month_of_tweet, Num_char]\n",
       "Index: []\n",
       "\n",
       "[0 rows x 27 columns]"
      ]
     },
     "execution_count": 193,
     "metadata": {},
     "output_type": "execute_result"
    }
   ],
   "source": [
    "tweets[tweets['rating_numerator'].isnull()]"
   ]
  },
  {
   "cell_type": "code",
   "execution_count": 194,
   "metadata": {},
   "outputs": [
    {
     "data": {
      "image/png": "[encoded data removed]",
      "text/plain": [
       "<Figure size 900x900 with 30 Axes>"
      ]
     },
     "metadata": {
      "needs_background": "light"
     },
     "output_type": "display_data"
    }
   ],
   "source": [
    "tweets[['rating_numerator','rating_denominator']]=tweets[['rating_numerator','rating_denominator']].fillna(-1)\n",
    "tweets[['month_of_tweet','year_of_tweet']]=tweets[['month_of_tweet','year_of_tweet']].astype(int)\n",
    "\n",
    "\n",
    "data=tweets[['favorite_count','retweet_count','month_of_tweet','year_of_tweet','rating_numerator']]\n",
    "g=sns.pairplot(data )"
   ]
  },
  {
   "cell_type": "code",
   "execution_count": 195,
   "metadata": {},
   "outputs": [
    {
     "data": {
      "text/html": [
       "<div>\n",
       "<style scoped>\n",
       "    .dataframe tbody tr th:only-of-type {\n",
       "        vertical-align: middle;\n",
       "    }\n",
       "\n",
       "    .dataframe tbody tr th {\n",
       "        vertical-align: top;\n",
       "    }\n",
       "\n",
       "    .dataframe thead th {\n",
       "        text-align: right;\n",
       "    }\n",
       "</style>\n",
       "<table border=\"1\" class=\"dataframe\">\n",
       "  <thead>\n",
       "    <tr style=\"text-align: right;\">\n",
       "      <th></th>\n",
       "      <th>favorite_count</th>\n",
       "      <th>retweet_count</th>\n",
       "      <th>month_of_tweet</th>\n",
       "      <th>year_of_tweet</th>\n",
       "      <th>rating_numerator</th>\n",
       "    </tr>\n",
       "  </thead>\n",
       "  <tbody>\n",
       "    <tr>\n",
       "      <th>favorite_count</th>\n",
       "      <td>True</td>\n",
       "      <td>True</td>\n",
       "      <td>False</td>\n",
       "      <td>True</td>\n",
       "      <td>False</td>\n",
       "    </tr>\n",
       "    <tr>\n",
       "      <th>retweet_count</th>\n",
       "      <td>True</td>\n",
       "      <td>True</td>\n",
       "      <td>False</td>\n",
       "      <td>True</td>\n",
       "      <td>False</td>\n",
       "    </tr>\n",
       "    <tr>\n",
       "      <th>month_of_tweet</th>\n",
       "      <td>False</td>\n",
       "      <td>False</td>\n",
       "      <td>True</td>\n",
       "      <td>False</td>\n",
       "      <td>False</td>\n",
       "    </tr>\n",
       "    <tr>\n",
       "      <th>year_of_tweet</th>\n",
       "      <td>True</td>\n",
       "      <td>True</td>\n",
       "      <td>False</td>\n",
       "      <td>True</td>\n",
       "      <td>False</td>\n",
       "    </tr>\n",
       "    <tr>\n",
       "      <th>rating_numerator</th>\n",
       "      <td>False</td>\n",
       "      <td>False</td>\n",
       "      <td>False</td>\n",
       "      <td>False</td>\n",
       "      <td>True</td>\n",
       "    </tr>\n",
       "  </tbody>\n",
       "</table>\n",
       "</div>"
      ],
      "text/plain": [
       "                  favorite_count  retweet_count  month_of_tweet  \\\n",
       "favorite_count    True            True           False            \n",
       "retweet_count     True            True           False            \n",
       "month_of_tweet    False           False          True             \n",
       "year_of_tweet     True            True           False            \n",
       "rating_numerator  False           False          False            \n",
       "\n",
       "                  year_of_tweet  rating_numerator  \n",
       "favorite_count    True           False             \n",
       "retweet_count     True           False             \n",
       "month_of_tweet    False          False             \n",
       "year_of_tweet     True           False             \n",
       "rating_numerator  False          True              "
      ]
     },
     "execution_count": 195,
     "metadata": {},
     "output_type": "execute_result"
    }
   ],
   "source": [
    "data.corr()>0.3"
   ]
  },
  {
   "cell_type": "markdown",
   "metadata": {},
   "source": [
    "**From tha pairplot matrix we can see that favorite count and retweet counts have some correlation**"
   ]
  },
  {
   "cell_type": "markdown",
   "metadata": {},
   "source": [
    "#### 1- relation between days of the week and retweets and favorite patterns (assuming more retweets at holidays)"
   ]
  },
  {
   "cell_type": "code",
   "execution_count": 197,
   "metadata": {},
   "outputs": [
    {
     "name": "stderr",
     "output_type": "stream",
     "text": [
      "E:\\Anaconda3\\envs\\data\\lib\\site-packages\\ipykernel\\__main__.py:3: SettingWithCopyWarning: \n",
      "A value is trying to be set on a copy of a slice from a DataFrame.\n",
      "Try using .loc[row_indexer,col_indexer] = value instead\n",
      "\n",
      "See the caveats in the documentation: http://pandas.pydata.org/pandas-docs/stable/indexing.html#indexing-view-versus-copy\n",
      "  app.launch_new_instance()\n"
     ]
    }
   ],
   "source": [
    "\n",
    "tweets['day_of_week']=tweets.timestamp.apply(lambda x : calendar.day_name[x.weekday()]).astype('category')\n",
    "tweets_no_outliers_quantile['day_of_week']=tweets_no_outliers_quantile.timestamp.apply(lambda x : calendar.day_name[x.weekday()]).astype('category')"
   ]
  },
  {
   "cell_type": "code",
   "execution_count": 198,
   "metadata": {},
   "outputs": [
    {
     "name": "stdout",
     "output_type": "stream",
     "text": [
      "count     1367  \n",
      "unique    7     \n",
      "top       Monday\n",
      "freq      224   \n",
      "Name: day_of_week, dtype: object\n"
     ]
    },
    {
     "data": {
      "text/plain": [
       "<matplotlib.axes._subplots.AxesSubplot at 0x1c4f9efbd30>"
      ]
     },
     "execution_count": 198,
     "metadata": {},
     "output_type": "execute_result"
    },
    {
     "data": {
      "image/png": "[encoded data removed]",
      "text/plain": [
       "<Figure size 648x432 with 1 Axes>"
      ]
     },
     "metadata": {
      "needs_background": "light"
     },
     "output_type": "display_data"
    }
   ],
   "source": [
    "print(tweets.day_of_week.describe())\n",
    "plt.figure(figsize=(9, 6))\n",
    "sns.countplot(x='day_of_week',data=tweets )"
   ]
  },
  {
   "cell_type": "code",
   "execution_count": 199,
   "metadata": {},
   "outputs": [
    {
     "data": {
      "text/plain": [
       "(0, 10000)"
      ]
     },
     "execution_count": 199,
     "metadata": {},
     "output_type": "execute_result"
    },
    {
     "data": {
      "image/png": "[encoded data removed]",
      "text/plain": [
       "<Figure size 648x432 with 1 Axes>"
      ]
     },
     "metadata": {
      "needs_background": "light"
     },
     "output_type": "display_data"
    }
   ],
   "source": [
    "plt.figure(figsize=(9, 6))\n",
    "ax=sns.boxplot(x='day_of_week',y='retweet_count',data=tweets_no_outliers_quantile )\n",
    "ax.set_ylim(0, 10000)"
   ]
  },
  {
   "cell_type": "markdown",
   "metadata": {},
   "source": [
    "**No significant increase in favorite or retweets rates on holidays , although some days have less retweets of the weratedogs account as saturday**"
   ]
  },
  {
   "cell_type": "markdown",
   "metadata": {},
   "source": [
    "#### 2- Are higher rated images are more retweeted or liked ?"
   ]
  },
  {
   "cell_type": "code",
   "execution_count": 203,
   "metadata": {},
   "outputs": [
    {
     "name": "stdout",
     "output_type": "stream",
     "text": [
      "10.0      314\n",
      "12.0      311\n",
      "11.0      261\n",
      "13.0      175\n",
      "9.0       97 \n",
      "8.0       67 \n",
      "7.0       35 \n",
      "6.0       22 \n",
      "14.0      20 \n",
      "5.0       19 \n",
      "3.0       13 \n",
      "4.0       13 \n",
      "2.0       5  \n",
      "1.0       4  \n",
      "1776.0    1  \n",
      "204.0     1  \n",
      "45.0      1  \n",
      "60.0      1  \n",
      "44.0      1  \n",
      "27.0      1  \n",
      "144.0     1  \n",
      "88.0      1  \n",
      "165.0     1  \n",
      "75.0      1  \n",
      "420.0     1  \n",
      "Name: rating_numerator, dtype: int64\n"
     ]
    },
    {
     "name": "stderr",
     "output_type": "stream",
     "text": [
      "E:\\Anaconda3\\envs\\data\\lib\\site-packages\\scipy\\stats\\stats.py:1713: FutureWarning: Using a non-tuple sequence for multidimensional indexing is deprecated; use `arr[tuple(seq)]` instead of `arr[seq]`. In the future this will be interpreted as an array index, `arr[np.array(seq)]`, which will result either in an error or a different result.\n",
      "  return np.add.reduce(sorted[indexer] * weights, axis=axis) / sumval\n"
     ]
    },
    {
     "data": {
      "text/plain": [
       "<seaborn.axisgrid.FacetGrid at 0x1c4fc1d4b00>"
      ]
     },
     "execution_count": 203,
     "metadata": {},
     "output_type": "execute_result"
    },
    {
     "data": {
      "image/png": "[encoded data removed]",
      "text/plain": [
       "<Figure size 360x360 with 1 Axes>"
      ]
     },
     "metadata": {
      "needs_background": "light"
     },
     "output_type": "display_data"
    }
   ],
   "source": [
    "print(tweets.rating_numerator.value_counts())\n",
    "\n",
    "#exsclude datapoints where denominator >15\n",
    "sns.catplot(x='rating_numerator',y='favorite_count',kind='bar',data=tweets_no_outliers_quantile[tweets_no_outliers_quantile['rating_numerator']<15])\n"
   ]
  },
  {
   "cell_type": "code",
   "execution_count": 205,
   "metadata": {},
   "outputs": [
    {
     "name": "stderr",
     "output_type": "stream",
     "text": [
      "E:\\Anaconda3\\envs\\data\\lib\\site-packages\\scipy\\stats\\stats.py:1713: FutureWarning: Using a non-tuple sequence for multidimensional indexing is deprecated; use `arr[tuple(seq)]` instead of `arr[seq]`. In the future this will be interpreted as an array index, `arr[np.array(seq)]`, which will result either in an error or a different result.\n",
      "  return np.add.reduce(sorted[indexer] * weights, axis=axis) / sumval\n"
     ]
    },
    {
     "data": {
      "text/plain": [
       "<seaborn.axisgrid.FacetGrid at 0x1c4fd354d68>"
      ]
     },
     "execution_count": 205,
     "metadata": {},
     "output_type": "execute_result"
    },
    {
     "data": {
      "image/png": "[encoded data removed]",
      "text/plain": [
       "<Figure size 360x360 with 1 Axes>"
      ]
     },
     "metadata": {
      "needs_background": "light"
     },
     "output_type": "display_data"
    }
   ],
   "source": [
    "sns.catplot(x='rating_numerator',y='retweet_count',kind='bar',data=tweets_no_outliers_quantile[tweets_no_outliers_quantile['rating_numerator']<15])\n"
   ]
  },
  {
   "cell_type": "code",
   "execution_count": 206,
   "metadata": {},
   "outputs": [
    {
     "data": {
      "text/plain": [
       "(0, 70000)"
      ]
     },
     "execution_count": 206,
     "metadata": {},
     "output_type": "execute_result"
    },
    {
     "data": {
      "image/png": "[encoded data removed]",
      "text/plain": [
       "<Figure size 1152x288 with 2 Axes>"
      ]
     },
     "metadata": {
      "needs_background": "light"
     },
     "output_type": "display_data"
    }
   ],
   "source": [
    "f,ax=plt.subplots(1,2,figsize=(16,4))\n",
    "ax = ax.ravel()\n",
    "ax1=sns.boxplot(x='rating_numerator',y='retweet_count',data=tweets_no_outliers_quantile[tweets_no_outliers_quantile['rating_numerator']<15],ax=ax[0])\n",
    "ax2=sns.boxplot(x='rating_numerator',y='favorite_count',data=tweets_no_outliers_quantile[tweets_no_outliers_quantile['rating_numerator']<15],ax=ax[1])\n",
    "ax1.set_ylim(0, 30000)\n",
    "ax2.set_ylim(0, 70000)"
   ]
  },
  {
   "cell_type": "markdown",
   "metadata": {},
   "source": [
    "**Seemingly higher rated images of dogs are more liked and retweeted for higher scores (8 up to 14 out of 10) , while this pattern is not evident in lower scores and for score of 1 a peak is found then are lower scores of animals not dogs ?**"
   ]
  },
  {
   "cell_type": "code",
   "execution_count": 207,
   "metadata": {},
   "outputs": [
    {
     "name": "stderr",
     "output_type": "stream",
     "text": [
      "E:\\Anaconda3\\envs\\data\\lib\\site-packages\\scipy\\stats\\stats.py:1713: FutureWarning: Using a non-tuple sequence for multidimensional indexing is deprecated; use `arr[tuple(seq)]` instead of `arr[seq]`. In the future this will be interpreted as an array index, `arr[np.array(seq)]`, which will result either in an error or a different result.\n",
      "  return np.add.reduce(sorted[indexer] * weights, axis=axis) / sumval\n"
     ]
    },
    {
     "data": {
      "text/plain": [
       "(0, 70000)"
      ]
     },
     "execution_count": 207,
     "metadata": {},
     "output_type": "execute_result"
    },
    {
     "data": {
      "image/png": "[encoded data removed]",
      "text/plain": [
       "<Figure size 1440x1080 with 4 Axes>"
      ]
     },
     "metadata": {
      "needs_background": "light"
     },
     "output_type": "display_data"
    }
   ],
   "source": [
    "f,ax=plt.subplots(2,2,figsize=(20,15))\n",
    "ax = ax.ravel()\n",
    "ax1=sns.barplot(x='rating_numerator',y='retweet_count',hue='Is_it_dog_1' ,data=tweets_no_outliers_quantile[tweets_no_outliers_quantile['rating_numerator']<15],ax=ax[0])\n",
    "ax2=sns.boxplot(x='rating_numerator',y='retweet_count',hue='Is_it_dog_1' ,data=tweets_no_outliers_quantile[tweets_no_outliers_quantile['rating_numerator']<15],ax=ax[1])\n",
    "ax2.set_ylim(0, 20000)\n",
    "ax3=sns.barplot(x='rating_numerator',y='favorite_count',hue='Is_it_dog_1' ,data=tweets_no_outliers_quantile[tweets_no_outliers_quantile['rating_numerator']<15],ax=ax[2])\n",
    "ax4=sns.boxplot(x='rating_numerator',y='favorite_count',hue='Is_it_dog_1' ,data=tweets_no_outliers_quantile[tweets_no_outliers_quantile['rating_numerator']<15],ax=ax[3])\n",
    "ax4.set_ylim(0, 70000)"
   ]
  },
  {
   "cell_type": "markdown",
   "metadata": {},
   "source": [
    "**whether the image have a dog on it or not doesn't seem significant of score given , but it seems for the same score the retweeted counts are higher for images for which the algorithm identified as there is no dogs on them**\n",
    "\n",
    "**for favorite counts that pattern doesn't hold**\n",
    "\n",
    "**-taking a sample of images that the algorithm chosen for having no dogs on them ,they are three types , an image where it is actually a dog but it is not clear from the background whether there is a dog or not even for humans and that is why they send it to weratedogs , misclassified images due to algorithm error and other animals-**\n"
   ]
  },
  {
   "cell_type": "markdown",
   "metadata": {},
   "source": [
    "#### 3-Does tweets with emojis have more retweetes ?"
   ]
  },
  {
   "cell_type": "code",
   "execution_count": 226,
   "metadata": {},
   "outputs": [
    {
     "name": "stdout",
     "output_type": "stream",
     "text": [
      "count     1185 \n",
      "unique    2    \n",
      "top       False\n",
      "freq      1177 \n",
      "Name: is_emoji, dtype: object\n"
     ]
    },
    {
     "data": {
      "text/plain": [
       "<matplotlib.axes._subplots.AxesSubplot at 0x1c4ff177630>"
      ]
     },
     "execution_count": 226,
     "metadata": {},
     "output_type": "execute_result"
    },
    {
     "data": {
      "image/png": "[encoded data removed]",
      "text/plain": [
       "<Figure size 1080x576 with 2 Axes>"
      ]
     },
     "metadata": {
      "needs_background": "light"
     },
     "output_type": "display_data"
    }
   ],
   "source": [
    "print(tweets['is_emoji'].describe())\n",
    "f,ax=plt.subplots(1,2,figsize=(15,8))\n",
    "ax = ax.ravel()\n",
    "sns.boxplot(x='is_emoji',y='favorite_count',data=tweets_no_outliers_quantile, palette=\"Set2\",ax=ax[0])\n",
    "sns.boxplot(x='is_emoji',y='retweet_count',data=tweets_no_outliers_quantile, palette=\"Set2\",ax=ax[1])\n"
   ]
  },
  {
   "cell_type": "markdown",
   "metadata": {},
   "source": [
    "**Tweets with emojis seems to have to more favorite and retweet counts**"
   ]
  },
  {
   "cell_type": "markdown",
   "metadata": {},
   "source": [
    "####  4- longer characters retweets are more favorited or retweeted ?"
   ]
  },
  {
   "cell_type": "code",
   "execution_count": 225,
   "metadata": {},
   "outputs": [
    {
     "name": "stdout",
     "output_type": "stream",
     "text": [
      "count    1367.000000\n",
      "mean     75.159473  \n",
      "std      21.907987  \n",
      "min      6.000000   \n",
      "25%      61.000000  \n",
      "50%      83.000000  \n",
      "75%      91.000000  \n",
      "max      115.000000 \n",
      "Name: Num_char, dtype: float64\n"
     ]
    },
    {
     "name": "stderr",
     "output_type": "stream",
     "text": [
      "E:\\Anaconda3\\envs\\data\\lib\\site-packages\\ipykernel\\__main__.py:5: MatplotlibDeprecationWarning: The set_color_cycle function was deprecated in version 1.5. Use `.set_prop_cycle` instead.\n",
      "E:\\Anaconda3\\envs\\data\\lib\\site-packages\\ipykernel\\__main__.py:6: MatplotlibDeprecationWarning: The set_color_cycle function was deprecated in version 1.5. Use `.set_prop_cycle` instead.\n",
      "E:\\Anaconda3\\envs\\data\\lib\\site-packages\\scipy\\stats\\stats.py:1713: FutureWarning: Using a non-tuple sequence for multidimensional indexing is deprecated; use `arr[tuple(seq)]` instead of `arr[seq]`. In the future this will be interpreted as an array index, `arr[np.array(seq)]`, which will result either in an error or a different result.\n",
      "  return np.add.reduce(sorted[indexer] * weights, axis=axis) / sumval\n"
     ]
    },
    {
     "data": {
      "text/plain": [
       "<matplotlib.axes._subplots.AxesSubplot at 0x1c4ff100e48>"
      ]
     },
     "execution_count": 225,
     "metadata": {},
     "output_type": "execute_result"
    },
    {
     "data": {
      "image/png": "[encoded data removed]",
      "text/plain": [
       "<Figure size 1080x432 with 2 Axes>"
      ]
     },
     "metadata": {
      "needs_background": "light"
     },
     "output_type": "display_data"
    }
   ],
   "source": [
    "print(tweets.Num_char.describe())\n",
    "f,ax=plt.subplots(1,2,figsize=(15,6))\n",
    "ax = ax.ravel()\n",
    "colors = sns.color_palette('hls')\n",
    "ax[0].set_color_cycle(colors)\n",
    "ax[1].set_color_cycle(colors)\n",
    "sns.regplot(x='Num_char',y='favorite_count',data=tweets_no_outliers_quantile,ax=ax[0],line_kws = {'color':'purple'})\n",
    "sns.regplot(x='Num_char',y='retweet_count',data=tweets_no_outliers_quantile,ax=ax[1],line_kws = {'color':'purple'})"
   ]
  },
  {
   "cell_type": "markdown",
   "metadata": {},
   "source": [
    "####  5- Are higher scores linked to a specific type of a dog? Do higher favorite and retweets count have a link too  ?"
   ]
  },
  {
   "cell_type": "code",
   "execution_count": 212,
   "metadata": {},
   "outputs": [
    {
     "data": {
      "text/plain": [
       "Index(['tweet_id', 'timestamp', 'source_of_tweet', 'text', 'expanded_urls',\n",
       "       'rating_numerator', 'rating_denominator', 'name', 'is_emoji',\n",
       "       'dog_1_label', 'dog_2_label', 'favorite_count', 'retweet_count',\n",
       "       'jpg_url', 'img_num', 'First_prediction', 'confidence_percent_1',\n",
       "       'Is_it_dog_1', 'Second_prediction', 'confidence_percent_2',\n",
       "       'Is_it_dog_2', 'Third_prediction', 'confidence_percent_3',\n",
       "       'Is_it_dog_3', 'year_of_tweet', 'month_of_tweet', 'Num_char',\n",
       "       'day_of_week'],\n",
       "      dtype='object')"
      ]
     },
     "execution_count": 212,
     "metadata": {},
     "output_type": "execute_result"
    }
   ],
   "source": [
    "tweets_no_outliers_quantile.columns"
   ]
  },
  {
   "cell_type": "code",
   "execution_count": 214,
   "metadata": {},
   "outputs": [
    {
     "name": "stderr",
     "output_type": "stream",
     "text": [
      "E:\\Anaconda3\\envs\\data\\lib\\site-packages\\ipykernel\\__main__.py:3: SettingWithCopyWarning: \n",
      "A value is trying to be set on a copy of a slice from a DataFrame.\n",
      "Try using .loc[row_indexer,col_indexer] = value instead\n",
      "\n",
      "See the caveats in the documentation: http://pandas.pydata.org/pandas-docs/stable/indexing.html#indexing-view-versus-copy\n",
      "  app.launch_new_instance()\n"
     ]
    }
   ],
   "source": [
    "top_15_dogs=tweets_no_outliers_quantile.First_prediction.value_counts(sort=True)[:15].index.astype('str')\n",
    "data=tweets_no_outliers_quantile[tweets_no_outliers_quantile['First_prediction'].isin(top_15_dogs)]\n",
    "data['First_prediction']=data['First_prediction'].astype(str).astype('category')"
   ]
  },
  {
   "cell_type": "code",
   "execution_count": 215,
   "metadata": {},
   "outputs": [
    {
     "name": "stderr",
     "output_type": "stream",
     "text": [
      "E:\\Anaconda3\\envs\\data\\lib\\site-packages\\ipykernel\\__main__.py:4: MatplotlibDeprecationWarning: The set_color_cycle function was deprecated in version 1.5. Use `.set_prop_cycle` instead.\n",
      "E:\\Anaconda3\\envs\\data\\lib\\site-packages\\scipy\\stats\\stats.py:1713: FutureWarning: Using a non-tuple sequence for multidimensional indexing is deprecated; use `arr[tuple(seq)]` instead of `arr[seq]`. In the future this will be interpreted as an array index, `arr[np.array(seq)]`, which will result either in an error or a different result.\n",
      "  return np.add.reduce(sorted[indexer] * weights, axis=axis) / sumval\n"
     ]
    },
    {
     "data": {
      "text/plain": [
       "[Text(0,0,'Chesapeake_Bay_retriever'),\n",
       " Text(0,0,'Chihuahua'),\n",
       " Text(0,0,'French_bulldog'),\n",
       " Text(0,0,'Labrador_retriever'),\n",
       " Text(0,0,'Pembroke'),\n",
       " Text(0,0,'Pomeranian'),\n",
       " Text(0,0,'Samoyed'),\n",
       " Text(0,0,'Shih-Tzu'),\n",
       " Text(0,0,'beagle'),\n",
       " Text(0,0,'chow'),\n",
       " Text(0,0,'cocker_spaniel'),\n",
       " Text(0,0,'golden_retriever'),\n",
       " Text(0,0,'malamute'),\n",
       " Text(0,0,'pug'),\n",
       " Text(0,0,'toy_poodle')]"
      ]
     },
     "execution_count": 215,
     "metadata": {},
     "output_type": "execute_result"
    },
    {
     "data": {
      "image/png": "[encoded data removed]",
      "text/plain": [
       "<Figure size 720x576 with 1 Axes>"
      ]
     },
     "metadata": {
      "needs_background": "light"
     },
     "output_type": "display_data"
    }
   ],
   "source": [
    "f,ax=plt.subplots(1,1,figsize=(10,8))\n",
    "\n",
    "colors = sns.color_palette('hls')\n",
    "ax.set_color_cycle(colors)\n",
    "\n",
    "\n",
    "ax1=sns.barplot(y='rating_numerator',x='First_prediction',data=data)\n",
    "loc, labels = plt.xticks()\n",
    "ax1.set_xticklabels(labels, rotation=90)"
   ]
  },
  {
   "cell_type": "code",
   "execution_count": 216,
   "metadata": {},
   "outputs": [
    {
     "name": "stderr",
     "output_type": "stream",
     "text": [
      "E:\\Anaconda3\\envs\\data\\lib\\site-packages\\ipykernel\\__main__.py:4: MatplotlibDeprecationWarning: The set_color_cycle function was deprecated in version 1.5. Use `.set_prop_cycle` instead.\n",
      "E:\\Anaconda3\\envs\\data\\lib\\site-packages\\ipykernel\\__main__.py:5: MatplotlibDeprecationWarning: The set_color_cycle function was deprecated in version 1.5. Use `.set_prop_cycle` instead.\n",
      "E:\\Anaconda3\\envs\\data\\lib\\site-packages\\scipy\\stats\\stats.py:1713: FutureWarning: Using a non-tuple sequence for multidimensional indexing is deprecated; use `arr[tuple(seq)]` instead of `arr[seq]`. In the future this will be interpreted as an array index, `arr[np.array(seq)]`, which will result either in an error or a different result.\n",
      "  return np.add.reduce(sorted[indexer] * weights, axis=axis) / sumval\n"
     ]
    },
    {
     "data": {
      "text/plain": [
       "[Text(0,0,'Chesapeake_Bay_retriever'),\n",
       " Text(0,0,'Chihuahua'),\n",
       " Text(0,0,'French_bulldog'),\n",
       " Text(0,0,'Labrador_retriever'),\n",
       " Text(0,0,'Pembroke'),\n",
       " Text(0,0,'Pomeranian'),\n",
       " Text(0,0,'Samoyed'),\n",
       " Text(0,0,'Shih-Tzu'),\n",
       " Text(0,0,'beagle'),\n",
       " Text(0,0,'chow'),\n",
       " Text(0,0,'cocker_spaniel'),\n",
       " Text(0,0,'golden_retriever'),\n",
       " Text(0,0,'malamute'),\n",
       " Text(0,0,'pug'),\n",
       " Text(0,0,'toy_poodle')]"
      ]
     },
     "execution_count": 216,
     "metadata": {},
     "output_type": "execute_result"
    },
    {
     "data": {
      "image/png": "[encoded data removed]",
      "text/plain": [
       "<Figure size 1440x1080 with 2 Axes>"
      ]
     },
     "metadata": {
      "needs_background": "light"
     },
     "output_type": "display_data"
    }
   ],
   "source": [
    "f,ax=plt.subplots(1,2,figsize=(20,15))\n",
    "ax=ax.ravel()\n",
    "colors = sns.color_palette('hls')\n",
    "ax[0].set_color_cycle(colors)\n",
    "ax[1].set_color_cycle(colors)\n",
    "\n",
    "ax1=sns.barplot(y='favorite_count',x='First_prediction',data=data,ax=ax[0])\n",
    "ax2=sns.barplot(y='retweet_count',x='First_prediction',data=data,ax=ax[1])\n",
    "loc, labels = plt.xticks()\n",
    "ax1.set_xticklabels(labels, rotation=90)\n",
    "ax2.set_xticklabels(labels, rotation=90)"
   ]
  },
  {
   "cell_type": "markdown",
   "metadata": {},
   "source": [
    "**There is no specific type of dog that had a higher rating given by weratedogs account than others \n",
    "But there are 2 types that top the favorite and retweet counts the French_bulldog and the Samoyed**"
   ]
  },
  {
   "cell_type": "markdown",
   "metadata": {},
   "source": [
    "####  6- specific dog label has higher numerator ? has higher favorite and retweets count ?"
   ]
  },
  {
   "cell_type": "code",
   "execution_count": 219,
   "metadata": {},
   "outputs": [
    {
     "name": "stderr",
     "output_type": "stream",
     "text": [
      "E:\\Anaconda3\\envs\\data\\lib\\site-packages\\ipykernel\\__main__.py:3: MatplotlibDeprecationWarning: The set_color_cycle function was deprecated in version 1.5. Use `.set_prop_cycle` instead.\n",
      "  app.launch_new_instance()\n"
     ]
    },
    {
     "data": {
      "text/plain": [
       "<matplotlib.axes._subplots.AxesSubplot at 0x1c4fc193550>"
      ]
     },
     "execution_count": 219,
     "metadata": {},
     "output_type": "execute_result"
    },
    {
     "data": {
      "image/png": "[encoded data removed]",
      "text/plain": [
       "<Figure size 720x648 with 1 Axes>"
      ]
     },
     "metadata": {
      "needs_background": "light"
     },
     "output_type": "display_data"
    }
   ],
   "source": [
    "f,ax=plt.subplots(1,1,figsize=(10,9))\n",
    "colors = sns.color_palette('hls')\n",
    "ax.set_color_cycle(colors)\n",
    "sns.boxplot(y='rating_numerator',x='dog_1_label',data=tweets_no_outliers_quantile)"
   ]
  },
  {
   "cell_type": "code",
   "execution_count": 224,
   "metadata": {},
   "outputs": [
    {
     "name": "stderr",
     "output_type": "stream",
     "text": [
      "E:\\Anaconda3\\envs\\data\\lib\\site-packages\\ipykernel\\__main__.py:4: MatplotlibDeprecationWarning: The set_color_cycle function was deprecated in version 1.5. Use `.set_prop_cycle` instead.\n",
      "E:\\Anaconda3\\envs\\data\\lib\\site-packages\\ipykernel\\__main__.py:5: MatplotlibDeprecationWarning: The set_color_cycle function was deprecated in version 1.5. Use `.set_prop_cycle` instead.\n"
     ]
    },
    {
     "data": {
      "image/png": "[encoded data removed]",
      "text/plain": [
       "<Figure size 1080x576 with 2 Axes>"
      ]
     },
     "metadata": {
      "needs_background": "light"
     },
     "output_type": "display_data"
    }
   ],
   "source": [
    "f,ax=plt.subplots(1,2,figsize=(15,8))\n",
    "ax=ax.ravel()\n",
    "colors = sns.color_palette('hls')\n",
    "ax[0].set_color_cycle(colors)\n",
    "ax[1].set_color_cycle(colors)\n",
    "\n",
    "ax1=sns.boxplot(y='favorite_count',x='dog_1_label',data=tweets_no_outliers_quantile,ax=ax[0])\n",
    "ax2=sns.boxplot(y='retweet_count',x='dog_1_label',data=tweets_no_outliers_quantile,ax=ax[1])\n"
   ]
  },
  {
   "cell_type": "markdown",
   "metadata": {},
   "source": [
    "**The pupppo and doggo dog-labels achieved higher scores , favorite and retweet count for puppo dog_label were the highest** "
   ]
  },
  {
   "cell_type": "code",
   "execution_count": null,
   "metadata": {},
   "outputs": [],
   "source": []
  }
 ],
 "metadata": {
  "kernelspec": {
   "display_name": "Python [conda env:data]",
   "language": "python",
   "name": "conda-env-data-py"
  },
  "language_info": {
   "codemirror_mode": {
    "name": "ipython",
    "version": 3
   },
   "file_extension": ".py",
   "mimetype": "text/x-python",
   "name": "python",
   "nbconvert_exporter": "python",
   "pygments_lexer": "ipython3",
   "version": "3.5.6"
  }
 },
 "nbformat": 4,
 "nbformat_minor": 2
}
